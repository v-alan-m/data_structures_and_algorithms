{
 "cells": [
  {
   "cell_type": "markdown",
   "metadata": {},
   "source": [
    "## 8. Graph"
   ]
  },
  {
   "cell_type": "markdown",
   "metadata": {},
   "source": [
    "## Introduction"
   ]
  },
  {
   "cell_type": "markdown",
   "metadata": {},
   "source": [
    "* Graphs are a more general structure than trees\n",
    "    * Trees are a type of graph  \n",
    "<br></br>\n",
    "* Graphs can be used to represent: \n",
    "    * Roads\n",
    "    * Airline flights from city to city\n",
    "    * How the internet is connected  \n",
    "<br></br>\n",
    "* Once the problem can be represented, standard graph algorithms can be used to solve the problem, with less complexity and quicker"
   ]
  },
  {
   "cell_type": "markdown",
   "metadata": {},
   "source": [
    "### Components"
   ]
  },
  {
   "cell_type": "markdown",
   "metadata": {},
   "source": [
    "* **Vertex** also known as a **node**\n",
    "* The vertex that can be named: **key**\n",
    "* If a vertex has additional information attached to it's key: **payload**  \n",
    "<br></br>\n",
    "* An **Edge** connects two vertices to show that there is a relationship between them\n",
    "    * Edges can be **one-way** or *two -way*\n",
    "        * If all the edges are one-way then the graph is a **directed graph**/**digraph**\n",
    "            * E.g Digraph: College classes that must be completed sequentially \n",
    "    * **Wieghted edges** - There is a cost to go from one vertex to another\n",
    "        * E.g. In a graph with the roads the wieght may represent the distance  \n",
    "<br></br>\n",
    "* A graph can be represented by **G**, where **G = (V,E)**\n",
    "    * **V** = Set of vertices\n",
    "    * **E** = Set od edges\n",
    "* Each edge is a tuple (v,w) or (v,w,x), where v,w ∈ V\n",
    "    * **Non-wieghted** = (v,w)\n",
    "    * **Wieghted** = (v,w,x)\n",
    "* A subgraph **s**, is a set of edges **e** and vertices **v** such that:\n",
    "    * **e ⊂ E**\n",
    "    * **v ⊂ V**  \n",
    "    \n",
    "<img src = \"pics/graphs_intro_1.png\">\n",
    " <br></br>\n",
    " \n",
    " * A **path** is a sequnce of vertices that are connected by edges\n",
    "     * Defined as, w<sub>1</sub>,w<sub>2</sub>,...w<sub>n</sub> such that (w<sub>i</sub>,w<sub>i+1</sub>) ∈ E, for all 1 ≤ i ≤ n-1\n",
    " * Path from **V3** to **V1**:\n",
    "     * Vertices: **{V3,V4,V0,V1}**\n",
    "     * Edges: **{(v3,v4,7),(v4,v0,1),(v0,v1,5)}**\n",
    " * A**cycle** in a directed graph, is a path that starts and ends at the same vertex\n",
    "     * A graph with no cycles is called an **acyclic graph**\n",
    "     * A directed graph with no cycles is called an **directed acyclic graph** or **DAG**\n",
    "     * An example of a path: **(V5,V2,V3,V5)**\n",
    "     "
   ]
  },
  {
   "cell_type": "markdown",
   "metadata": {},
   "source": [
    "## Adjacency Matrix and Adjacency List"
   ]
  },
  {
   "cell_type": "markdown",
   "metadata": {},
   "source": [
    "Represent graphs:\n",
    "* **Adjacency Matrix**\n",
    "* **Adjacentcy List**  "
   ]
  },
  {
   "cell_type": "markdown",
   "metadata": {},
   "source": [
    "### Adjacency Matrix"
   ]
  },
  {
   "cell_type": "markdown",
   "metadata": {},
   "source": [
    "* Two dimensional matrix\n",
    "* Each of the **rows** and **columns** in the matrix represent a **vertex** in the graph \n",
    "* A **value is stored** in the intersection of a row **v** and Column **w**\n",
    "    * This indicates the **presence of an edge** between the vertices **v** and **w**\n",
    "* Two vertices are **adjacent** if they are connected by an edge  \n",
    "\n",
    "<img src = \"pics/graph_adj_1.png\">\n",
    "\n",
    "<br></br>\n",
    "* It's simple to constuct\n",
    "* For small graphs it is easy to see which nodes are connected to other nodes  \n",
    "* If most of the cells are empty the matric is said to **sparse**\n",
    "    * A matrix is not an efficient way to store sparse-data\n",
    "    \n",
    "<br></br>    \n",
    " * The adjacency matric is suitable for use when the number of edges is high\n",
    " * Since every vertex has a column and a row, the number of edges required to fill the matrix is **|V|<sup>2</sup>**\n",
    "     * I.e the matrix is full when every vertex is connected to every other vertex in the graph"
   ]
  },
  {
   "cell_type": "markdown",
   "metadata": {},
   "source": [
    "### Adjacentcy List"
   ]
  },
  {
   "cell_type": "markdown",
   "metadata": {},
   "source": [
    "* A more space-efficient way to implement a sparsely connected graph\n",
    "* Create a master list of all the vertix objects, in the graph object\n",
    "    * Then each vertex object in the graph maintains a list of the other vertices that it is connected to\n",
    "* A dictionary can also be used: \n",
    "    * Dictionary keys = vertices\n",
    "    * Dictionary values = weights  \n",
    "\n",
    "<img src = \"pics/graph_adj_2.png\">\n",
    "\n",
    "<br></br>\n",
    "* Using adjacentcy lists we are **not storing empty data** so this is a far **more space-efficient** way of storing the data, than using the **adjacentcy matrix**\n",
    "    * I.e It allows us to **compactly represent a sparse graph**\n",
    "* It is **easy to locate all the vertices** that are **directly connected to a particular vertex**"
   ]
  },
  {
   "cell_type": "markdown",
   "metadata": {},
   "source": [
    "## Implementation of a Graph (Adjacency List)"
   ]
  },
  {
   "cell_type": "code",
   "execution_count": 107,
   "metadata": {},
   "outputs": [],
   "source": [
    "class Vertex:\n",
    "    \n",
    "    def __init__(self,key):\n",
    "        self.id = key\n",
    "        self.connected_to = {}    # {id:wieght}\n",
    "    \n",
    "    def add_neighbour(self,nbr,weight=0):\n",
    "        self.connected_to[nbr] = weight\n",
    "    \n",
    "    def get_connections(self):\n",
    "        return self.connected_to.keys()\n",
    "    \n",
    "    def get_id(self):\n",
    "        return self.id\n",
    "    \n",
    "    def get_weight(self,nbr):\n",
    "        return self.connected_to[nbr]\n",
    "    \n",
    "    # String representation, when you print this (Vertex) object\n",
    "    def __str__(self): \n",
    "    # x to iterate through the dict_keys, then x.id to find the objects' key value  \n",
    "        return str(self.id)+' is connected to: '+ str([x.id for x in self.connected_to])"
   ]
  },
  {
   "cell_type": "markdown",
   "metadata": {},
   "source": [
    "* Implement a Graph, as an Adjacency List.\n",
    "    * Define the methods the Adjacency List object  \n",
    "<br></br>\n",
    "* **Graph():** creates a new, empty graph  \n",
    "<br></br>\n",
    "* **addVertex(vert):** adds an instance of Vertex to the graph  \n",
    "<br></br>\n",
    "* **addEdge(fromVert, toVert):** Adds a new, directed edge to the graph to connects two vertices  \n",
    "<br></br>\n",
    "* **addEdge(fromVert, toVert, weight):** Adds a new, weighted, directed edge to the graph that connects two vertices  \n",
    "<br></br>\n",
    "* **getVertex(vertKey):** finds the vertex in the graph named vertKey  \n",
    "<br></br>\n",
    "* **getVertices():** returns the list of all vertices in the graph  \n",
    "<br></br>\n",
    "* **in:** returns True for a statement of the form vertex in graph, if the given vertex is in the graph, False otherwise"
   ]
  },
  {
   "cell_type": "markdown",
   "metadata": {},
   "source": [
    "* Vertexs are connected to create a graph"
   ]
  },
  {
   "cell_type": "code",
   "execution_count": 119,
   "metadata": {},
   "outputs": [],
   "source": [
    "class Graph:\n",
    "    def __init__(self):\n",
    "        # The vert_list is using a dictionary. to avoid using lists within lists\n",
    "        self.vert_list = {}     \n",
    "        self.num_vertices = 0   # Vertex counter\n",
    "        \n",
    "    def add_vertex(self,key):\n",
    "        self.num_vertices += 1\n",
    "        new_vertex = Vertex(key)\n",
    "        self.vert_list[key] = new_vertex\n",
    "    \n",
    "    def get_vertex(self,n):\n",
    "        if n in self.vert_list:\n",
    "            return self.vert_list[n]\n",
    "        else:\n",
    "            return None\n",
    "    \n",
    "    def add_edge(self,f,t,cost=0):    # The cost will be the wieght\n",
    "        if f not in self.vert_list:\n",
    "            nv = self.add_vertex(f)    # If the from vertex does not exist, create it\n",
    "        if t not in self.vert_list:\n",
    "            nv = self.add_vertex(t)    # If the to vertex does not exist, create it\n",
    "        \n",
    "        self.vert_list[f].add_neighbour(self.vert_list[t],cost)\n",
    "        \n",
    "    def get_vertices(self):\n",
    "        return self.vert_list.keys()\n",
    "    \n",
    "    def __iter__(self):    # Will allow this (Graph) object, to be iterable\n",
    "        # Define what will happen when iterating through this object\n",
    "        return iter(self.vert_list.values())\n",
    "    \n",
    "    def __contains__(self,n):\n",
    "        return n in self.vert_list"
   ]
  },
  {
   "cell_type": "code",
   "execution_count": 120,
   "metadata": {},
   "outputs": [],
   "source": [
    "g = Graph()"
   ]
  },
  {
   "cell_type": "code",
   "execution_count": 121,
   "metadata": {},
   "outputs": [],
   "source": [
    "for i in range(6):\n",
    "    g.add_vertex(i)"
   ]
  },
  {
   "cell_type": "code",
   "execution_count": 122,
   "metadata": {},
   "outputs": [
    {
     "data": {
      "text/plain": [
       "{0: <__main__.Vertex at 0x25affbd6748>,\n",
       " 1: <__main__.Vertex at 0x25affbb4048>,\n",
       " 2: <__main__.Vertex at 0x25affab2748>,\n",
       " 3: <__main__.Vertex at 0x25affab20c8>,\n",
       " 4: <__main__.Vertex at 0x25affab2288>,\n",
       " 5: <__main__.Vertex at 0x25affaa8488>}"
      ]
     },
     "execution_count": 122,
     "metadata": {},
     "output_type": "execute_result"
    }
   ],
   "source": [
    "g.vert_list"
   ]
  },
  {
   "cell_type": "code",
   "execution_count": 123,
   "metadata": {},
   "outputs": [],
   "source": [
    "g.add_edge(0,1,5)"
   ]
  },
  {
   "cell_type": "code",
   "execution_count": 124,
   "metadata": {},
   "outputs": [
    {
     "name": "stdout",
     "output_type": "stream",
     "text": [
      "0 is connected to: [1]\n",
      "dict_keys([<__main__.Vertex object at 0x0000025AFFBB4048>])\n",
      "\n",
      "\n",
      "1 is connected to: []\n",
      "dict_keys([])\n",
      "\n",
      "\n",
      "2 is connected to: []\n",
      "dict_keys([])\n",
      "\n",
      "\n",
      "3 is connected to: []\n",
      "dict_keys([])\n",
      "\n",
      "\n",
      "4 is connected to: []\n",
      "dict_keys([])\n",
      "\n",
      "\n",
      "5 is connected to: []\n",
      "dict_keys([])\n",
      "\n",
      "\n"
     ]
    }
   ],
   "source": [
    "for vertex in g:\n",
    "    print(vertex)    # Using the special method string representation\n",
    "    print(vertex.get_connections())    # Using the get_connections() method\n",
    "    print('\\n')    # New line"
   ]
  },
  {
   "cell_type": "markdown",
   "metadata": {},
   "source": [
    "* Only one edge was created, which can be seen: \n",
    "    * Vertex 0 to vertex 1"
   ]
  },
  {
   "cell_type": "markdown",
   "metadata": {},
   "source": [
    "## Word Ladder Example Problem"
   ]
  },
  {
   "cell_type": "markdown",
   "metadata": {},
   "source": [
    "* Transform the word \"FOOL\" into the word \"SAGE\"\n",
    "* In a word ladder puzzle you must make the chnage happen gradually\n",
    "    * *By changing one letter at a time*\n",
    "* At each step the word must be transformed into another word\n",
    "    * *The word cannot be tranformed into a non-word*"
   ]
  },
  {
   "cell_type": "markdown",
   "metadata": {},
   "source": [
    "* Represent the relationships between the words as a graph\n",
    "* Use the graph alogorithm known as **breadth first search**\n",
    "    * To find an efficient path from the starting word to the ending word"
   ]
  },
  {
   "cell_type": "markdown",
   "metadata": {},
   "source": [
    "* Figure out how to turn a large collection of words into a graph\n",
    "* What we would like is to have an edge from one word to another\n",
    "    * Only if the words are different by one letter\n",
    "* Then any path from one word to another is a solution, to the word ladder puzzle"
   ]
  },
  {
   "cell_type": "markdown",
   "metadata": {},
   "source": [
    "* Undirected graph (the edge connects the vertices in both directions)\n",
    "\n",
    "<img src=\"pics/word_ladder_1.png\">"
   ]
  },
  {
   "cell_type": "markdown",
   "metadata": {},
   "source": [
    "* For a large collection of words each word would have to be compared to each other\n",
    "    * Leading to a complexity of **n<sup>2</sup>**\n",
    "* Rather than doing that the words can be grouped\n",
    "    * Group words that only have **1 letter different** but **all other letters are the same**\n",
    "\n",
    "<img src=\"pics/word_ladder_2.png\">\n",
    "\n",
    "* The words are placed into their correct group\n",
    "* We can now know that the words in each group are connected\n",
    "    * Creating the graph using groups, allows for more efficient searching"
   ]
  },
  {
   "cell_type": "markdown",
   "metadata": {},
   "source": [
    "* In python the group scheme can be implemented using a dictionary:\n",
    "    * **Key**: The group label\n",
    "    * **Value**: A list of the words that fall into that group  \n",
    "<br></br>\n",
    "* Once we have the dictionary built we can create the graph\n",
    "    * Create a vertex for each word in the graph\n",
    "    * Create edges between all the words in the same group"
   ]
  },
  {
   "cell_type": "code",
   "execution_count": 132,
   "metadata": {},
   "outputs": [],
   "source": [
    "def buildGraph(wordFile):\n",
    "    d = {}\n",
    "    g = Graph()\n",
    "    \n",
    "    wfile = open(wordFile,'r')\n",
    "    # create groups of words that differ by one letter\n",
    "    for line in wfile:\n",
    "        print(line)\n",
    "        word = line[:-1]\n",
    "        print(word)\n",
    "        for i in range(len(word)):\n",
    "            group = word[:i] + '_' + word[i+1:]\n",
    "            # Check if there is already a word stored as a value\n",
    "            if group in d:\n",
    "                # Add this word, to the list of values, for this group\n",
    "                d[group].append(word)\n",
    "            # If there are no words stored, as values, for this groip\n",
    "            else:\n",
    "                # Add a word, as a value, to this group\n",
    "                d[group] = [word]\n",
    "    # Add vertices and edges for words in the same group\n",
    "    for group in d.keys():\n",
    "        for word1 in d[group]:\n",
    "            for word2 in d[group]:\n",
    "                # We do not want to create an edge when word2 loops to itself\n",
    "                if word1 != word2:\n",
    "                    g.addEdge(word1,word2)    # Connect the vertices with an edge\n",
    "    return g"
   ]
  },
  {
   "cell_type": "markdown",
   "metadata": {},
   "source": [
    "* Linked lists can only have 2 pointers, graphs can have have more\n",
    "* Linked list are data structures in computer science and a graph is a math abstraction  \n",
    "<br></br>\n",
    "* Graphs are build in different ways, to solve different problems\n",
    "    * In order to increase the efficiency in finding solutions"
   ]
  },
  {
   "cell_type": "markdown",
   "metadata": {},
   "source": [
    "## Breadth First Search (BFS)"
   ]
  },
  {
   "cell_type": "markdown",
   "metadata": {},
   "source": [
    "* Given a graph **G** and a starting vertex **s**\n",
    "* A breadth first search explores using the edges\n",
    "    * All the vertices in **G**, for which there is a path from **s**  \n",
    "<br></br>\n",
    "* All the vertices that are distance **k** from s are explored first\n",
    "* Then all the vertices that are distance **k+1** from **s** are explored\n",
    "    * A.k.a  Find the children of a given vertex then the grandchildren  \n",
    "<br></br>\n",
    "* Can be visualised as building a tree, level by level"
   ]
  },
  {
   "cell_type": "markdown",
   "metadata": {},
   "source": [
    "### Visualisation\n",
    "* All the initialised undiscovered vertices are **white**\n",
    "* When a vertex is intially discovered it is colored **grey**\n",
    "* When the algorithm has completely explored a vertex it is colored **black**"
   ]
  },
  {
   "cell_type": "markdown",
   "metadata": {},
   "source": [
    "### Setup\n",
    "1. BFS starts at the starting vertex **s**\n",
    "    * The vertex is grey to show that it's currently being expplored\n",
    "2. Two variables are intialised:\n",
    "    * Distance = 0\n",
    "    * predecessor = None\n",
    "3. Start vertex **s** is placed on a queue\n",
    "4. Start exploring vertices at the front of the queue\n",
    "5. Explore each new node at the front of the queue, by iterating over it's adjacency list\n",
    "    * As each node on the adjacency list is examined it's colour is checked\n",
    "        * If white (unexplored) four steps take place  \n",
    "            1. The new unexplored vertex **nbr** is colored grey  \n",
    "            2. The predecessor of **nbr** is set to the current node **variable currentVert**  \n",
    "            3. The distance to **nbr** is set to the the **currentVert** + 1\n",
    "            4. Add **nbr** to the end of the queue\n",
    "                * Schedules **nbr** for futher exploration\n",
    "                    * After exploring the other vertices on the **currentVert**'s adjacency list"
   ]
  },
  {
   "cell_type": "markdown",
   "metadata": {},
   "source": [
    "### Example code (only to show general idea)"
   ]
  },
  {
   "cell_type": "code",
   "execution_count": 134,
   "metadata": {},
   "outputs": [],
   "source": [
    "def bfs(g,start):\n",
    "    start.set_distance(0)\n",
    "    start.set_pred(None)\n",
    "    vert_queue()\n",
    "    vert_queue.enqueue(start)\n",
    "    while (vert_queue.size() > 0):\n",
    "        current_vert = vert_queue.dequeue()\n",
    "        for nbr in current_vert.get_connections():\n",
    "            if (nbr.color() == 'white'):\n",
    "                nbr.set_color('grey')\n",
    "                # Get the distance to the current_vert and add  (grandchild) \n",
    "                nbr.set_distance(current_vert.get_distance() + 1)\n",
    "                # Set the predecessor of nbr as the current_vert\n",
    "                nbr.set_pred(current_vert)\n",
    "                # Add any new undiscovered (white) vertices to the queue\n",
    "                vert_queue.enqueue(nbr)\n",
    "            # After exploring all the connections for the current_vert, colour it black\n",
    "            current_vert.set_color('black')"
   ]
  },
  {
   "cell_type": "markdown",
   "metadata": {},
   "source": [
    "<img src=\"pics/word_ladder_1.png\">"
   ]
  },
  {
   "cell_type": "markdown",
   "metadata": {},
   "source": [
    "1. The staring word is *fool*\n",
    "2. Take all the adjacent words to *fool*\n",
    "3. These vertices will be added to the queue of vertices to be explored\n",
    "\n",
    "<img src=\"pics/bfs_1.png\">"
   ]
  },
  {
   "cell_type": "markdown",
   "metadata": {},
   "source": [
    "4. The word at the front of the queue is explored for connections\n",
    "5. Once the vertex is fully explored, it is made black and is dequeued\n",
    "6. If there is a new connection it is enqueued  \n",
    "\n",
    "<img src=\"pics/bfs_2.png\">\n",
    "\n",
    "7. If a vertex is **grey** it means that it has already been explored\n",
    "    * This means that the shortest distance to this word has been found"
   ]
  },
  {
   "cell_type": "markdown",
   "metadata": {},
   "source": [
    "* The next word in the queue is *foil*\n",
    "* It is connected to fool, foul, and fail\n",
    "* Fool is black and foul is grey which means that they've already been discovered\n",
    "    * As well as the shortest path to those words, from the source word (*fool)\n",
    "* The only new word is *fail*  \n",
    "<br></br>\n",
    "* The same process is conducted for *foul* and *cool*\n",
    "<img src=\"pics/bfs_3.png\">\n"
   ]
  },
  {
   "cell_type": "markdown",
   "metadata": {},
   "source": [
    "* After exploring all the vertices\n",
    "<img src=\"pics/bfs_4.png\">\n",
    "<br></br>\n",
    "* Not only has the *fool* to *sage* word ladder problem been solved\n",
    "* We can start at any word in the BFS tree and follow the predecessor arrows back to *fool*\n",
    "    * To find the shortest word ladder from any word back to *fool*"
   ]
  },
  {
   "cell_type": "markdown",
   "metadata": {},
   "source": [
    "## Knight's Tour Example Problem"
   ]
  },
  {
   "cell_type": "markdown",
   "metadata": {},
   "source": [
    "### Introduction\n",
    "* Played on Chess board, with only the knight\n",
    "* Find a sequence of moves that will allow the knight, to visit every square on the board exactly once"
   ]
  },
  {
   "cell_type": "markdown",
   "metadata": {},
   "source": [
    "### Approach\n",
    "2 main steps:\n",
    "* Represent the the knight's legal moves on a chessboard as a graph\n",
    "* To a graph algorithm, to find a path of length: (num_rows x num_cols) - 1\n",
    "    * Where every vertex in the graph is visited exactly once"
   ]
  },
  {
   "cell_type": "markdown",
   "metadata": {},
   "source": [
    "### Knight's legal moves - Single move\n",
    "<img src=\"pics/knights_tour_1.png\">"
   ]
  },
  {
   "cell_type": "markdown",
   "metadata": {},
   "source": [
    "### Code\n",
    "* **def knightGraph**\n",
    "    * Make one pass over all the rows and columns on the board\n",
    "    * At each square it will call a helper function **genLegalMoves**\n",
    "* **posToNodeID**\n",
    "    * Convert a location on the board from coordinates, to a linear vertex number\n",
    "        * I.e From (x,y) to 0 < x < n (n is the number of squares on the Chess \n",
    "* **genLegalMoves**\n",
    "    * Will generate all the legal moves for a given position for the knight\n",
    "    * All the legal moves are then converted into edges, on the graph\n",
    "board)\n",
    "* **legalCord**\n",
    "    * To checks if the generated moves are within the Chess board"
   ]
  },
  {
   "cell_type": "code",
   "execution_count": 1,
   "metadata": {},
   "outputs": [],
   "source": [
    "def knightGraph(bdSize):\n",
    "    ktGraph = Graph()\n",
    "    for row in range(bdSize):\n",
    "        for col in range(bdSize):\n",
    "            nodeId = posToNodeId(row,col,bdSize)\n",
    "            newPositions = genLegalMoves(row,col,bdSize)\n",
    "            for e in newPositions:\n",
    "                nid = posToNodeId(e[0],e[1],bdSize)\n",
    "                ktGraph.addEdge(nodeId,nid)\n",
    "    return ktGraph\n",
    "\n",
    "def posToNodeId(row, column, board_size):\n",
    "    return (row * board_size) + column\n",
    "\n",
    "def genLegalMoves(x,y,bdSize):\n",
    "    newMoves = []\n",
    "    moveOffsets = [(-1,-2),(-1,2),(-2,-1),(-2,1),\n",
    "                   ( 1,-2),( 1,2),( 2,-1),( 2,1)]\n",
    "    for i in moveOffsets:\n",
    "        newX = x + i[0]\n",
    "        newY = y + i[1]\n",
    "        if legalCoord(newX,bdSize) and \\\n",
    "                        legalCoord(newY,bdSize):\n",
    "            newMoves.append((newX,newY))\n",
    "    return newMoves\n",
    "\n",
    "def legalCoord(x,bdSize):\n",
    "    if x >= 0 and x < bdSize:\n",
    "        return True\n",
    "    else:\n",
    "        return False"
   ]
  },
  {
   "cell_type": "markdown",
   "metadata": {},
   "source": [
    "### Knight's legal moves - Whole keyboard\n",
    "<img src=\"pics/knights_tour_2.png\">"
   ]
  },
  {
   "cell_type": "markdown",
   "metadata": {},
   "source": [
    "### DPS Introduction\n",
    "* BFS - Create a search tree one level at a time (find all children then all grandchildren)\n",
    "* **DPS** - Create a search tree by exploring each tree fully, one by one, of the graph"
   ]
  },
  {
   "cell_type": "markdown",
   "metadata": {},
   "source": [
    "### DPS Implementation\n",
    "* The DFS will be used to find the path that has exactly 63 edges\n",
    "* When a dead-end is found (i.e no more posible moves)\n",
    "    * Go back up the tree to the next deepest vertex, that has an available legal move"
   ]
  },
  {
   "cell_type": "markdown",
   "metadata": {},
   "source": [
    "### DPS Paramenters\n",
    "* **def knightTour**, will take:\n",
    "    * **n** = The current depth in the search tree\n",
    "    * **path** = The list of vertices visited up to this point\n",
    "    * **u** = The vertex to explore\n",
    "    * **limit** = The number of nodes in the path\n",
    "* The knightTour function is a recursive function"
   ]
  },
  {
   "cell_type": "code",
   "execution_count": 2,
   "metadata": {},
   "outputs": [],
   "source": [
    "def knightTour(n,path,u,limit):\n",
    "        u.setColor('gray')\n",
    "        path.append(u)\n",
    "        if n < limit:\n",
    "            nbrList = list(u.getConnections())\n",
    "            i = 0\n",
    "            done = False\n",
    "            while i < len(nbrList) and not done:\n",
    "                if nbrList[i].getColor() == 'white':\n",
    "                    done = knightTour(n+1, path, nbrList[i], limit)\n",
    "                i = i + 1\n",
    "            if not done:  # prepare to backtrack\n",
    "                path.pop()\n",
    "                u.setColor('white')\n",
    "        else:\n",
    "            done = True\n",
    "        return done"
   ]
  },
  {
   "cell_type": "markdown",
   "metadata": {},
   "source": [
    "### Backtracking example\n",
    "\n",
    "<img src=\"pics/knights_tour_re_back.gif\">  \n",
    "* A -> B -> D -> E -> F -> C"
   ]
  },
  {
   "cell_type": "markdown",
   "metadata": {},
   "source": [
    "### Knight's path, using backtracking and recursion \n",
    "* The path for the knight to visit each place on the Chess board once:\n",
    "\n",
    "<img src=\"pics/knights_tour_11.png\">"
   ]
  },
  {
   "cell_type": "markdown",
   "metadata": {},
   "source": [
    "## General Depth First Search"
   ]
  },
  {
   "cell_type": "markdown",
   "metadata": {},
   "source": [
    "* The knights tour was a special case of a depth first search\n",
    "    * Where the goal is to create the deepest depth first tree, without any branches\n",
    "* The general depth first search is actually easier\n",
    "    * It's goal is to search as deeply as possible, conncting as many nodes as possible branching branchinf where necessary\n",
    "        * Rather than backtracking back up the tree to find a node that fits a criteria"
   ]
  },
  {
   "cell_type": "markdown",
   "metadata": {},
   "source": [
    "* It is possible for a **depth first search** will create more than one tree\n",
    "    * When a DFS algorithm creates a group of trees we call this a **depth first forest**\n",
    "* As in BFS, DFS makes use of it's predecessor connections to construct a tree"
   ]
  },
  {
   "cell_type": "markdown",
   "metadata": {},
   "source": [
    "* The depth first search will make use of two additional instance variables, in the vertex class:\n",
    "    1. **Discovery time**: Number of steps before dicovering a vertex\n",
    "    2. **Finish time**: Number of steps before a vertex has all it's children discovered (black)"
   ]
  },
  {
   "cell_type": "markdown",
   "metadata": {},
   "source": [
    "* The **DFS_graph** class is an extenstion of the **Graph** class\n",
    "    * It will inherit from the **Graph** class\n",
    "    * Add a **time** instance variable to the class\n",
    "    * Have 2 additional methods:\n",
    "        * **dfs**: Iterates and searches through all the vertices\n",
    "        * **dfsvisit**: Helper function for **dfs**:\n",
    "            * Starts off with one vertex\n",
    "            * Then explores all neighbouring vertices as deeply as possible\n",
    "            * Very simliar to BFS. However it searches deeply as opposed to broadly\n",
    "                * By calling itself recursively: self.dfsvisit(nextVertex)\n",
    "                * BFS in comparison adds the node to a queue for later exploration"
   ]
  },
  {
   "cell_type": "markdown",
   "metadata": {},
   "source": [
    "* **BFS** explores using a **queue**: explicit\n",
    "* **DFS** explores using a **stack**: implicit within the recursive call"
   ]
  },
  {
   "cell_type": "markdown",
   "metadata": {},
   "source": [
    "<img src=\"pics/gdps_1.gif\">"
   ]
  },
  {
   "cell_type": "markdown",
   "metadata": {},
   "source": [
    "* The starting and finishing times, for each node displays a property called the:\n",
    "    * **Parenthesis property**  \n",
    "<br></br>\n",
    "* This property means that the **children** will have:\n",
    "     * A **later** *discovery time* than their parent\n",
    "     * An **earlier** *finish time* than their parent"
   ]
  },
  {
   "cell_type": "markdown",
   "metadata": {},
   "source": [
    "## Implementation of Graph Overview"
   ]
  },
  {
   "cell_type": "markdown",
   "metadata": {},
   "source": [
    "* The graph will be directed and the edges can hold weights  \n",
    "<br></br>\n",
    "* Create 3 classes:\n",
    "    1. **State** class\n",
    "    2. **Node** class\n",
    "    3. **Graph** class  \n",
    "<br></br>\n",
    "* Use these 2 built-in tools:\n",
    "    1. **OrderDict**: Remembers the order in which the kys were first inserted\n",
    "    2. **Enum**: Enumeration members have human readable string representations"
   ]
  },
  {
   "cell_type": "code",
   "execution_count": 2,
   "metadata": {},
   "outputs": [],
   "source": [
    "from enum import Enum\n",
    "\n",
    "class State(Enum):\n",
    "    unvisted = 1 # White\n",
    "    visited = 2 # Black\n",
    "    visting = 3 # Grey"
   ]
  },
  {
   "cell_type": "code",
   "execution_count": 4,
   "metadata": {},
   "outputs": [],
   "source": [
    "from collections import OrderedDict\n",
    "\n",
    "class Node:\n",
    "    \n",
    "    def __init__(self, num):\n",
    "        \n",
    "        self.num = num\n",
    "        self.visit_state = State.unvisted\n",
    "        self.adjacent = OrderedDict() # Key = node, value  = weight\n",
    "    \n",
    "    def __str__(self): # Print the node to return a string message\n",
    "        return str(sled.num) # The number of that node "
   ]
  },
  {
   "cell_type": "code",
   "execution_count": 25,
   "metadata": {},
   "outputs": [],
   "source": [
    "class Graph:\n",
    "    \n",
    "    def __init__(self):\n",
    "        self.nodes = OrderedDict() # Data struture to hold thwe nodes of the \n",
    "        \n",
    "    def add_node(self, num): # Add a node to this graph\n",
    "        node = Node(num) # Create a temporary variable, for the new node\n",
    "        self.nodes[num] = node # Inset this temporary variable into the ordered dict\n",
    "        return node # Return the temporary variale\n",
    "    \n",
    "    def add_edge(self,source,dest,weight=0):\n",
    "        if source not in self.nodes:\n",
    "            self.add_node(source)\n",
    "        if dest not in self.nodes:\n",
    "            self.add_node(dest)\n",
    "        \n",
    "        # The adjecent ordered dictionary will contain the graph object of \"dest\"\n",
    "        # This object is used as the key and we assign a weight to it\n",
    "        # This connects the \"source\" node to the \"dest\" node including a wieght\n",
    "        # Made possible by using the \"adjacent\" OrderedDict\n",
    "        self.nodes[source].adjacent[self.nodes[dest]] = weight"
   ]
  },
  {
   "cell_type": "code",
   "execution_count": 17,
   "metadata": {},
   "outputs": [],
   "source": [
    "g = Graph()"
   ]
  },
  {
   "cell_type": "code",
   "execution_count": 18,
   "metadata": {},
   "outputs": [],
   "source": [
    "# Our add_edge() will add any new nodes to the graph, if they are not found in the graph\n",
    "g.add_edge(0,1,5)"
   ]
  },
  {
   "cell_type": "code",
   "execution_count": 19,
   "metadata": {},
   "outputs": [
    {
     "data": {
      "text/plain": [
       "OrderedDict([(0, <__main__.Node at 0x1ca4ab66588>),\n",
       "             (1, <__main__.Node at 0x1ca4ab66608>)])"
      ]
     },
     "execution_count": 19,
     "metadata": {},
     "output_type": "execute_result"
    }
   ],
   "source": [
    "g.nodes"
   ]
  },
  {
   "cell_type": "code",
   "execution_count": 20,
   "metadata": {},
   "outputs": [],
   "source": [
    "g.add_edge(1,2,3)"
   ]
  },
  {
   "cell_type": "code",
   "execution_count": 21,
   "metadata": {},
   "outputs": [
    {
     "data": {
      "text/plain": [
       "OrderedDict([(0, <__main__.Node at 0x1ca4ab66588>),\n",
       "             (1, <__main__.Node at 0x1ca4ab66608>),\n",
       "             (2, <__main__.Node at 0x1ca4ab68448>)])"
      ]
     },
     "execution_count": 21,
     "metadata": {},
     "output_type": "execute_result"
    }
   ],
   "source": [
    "g.nodes"
   ]
  },
  {
   "cell_type": "markdown",
   "metadata": {},
   "source": [
    "## Implementation of Depth First Search Overview"
   ]
  },
  {
   "cell_type": "markdown",
   "metadata": {},
   "source": [
    "### Connected Component\n",
    "\n",
    "The implementation below uses the stack data-structure to build-up and return a set of vertices that are accessible within the subjects connected component. Using Python’s overloading of the subtraction operator to remove items from a set, we are able to add only the unvisited adjacent vertices."
   ]
  },
  {
   "cell_type": "markdown",
   "metadata": {},
   "source": [
    "* Explores possible vertices, from a supplied root. down each branch before backtracking\n",
    "* Upon each vist of a node:\n",
    "    1. Mark the current vertex as being visited\n",
    "    2. Explore each adjacent vertex, that is not included in the visited set "
   ]
  },
  {
   "cell_type": "markdown",
   "metadata": {},
   "source": [
    "1. Create a graph object\n",
    "2. Create a function to search through the graph object"
   ]
  },
  {
   "cell_type": "markdown",
   "metadata": {},
   "source": [
    "* A graph object"
   ]
  },
  {
   "cell_type": "code",
   "execution_count": 27,
   "metadata": {},
   "outputs": [],
   "source": [
    "graph = {'A': set(['B','C']),\n",
    "         'B': set(['A','D','E']),\n",
    "         'C': set(['A','F']),\n",
    "         'D': set(['B']),\n",
    "         'E': set(['B','F']),\n",
    "         'F': set(['C','E'])}"
   ]
  },
  {
   "cell_type": "markdown",
   "metadata": {},
   "source": [
    "* A function to search the grap, using an basic implementation of depth first search"
   ]
  },
  {
   "cell_type": "code",
   "execution_count": 36,
   "metadata": {},
   "outputs": [],
   "source": [
    "def dfs(graph,start):\n",
    "    # The visited ndoes / vertices\n",
    "    visited = set() \n",
    "    # Unvisited ndoes / vertices to search \n",
    "    stack = [start]    # The start node will be the first element in the stack list\n",
    "    \n",
    "    while stack:    # Whilst there are items within the stack\n",
    "        vertex = stack.pop()    # Pop an item out of the stack\n",
    "        \n",
    "        if vertex not in visited:    # Check if the node popped from the stack has been visited\n",
    "            visited.add(vertex)    # If not add it to the visied set\n",
    "            \n",
    "             # Add nodes from vertex's set values to the stack, that have not been visited \n",
    "            stack.extend(graph[vertex] - visited)    \n",
    "    \n",
    "    return visited    # Return the nodes / vertices that have been searched so far"
   ]
  },
  {
   "cell_type": "code",
   "execution_count": 34,
   "metadata": {},
   "outputs": [
    {
     "data": {
      "text/plain": [
       "{'A', 'B', 'C', 'D', 'E', 'F'}"
      ]
     },
     "execution_count": 34,
     "metadata": {},
     "output_type": "execute_result"
    }
   ],
   "source": [
    "dfs(graph,'A')"
   ]
  },
  {
   "cell_type": "markdown",
   "metadata": {},
   "source": [
    "The second implementation provides the same functionality as the first, however, this time we are using the more succinct recursive form. Due to a common Python gotcha with default parameter values being created only once, we are required to create a new visited set on each user invocation. Another Python language detail is that function variables are passed by reference, resulting in the visited mutable set not having to reassigned upon each recursive call."
   ]
  },
  {
   "cell_type": "code",
   "execution_count": 38,
   "metadata": {},
   "outputs": [
    {
     "data": {
      "text/plain": [
       "{'A', 'B', 'C', 'D', 'E', 'F'}"
      ]
     },
     "execution_count": 38,
     "metadata": {},
     "output_type": "execute_result"
    }
   ],
   "source": [
    "def dfs(graph, start, visited=None):\n",
    "    if visited is None:\n",
    "        visited = set()\n",
    "    visited.add(start)\n",
    "    for nxt in graph[start] - visited:\n",
    "        dfs(graph, nxt, visited)\n",
    "    return visited\n",
    "\n",
    "dfs(graph, 'A') "
   ]
  },
  {
   "cell_type": "markdown",
   "metadata": {},
   "source": [
    "## Paths\n",
    "We are able to tweak both of the previous implementations to return all possible paths between a start and goal vertex. The implementation below uses the stack data-structure again to iteratively solve the problem, yielding each possible path when we locate the goal. Using a generator allows the user to only compute the desired amount of alternative paths."
   ]
  },
  {
   "cell_type": "code",
   "execution_count": 39,
   "metadata": {},
   "outputs": [
    {
     "data": {
      "text/plain": [
       "[['A', 'C', 'F'], ['A', 'B', 'E', 'F']]"
      ]
     },
     "execution_count": 39,
     "metadata": {},
     "output_type": "execute_result"
    }
   ],
   "source": [
    "def dfs_paths(graph, start, goal):\n",
    "    stack = [(start, [start])]\n",
    "    while stack:\n",
    "        (vertex, path) = stack.pop()\n",
    "        for nxt in graph[vertex] - set(path):\n",
    "            if nxt == goal:\n",
    "                yield path + [nxt]\n",
    "            else:\n",
    "                stack.append((nxt, path + [nxt]))\n",
    "\n",
    "list(dfs_paths(graph, 'A', 'F'))"
   ]
  },
  {
   "cell_type": "markdown",
   "metadata": {},
   "source": [
    "### Sort lists by length\n",
    "* Sort the output lists by length then select the first item as the shortest path"
   ]
  },
  {
   "cell_type": "code",
   "execution_count": 64,
   "metadata": {},
   "outputs": [
    {
     "name": "stdout",
     "output_type": "stream",
     "text": [
      "- List ordered by length of element lists: \n",
      " [['g'], ['d', 'e'], ['a', 'b', 'c']]\n",
      "\n",
      "\n",
      "- Shortest element list is the first element: \n",
      " ['g']\n"
     ]
    }
   ],
   "source": [
    "# Use key parameter available in sort and sorted. It specifies a function of one argument that is used to extract a comparison key from each list element\n",
    "\n",
    "a = [['a', 'b', 'c'], \n",
    "     ['d', 'e'], \n",
    "     ['g']]\n",
    "\n",
    "a.sort(key=len)\n",
    "\n",
    "print(\"- List ordered by length of element lists:\", '\\n', a)\n",
    "print('\\n')\n",
    "print(\"- Shortest element list is the first element:\", '\\n', a[0])"
   ]
  },
  {
   "cell_type": "markdown",
   "metadata": {},
   "source": [
    "## Implementation of Breadth First Search Overview"
   ]
  },
  {
   "cell_type": "markdown",
   "metadata": {},
   "source": [
    "* BFS allows us to results the same results as DFS **but with the added guatantee to return the shortest-path *first***\n",
    "* BFS can be implemented in a recursive manner instead of using the queue data-structure\n",
    "* BFS can also be conducted using the iterative approach, which is easier to implement  \n",
    "<br></br>\n",
    "* The actions performed at each explored vertex is the same, however:\n",
    "    * **The stack is replaced with a queue**\n",
    "    * **The nodes are now explored across the breadth of a graph-depth then move deeper**\n",
    "    * *This behaviour guarantees that the path located is one of the shortest-paths present** (based on the number of edges, form the root node, being the cost factor.) **As with each exploration, the number of edges explored will either be the same or increase*"
   ]
  },
  {
   "cell_type": "code",
   "execution_count": 1,
   "metadata": {},
   "outputs": [],
   "source": [
    "graph = {'A': set(['B', 'C']),\n",
    "         'B': set(['A', 'D', 'E']),\n",
    "         'C': set(['A', 'F']),\n",
    "         'D': set(['B']),\n",
    "         'E': set(['B', 'F']),\n",
    "         'F': set(['C', 'E'])}"
   ]
  },
  {
   "cell_type": "markdown",
   "metadata": {},
   "source": [
    "### Connected Component\n",
    "Similar to the iterative DFS implementation the only alteration required is to:\n",
    "* **Remove the next item from the beginning of the list (FIFO) instead of the end of the stack (FILO)**"
   ]
  },
  {
   "cell_type": "code",
   "execution_count": 10,
   "metadata": {},
   "outputs": [
    {
     "data": {
      "text/plain": [
       "{'A', 'B', 'C', 'D', 'E', 'F'}"
      ]
     },
     "execution_count": 10,
     "metadata": {},
     "output_type": "execute_result"
    }
   ],
   "source": [
    "def bfs(graph, start):\n",
    "    \n",
    "    visited = set()\n",
    "    queue = [start]\n",
    "    \n",
    "    while queue:\n",
    "        vertex = queue.pop(0)    # Use vertex from the beginning of the queue\n",
    "        \n",
    "        if vertex not in visited:\n",
    "            # Add verex to the \"vistied\" list if not visited yet\n",
    "            visited.add(vertex)    \n",
    "            # From the vertex's adjacency list remove visted vertices\n",
    "            # Then add any unvisted nodes to the queue\n",
    "            queue.extend(graph[vertex] - visited)    \n",
    "    \n",
    "    return visited    # Return which vertices have been visted\n",
    "\n",
    "bfs(graph, 'A')"
   ]
  },
  {
   "cell_type": "markdown",
   "metadata": {},
   "source": [
    "### Paths\n",
    "Alter so that instead of returning all the possible paths between two vertices, return the first path which will be the shortest such path, as we will have explored the fewest number of edge"
   ]
  },
  {
   "cell_type": "code",
   "execution_count": 12,
   "metadata": {},
   "outputs": [
    {
     "data": {
      "text/plain": [
       "[['A', 'C', 'F'], ['A', 'B', 'E', 'F']]"
      ]
     },
     "execution_count": 12,
     "metadata": {},
     "output_type": "execute_result"
    }
   ],
   "source": [
    "def bfs_paths(graph, start, goal):\n",
    "   # Each item od the queue list will be a tuple\n",
    "    # The starting vertex and the path list travelled so far\n",
    "    queue = [(start, [start])]    \n",
    "    \n",
    "    while queue:\n",
    "        (vertex, path) = queue.pop(0)    \n",
    "        \n",
    "        for next in graph[vertex] - set(path):\n",
    "            if next == goal:\n",
    "                yield path + [next]\n",
    "            else:\n",
    "                queue.append((next, path + [next]))\n",
    "\n",
    "list(bfs_paths(graph, 'A', 'F'))"
   ]
  },
  {
   "cell_type": "markdown",
   "metadata": {},
   "source": [
    "Knowing that the shortest path will be returned first from the BFS path generator method we can create a useful method which simply returns the shortest path found or ‘None’ if no path exists. As we are using a generator this in theory should provide similar performance results as just breaking out and returning the first matching path in the BFS implementation."
   ]
  },
  {
   "cell_type": "code",
   "execution_count": 13,
   "metadata": {},
   "outputs": [
    {
     "data": {
      "text/plain": [
       "['A', 'C', 'F']"
      ]
     },
     "execution_count": 13,
     "metadata": {},
     "output_type": "execute_result"
    }
   ],
   "source": [
    "def shortest_path(graph, start, goal):\n",
    "    \n",
    "    try:\n",
    "        return next(bfs_paths(graph, start, goal))\n",
    "    \n",
    "    except StopIteration:\n",
    "        return None\n",
    "\n",
    "shortest_path(graph, 'A', 'F')"
   ]
  },
  {
   "cell_type": "markdown",
   "metadata": {},
   "source": [
    "## Dijkstra's Algorithm"
   ]
  },
  {
   "cell_type": "markdown",
   "metadata": {},
   "source": [
    "* In graph theory, SSSP (Single Source Shortest Path) algorithms solve the problem of finding the shortest path from a starting node (source), to all other nodes inside the graph. (E.g routing software such as in Google maps)  \n",
    "<br></br>\n",
    "* The main algorithms that fall under this definition are **Breadth-First Search (BFS)** and **Dijkstra‘s algorithms**: https://www.baeldung.com/cs/graph-algorithms-bfs-dijkstra  \n",
    "<br></br>\n",
    "* The process for exploring the graph is **structurally the same in both cases**\n",
    "* **Dijkstra's algorithm** is conceptually breadth-first search, that **respects edge costs**\n",
    "* Breadth-first and Dijkstra's algorithm are the **same when edge weights are equal to 1**"
   ]
  },
  {
   "cell_type": "code",
   "execution_count": null,
   "metadata": {},
   "outputs": [],
   "source": []
  }
 ],
 "metadata": {
  "kernelspec": {
   "display_name": "Python 3",
   "language": "python",
   "name": "python3"
  },
  "language_info": {
   "codemirror_mode": {
    "name": "ipython",
    "version": 3
   },
   "file_extension": ".py",
   "mimetype": "text/x-python",
   "name": "python",
   "nbconvert_exporter": "python",
   "pygments_lexer": "ipython3",
   "version": "3.7.4"
  }
 },
 "nbformat": 4,
 "nbformat_minor": 2
}
