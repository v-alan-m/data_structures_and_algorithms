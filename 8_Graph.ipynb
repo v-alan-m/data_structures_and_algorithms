{
 "cells": [
  {
   "cell_type": "markdown",
   "metadata": {},
   "source": [
    "## 8. Graph"
   ]
  },
  {
   "cell_type": "markdown",
   "metadata": {},
   "source": [
    "* Graphs are a more general structure than trees\n",
    "    * Trees and a type of graph  \n",
    "<br></br>\n",
    "* Graphs can be used to represent: \n",
    "    * Roads\n",
    "    * Airline flights from city to city\n",
    "    * How the internet is connected  \n",
    "<br></br>\n",
    "* Once the problem can be represented, standard graph algorithms can be used to solve the problem, with less complexity and quicker"
   ]
  },
  {
   "cell_type": "markdown",
   "metadata": {},
   "source": [
    "## Components"
   ]
  },
  {
   "cell_type": "markdown",
   "metadata": {},
   "source": [
    "* **Vertex** also known as a **node**\n",
    "* If the vertex is named: **key**\n",
    "* If A vertex has additional information, attached to it's key: **payload**"
   ]
  },
  {
   "cell_type": "code",
   "execution_count": null,
   "metadata": {},
   "outputs": [],
   "source": []
  }
 ],
 "metadata": {
  "kernelspec": {
   "display_name": "Python 3",
   "language": "python",
   "name": "python3"
  },
  "language_info": {
   "codemirror_mode": {
    "name": "ipython",
    "version": 3
   },
   "file_extension": ".py",
   "mimetype": "text/x-python",
   "name": "python",
   "nbconvert_exporter": "python",
   "pygments_lexer": "ipython3",
   "version": "3.7.4"
  }
 },
 "nbformat": 4,
 "nbformat_minor": 2
}
