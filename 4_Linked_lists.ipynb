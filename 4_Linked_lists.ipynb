{
 "cells": [
  {
   "cell_type": "markdown",
   "metadata": {},
   "source": [
    "# 4. Linked lists\n",
    "- Singly linked lists\n",
    "- Doubly linked lists"
   ]
  },
  {
   "cell_type": "markdown",
   "metadata": {},
   "source": [
    "## Singly linked lists\n",
    "- A collection of nodes that collectively form a linear sequence\n",
    "    - Each node stores two reference:\n",
    "        - One to an element of the sequence\n",
    "        - One to the next node of the list"
   ]
  },
  {
   "cell_type": "markdown",
   "metadata": {},
   "source": [
    "- The first instance has a member called the head, and identifies the first node of the list  \n",
    "- The second instance has a member called the tail, and identifies the last node of the list"
   ]
  },
  {
   "cell_type": "markdown",
   "metadata": {},
   "source": [
    "<img src=\"pics/singly_linked_lists_head_and_tail.png\">"
   ]
  },
  {
   "cell_type": "markdown",
   "metadata": {},
   "source": [
    "- We can identify thetail as the node that has **None** as it's next reference\n",
    "    - This proces is commonly known as **traversing** the linked list \n",
    "        - Aka link-hopping or pointer-hopping as the next reference can can seen as a link or pointer"
   ]
  },
  {
   "cell_type": "markdown",
   "metadata": {},
   "source": [
    "- A linked list does not have predetermined size\n",
    "- It's size is dependent on the number of items in the list"
   ]
  },
  {
   "cell_type": "markdown",
   "metadata": {},
   "source": [
    "### Insert an element at the head of a singly linked list\n",
    "- Create a new node\n",
    "- Set it's element to the new element value\n",
    "- Set it's next link reference to the previous head\n",
    "- Set the head reference to point to the new node"
   ]
  },
  {
   "cell_type": "markdown",
   "metadata": {},
   "source": [
    "<img src=\"pics/singly_linked_lists_insert_at_front.png\">"
   ]
  },
  {
   "cell_type": "markdown",
   "metadata": {},
   "source": [
    "### Insert an element at the end of a singly linked list\n",
    "- Create a new node\n",
    "- Set it's next link reference to **None**\n",
    "- Set the next reference of the previous tail to the new node\n",
    "- Set the tail reference to point to the new node"
   ]
  },
  {
   "cell_type": "markdown",
   "metadata": {},
   "source": [
    "<img src=\"pics/singly_linked_lists_insert_at_end.png\">"
   ]
  },
  {
   "cell_type": "markdown",
   "metadata": {},
   "source": [
    "### Removing an element at the head of a singly linked list\n",
    "- Link the head back to the next node (linking out)\n",
    "- Remove the previous head node"
   ]
  },
  {
   "cell_type": "markdown",
   "metadata": {},
   "source": [
    "### Remvoing an element at the end of a singly linked list\n",
    "- Cannot easily delete the last node of a singly linked list\n",
    "- We need to be able to access the node before the last node, in order to remove the last node\n",
    "- We cannot reach the node before the tail by following the next reference links from the tail\n",
    "- To make such an operation effcient the list needs to be made **doubly linked**"
   ]
  },
  {
   "cell_type": "code",
   "execution_count": null,
   "metadata": {},
   "outputs": [],
   "source": [
    "class Node(object):\n",
    "    \n",
    "    def __init__(self,value):\n",
    "        \n",
    "        self.value = value\n",
    "        self.nextnode = None"
   ]
  },
  {
   "cell_type": "code",
   "execution_count": null,
   "metadata": {},
   "outputs": [],
   "source": [
    "a = Node(1)\n",
    "b = Node(2)\n",
    "c = Node(3)"
   ]
  },
  {
   "cell_type": "code",
   "execution_count": null,
   "metadata": {},
   "outputs": [],
   "source": [
    "a.nextnode = b"
   ]
  },
  {
   "cell_type": "code",
   "execution_count": null,
   "metadata": {},
   "outputs": [],
   "source": [
    "b.nextnode = c"
   ]
  },
  {
   "cell_type": "code",
   "execution_count": null,
   "metadata": {},
   "outputs": [],
   "source": [
    "a.value"
   ]
  },
  {
   "cell_type": "code",
   "execution_count": null,
   "metadata": {},
   "outputs": [],
   "source": [
    "a.nextnode.value"
   ]
  },
  {
   "cell_type": "markdown",
   "metadata": {},
   "source": [
    "## Singly linked lists\n",
    "- A collection of nodes that collectively form a linear sequence\n",
    "    - Each node stores three reference:\n",
    "        - One to an element of the sequence\n",
    "        - One to the next node of the list\n",
    "        - One to the previous node of the list"
   ]
  },
  {
   "cell_type": "markdown",
   "metadata": {},
   "source": [
    "- A **header** node at the beginning of the list\n",
    "- A **trailer** node at the end of the list\n",
    "    - These dummy nodes are known as **sentinals**"
   ]
  },
  {
   "cell_type": "markdown",
   "metadata": {},
   "source": [
    "<img src='pics/doubly_linked_lists_sentinal.png'>"
   ]
  },
  {
   "cell_type": "markdown",
   "metadata": {},
   "source": [
    "## Insert a new node in a doubly linked list\n",
    "- **Create** a new-node\n",
    "- **Link** the previous-node to the new-node\n",
    "    - **Link** the new-node to the previous-node\n",
    "- **Link** the next-node to the new-node\n",
    "    - **Link** the new-node to the next-node"
   ]
  },
  {
   "cell_type": "markdown",
   "metadata": {},
   "source": [
    "## Delete a new node in a doubly linked list"
   ]
  },
  {
   "cell_type": "markdown",
   "metadata": {},
   "source": [
    "- **Linking out**: The two nodes either side of the node targeted-for-deletion are linked to each other\n",
    "- The node targeted for deletion will no longer be part of the list and is reclaimed by the system\n",
    "- The same method is used to delete the first or last element, as sentinels are being used either side of each node"
   ]
  },
  {
   "cell_type": "code",
   "execution_count": null,
   "metadata": {},
   "outputs": [],
   "source": [
    "class DoublyLinkedListNode(object):\n",
    "    \n",
    "    def __init__(self,value):\n",
    "        \n",
    "        self.value = value\n",
    "        self.next_node = None\n",
    "        self.prev_node = None"
   ]
  },
  {
   "cell_type": "code",
   "execution_count": null,
   "metadata": {},
   "outputs": [],
   "source": [
    "a = DoublyLinkedListNode(1)\n",
    "b = DoublyLinkedListNode(2)\n",
    "c = DoublyLinkedListNode(3)"
   ]
  },
  {
   "cell_type": "code",
   "execution_count": null,
   "metadata": {},
   "outputs": [],
   "source": [
    "b.prev_node = a\n",
    "a.next_node = b"
   ]
  },
  {
   "cell_type": "code",
   "execution_count": null,
   "metadata": {},
   "outputs": [],
   "source": [
    "b.next_node = c\n",
    "c.prev_node = b"
   ]
  }
 ],
 "metadata": {
  "kernelspec": {
   "display_name": "Python 3",
   "language": "python",
   "name": "python3"
  },
  "language_info": {
   "codemirror_mode": {
    "name": "ipython",
    "version": 3
   },
   "file_extension": ".py",
   "mimetype": "text/x-python",
   "name": "python",
   "nbconvert_exporter": "python",
   "pygments_lexer": "ipython3",
   "version": "3.7.4"
  }
 },
 "nbformat": 4,
 "nbformat_minor": 2
}
