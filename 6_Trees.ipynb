{
 "cells": [
  {
   "cell_type": "markdown",
   "metadata": {},
   "source": [
    "## 6. Trees"
   ]
  },
  {
   "cell_type": "markdown",
   "metadata": {},
   "source": [
    "### Introduction\n",
    "- Can be illustrated as an up-side-down tree\n",
    "- More general items on top, and more specific items towards the bottom\n",
    "- All the children of one node and independent of the children of another node\n",
    "- Each leaf node is unique  \n",
    "    - E.g File systems/folders are structured as trees  "
   ]
  },
  {
   "cell_type": "markdown",
   "metadata": {},
   "source": [
    "- A **node**'s name, is called the key\n",
    "    - A node may have additional information, which is called the payload \n",
    "- An **edge** connects two nodes that show a relationship between them\n",
    "    - The root is the only node that has no incoming edge\n",
    "- A **path** is an ordered list of nodes\n",
    "    - That are connected by edges  \n",
    "<br></br>\n",
    "- **Children** *(c)* are the set of nodes that have incoming edges from the same node\n",
    "- The **parent** is a node that has outgoing edges to other nodes\n",
    "- **Siblings** are nodes that a children of the same parent\n",
    "- A **leaf** node is a node without children  \n",
    "<br></br>\n",
    "- The **level** *(n)* of a node is the number of edges on a path from the root node\n",
    "- The **height** of the tree is the highest level within the tree"
   ]
  },
  {
   "cell_type": "markdown",
   "metadata": {},
   "source": [
    "- A **binary tree** is a tree where each node has a maximum of 2 children  \n",
    "<br></br>\n",
    "- A **recursive tree** is a tree with a root, and zero or more sub-trees\n",
    "    - Each sub-tree's root is connected to the root of the parent tree, by an edge"
   ]
  },
  {
   "cell_type": "markdown",
   "metadata": {},
   "source": [
    "### Representing a Tree through Lists"
   ]
  },
  {
   "cell_type": "markdown",
   "metadata": {},
   "source": [
    "#### Method 1: List of lists"
   ]
  },
  {
   "cell_type": "code",
   "execution_count": 54,
   "metadata": {},
   "outputs": [],
   "source": [
    "# 'r' is the root\n",
    "# The 2nd item in the list, is the left child and the 3rd item is the right child\n",
    "def BinaryTree_l(r):\n",
    "    return [r,[],[]]"
   ]
  },
  {
   "cell_type": "code",
   "execution_count": 23,
   "metadata": {},
   "outputs": [],
   "source": [
    "# Each branch will have a left and right child, whether it's being used or not\n",
    "# As long as 't' is in the correct branch (newBranch) (i.e. left postion: index pos = 1)\n",
    "def insertLeft(root, newBranch):\n",
    "    t = root.pop(1)\n",
    "    \n",
    "    if len(t) > 1:\n",
    "        root.insert(1,[newBranch, t, []])\n",
    "    else:\n",
    "        root.insert(1,[newBranch, [], []])\n",
    "    \n",
    "    return root"
   ]
  },
  {
   "cell_type": "code",
   "execution_count": 24,
   "metadata": {},
   "outputs": [],
   "source": [
    "# Each branch will have a left and right child, whether it's being used or not\n",
    "# As long as 't' is in the correct branch (newBranch) (i.e. right postion: index pos = 1)\n",
    "def inserRight(root, newBranch):\n",
    "    t = root.pop(2)\n",
    "    \n",
    "    if len(t) > 1:\n",
    "        root.insert(2,[newBranch, [], t])\n",
    "    else:\n",
    "        root.insert(2,[newBranch, [], []])\n",
    "    \n",
    "    return root"
   ]
  },
  {
   "cell_type": "markdown",
   "metadata": {},
   "source": [
    "##### Access functions"
   ]
  },
  {
   "cell_type": "code",
   "execution_count": 55,
   "metadata": {},
   "outputs": [],
   "source": [
    "def fetRootVal(root):\n",
    "    return root[0]"
   ]
  },
  {
   "cell_type": "code",
   "execution_count": 56,
   "metadata": {},
   "outputs": [],
   "source": [
    "def setRootVal(root, newVal):\n",
    "    root[0] = newVal"
   ]
  },
  {
   "cell_type": "code",
   "execution_count": 57,
   "metadata": {},
   "outputs": [],
   "source": [
    "def getLeftChild(root):\n",
    "    return root[1]"
   ]
  },
  {
   "cell_type": "code",
   "execution_count": 58,
   "metadata": {},
   "outputs": [],
   "source": [
    "def getRightChild(root):\n",
    "    return root[2]"
   ]
  },
  {
   "cell_type": "code",
   "execution_count": 59,
   "metadata": {},
   "outputs": [],
   "source": [
    "tree_1 = BinaryTree_l(3)"
   ]
  },
  {
   "cell_type": "code",
   "execution_count": 60,
   "metadata": {},
   "outputs": [
    {
     "data": {
      "text/plain": [
       "[3, [4, [], []], []]"
      ]
     },
     "execution_count": 60,
     "metadata": {},
     "output_type": "execute_result"
    }
   ],
   "source": [
    "insertLeft(tree_1, 4)"
   ]
  },
  {
   "cell_type": "code",
   "execution_count": 61,
   "metadata": {},
   "outputs": [
    {
     "data": {
      "text/plain": [
       "[3, [5, [4, [], []], []], []]"
      ]
     },
     "execution_count": 61,
     "metadata": {},
     "output_type": "execute_result"
    }
   ],
   "source": [
    "insertLeft(tree_1, 5)"
   ]
  },
  {
   "cell_type": "code",
   "execution_count": 62,
   "metadata": {},
   "outputs": [
    {
     "data": {
      "text/plain": [
       "[3, [5, [4, [], []], []], [6, [], []]]"
      ]
     },
     "execution_count": 62,
     "metadata": {},
     "output_type": "execute_result"
    }
   ],
   "source": [
    "inserRight(tree_1, 6)"
   ]
  },
  {
   "cell_type": "code",
   "execution_count": 63,
   "metadata": {},
   "outputs": [
    {
     "data": {
      "text/plain": [
       "[3, [5, [4, [], []], []], [7, [], [6, [], []]]]"
      ]
     },
     "execution_count": 63,
     "metadata": {},
     "output_type": "execute_result"
    }
   ],
   "source": [
    "inserRight(tree_1, 7)"
   ]
  },
  {
   "cell_type": "code",
   "execution_count": 64,
   "metadata": {},
   "outputs": [
    {
     "name": "stdout",
     "output_type": "stream",
     "text": [
      "[9, [4, [], []], []]\n"
     ]
    }
   ],
   "source": [
    "left_child = getLeftChild(tree_1)\n",
    "print(l)"
   ]
  },
  {
   "cell_type": "code",
   "execution_count": 47,
   "metadata": {},
   "outputs": [
    {
     "name": "stdout",
     "output_type": "stream",
     "text": [
      "[3, [9, [4, [], []], []], [7, [], [6, [], []]]]\n"
     ]
    }
   ],
   "source": [
    "# Set the root of the left child from 5 to 9\n",
    "setRootVal(left_child, 9)\n",
    "print(tree_1)"
   ]
  },
  {
   "cell_type": "markdown",
   "metadata": {},
   "source": [
    "#### Method 2: OOP"
   ]
  },
  {
   "cell_type": "code",
   "execution_count": 80,
   "metadata": {},
   "outputs": [],
   "source": [
    "# Define a class that has attributes for the root value, left, and right sub-tree(s)\n",
    "    # When create a new left child , we';ll be creating another instance of BinaryTree\n",
    "\n",
    "class BinaryTree_OPP:\n",
    "    \n",
    "    def __init__(self, rootObj):\n",
    "        self.key = rootObj\n",
    "        self.leftChild = None\n",
    "        self.rightChild = None\n",
    "    \n",
    "    def insertLeft(self, newNode):\n",
    "        if self.leftChild == None:\n",
    "            self.leftChild = BinaryTree_OPP(newNode)\n",
    "        else:\n",
    "            # Create a new sub-tree\n",
    "            t = BinaryTree(newNode)\n",
    "            # Set this new sub-tree-left-child value using the parent-tree-value\n",
    "            t.leftChild = self.leftChild\n",
    "            # Make this updated sub-tree the new left-child of the parent-tree\n",
    "            self.leftChild = t\n",
    "             \n",
    "\n",
    "    def insertRight(self, newNode):\n",
    "        if self.rightChild == None:\n",
    "            self.rightChild = BinaryTree(newNode)\n",
    "        else:\n",
    "            # Create a new sub-tree\n",
    "            t = BinaryTree(newNode)\n",
    "            # Set this new sub-tree-left-child value using the parent-tree-value\n",
    "            t.rightChild = self.rightChild\n",
    "            # Make this updated sub-tree the new left-child of the parent-tree\n",
    "            self.rightChild = t\n",
    "            \n",
    "    # Access functions\n",
    "    def getRightChild(self):\n",
    "        return self.rightChild\n",
    "    \n",
    "    def getLeftChild(self):\n",
    "        return self.leftChild\n",
    "    \n",
    "    def setRootVal(self, obj):\n",
    "        self.key = obj\n",
    "    \n",
    "    def getRootVal(self):\n",
    "        return self.key"
   ]
  },
  {
   "cell_type": "code",
   "execution_count": 81,
   "metadata": {},
   "outputs": [],
   "source": [
    "tree_1 = BinaryTree_OPP('a')"
   ]
  },
  {
   "cell_type": "code",
   "execution_count": 82,
   "metadata": {},
   "outputs": [
    {
     "data": {
      "text/plain": [
       "'a'"
      ]
     },
     "execution_count": 82,
     "metadata": {},
     "output_type": "execute_result"
    }
   ],
   "source": [
    "tree_1.getRootVal()"
   ]
  },
  {
   "cell_type": "code",
   "execution_count": 83,
   "metadata": {},
   "outputs": [],
   "source": [
    "tree_1.getLeftChild()"
   ]
  },
  {
   "cell_type": "code",
   "execution_count": 84,
   "metadata": {},
   "outputs": [
    {
     "name": "stdout",
     "output_type": "stream",
     "text": [
      "None\n"
     ]
    }
   ],
   "source": [
    "print(tree_1.getLeftChild())"
   ]
  },
  {
   "cell_type": "code",
   "execution_count": 85,
   "metadata": {},
   "outputs": [],
   "source": [
    "tree_1.insertLeft('b')"
   ]
  },
  {
   "cell_type": "code",
   "execution_count": 87,
   "metadata": {},
   "outputs": [
    {
     "data": {
      "text/plain": [
       "<__main__.BinaryTree_OPP at 0x2202f5d8908>"
      ]
     },
     "execution_count": 87,
     "metadata": {},
     "output_type": "execute_result"
    }
   ],
   "source": [
    "tree_1.getLeftChild()"
   ]
  },
  {
   "cell_type": "code",
   "execution_count": 88,
   "metadata": {},
   "outputs": [
    {
     "data": {
      "text/plain": [
       "'b'"
      ]
     },
     "execution_count": 88,
     "metadata": {},
     "output_type": "execute_result"
    }
   ],
   "source": [
    "tree_1.getLeftChild().getRootVal()"
   ]
  },
  {
   "cell_type": "markdown",
   "metadata": {},
   "source": [
    "### Tree Traversal\n",
    "- Preorder\n",
    "- Inorder\n",
    "- Postorder"
   ]
  },
  {
   "cell_type": "markdown",
   "metadata": {},
   "source": [
    "#### Preorder traversal\n",
    "- Visit the root node first\n",
    "- Do a preorder traversal of the left sub-tree\n",
    "- Do a recursive preorder traversal of the right sub-tree"
   ]
  },
  {
   "cell_type": "code",
   "execution_count": 91,
   "metadata": {},
   "outputs": [],
   "source": [
    "# Internal method\n",
    "def preorder(self):\n",
    "    print(self.key)\n",
    "    if self.leftchild:\n",
    "        self.leftchild.preorder()\n",
    "    if self.rightchild:\n",
    "        self.rightchild.preorder()\n",
    "        \n",
    "# External fucntion\n",
    "def preorder(tree):\n",
    "    if tree:\n",
    "        print(tree.getRootVal())\n",
    "        preorder(tree.getLeftChild())\n",
    "        preorder(tree.getRightChild())"
   ]
  },
  {
   "cell_type": "markdown",
   "metadata": {},
   "source": [
    "#### Inorder traversal\n",
    "- Visit the root node first\n",
    "- Do a recursive inorder traversal of the left sub-tree\n",
    "- Do a recursive inorder traversal of the right sub-tree"
   ]
  },
  {
   "cell_type": "code",
   "execution_count": 92,
   "metadata": {},
   "outputs": [],
   "source": [
    "# The external function is a more useful solution\n",
    "    # Typically other tasks will be done whilst traversing a tree\n",
    "def preorder(tree):\n",
    "    if tree:\n",
    "        preorder(tree.getLeftChild())\n",
    "        print(tree.getRootVal())\n",
    "        preorder(tree.getRightChild())"
   ]
  },
  {
   "cell_type": "markdown",
   "metadata": {},
   "source": [
    "#### Postorder traversal\n",
    "- Do a recursive postorder traversal of the left sub-tree\n",
    "- Do a recursive postorder traversal of the right sub-tree\n",
    "- Visit the root node first"
   ]
  },
  {
   "cell_type": "code",
   "execution_count": 93,
   "metadata": {},
   "outputs": [],
   "source": [
    "# External fucntion\n",
    "def preorder(tree):\n",
    "    if tree:\n",
    "        preorder(tree.getLeftChild())\n",
    "        preorder(tree.getRightChild())\n",
    "        print(tree.getRootVal())"
   ]
  },
  {
   "cell_type": "markdown",
   "metadata": {},
   "source": [
    "### Priority Queues with Binary Heaps\n",
    "- Acts like a queue, where an item is deququed by removing it from the front  \n",
    "<br></br>\n",
    "- However the logical order of the items inside a queue is determined by their priority\n",
    "    - The highest priority items are at the front of the queue\n",
    "    - The lowest priority items are at the back of the queue  \n",
    "<br></br>\n",
    "- When an item is enqueued on a priority queue it may move all the way to the front  \n",
    "<br></br>\n",
    "- Priority queues are usually implemented using **Binary heaps**\n",
    "    - A binary heap will allow for enqueuing and dequeuing items in O(log(n))"
   ]
  },
  {
   "cell_type": "markdown",
   "metadata": {},
   "source": [
    "### Binary Heap\n",
    "- Two common variations:\n",
    "    - **Min heap** - Where the smallest key is always at the front\n",
    "    - **Max heap** - Where the largest key is always at the front"
   ]
  },
  {
   "cell_type": "markdown",
   "metadata": {},
   "source": [
    "<img src='pics/binary_heap_img_1.png'>"
   ]
  },
  {
   "cell_type": "markdown",
   "metadata": {},
   "source": [
    "- Using a binary heap the tree can be stored in a single list\n",
    "    - Rather than using a list of lists  \n",
    "<br></br>\n",
    "- E.g Level 1, left child = 9  \n",
    "<br></br>\n",
    "- The index postion of the value 9 = ***2***\n",
    "    - Left child will be found at the index position **2P** = ***4***\n",
    "        - Value at index position ***4*** = 14\n",
    "    - Right child will be found at the index position **2P+1** = ***5***\n",
    "        - Value at index position ***5*** = 18"
   ]
  },
  {
   "cell_type": "markdown",
   "metadata": {},
   "source": [
    "#### Implementation"
   ]
  },
  {
   "cell_type": "code",
   "execution_count": 18,
   "metadata": {},
   "outputs": [],
   "source": [
    "# How to build a binary heap\n",
    "class Bin_heap():\n",
    "    def __init__(self):\n",
    "        self.heap_list = [0]\n",
    "        self.current_size = 0"
   ]
  },
  {
   "cell_type": "markdown",
   "metadata": {},
   "source": [
    "- A new item can be appended to the end of the list easily\n",
    "    - **insert()** function\n",
    "    - However to keep it a binary heap it must be swapped into the correct position \n",
    "        - **percUp()** function  \n",
    "<br></br>\n",
    "- **The heap order property must be restored**\n",
    "    - Compare new item with it's parent\n",
    "    - If he new item is less than the parent swap these items  \n",
    "<br></br>\n",
    "- The new item will percolate its way up to it's correct position witin the tree"
   ]
  },
  {
   "cell_type": "markdown",
   "metadata": {},
   "source": [
    "<img src='pics/binary_heap_append_1.png'>"
   ]
  },
  {
   "cell_type": "markdown",
   "metadata": {},
   "source": [
    "<img src='pics/binary_heap_append_2.png'>"
   ]
  },
  {
   "cell_type": "markdown",
   "metadata": {},
   "source": [
    "<img src='pics/binary_heap_append_3.png'>"
   ]
  },
  {
   "cell_type": "code",
   "execution_count": null,
   "metadata": {},
   "outputs": [],
   "source": [
    "def perc_up(self, i):\n",
    "    while i // 2 > 0:    # Find the position of the parent for a value, in the tree\n",
    "        if self.heap_list[i] < self.heap_list[i // 2]:    # If the item < it's parent\n",
    "            tmp = self.heap_list[i // 2]\n",
    "            self.heap_list[i // 2] = self.heap_list[i]    # Swap these values\n",
    "            self.heap_list[i] = tmp\n",
    "    i = i // 2    # Move up one level in the tree to repeat the swapping process"
   ]
  },
  {
   "cell_type": "code",
   "execution_count": null,
   "metadata": {},
   "outputs": [],
   "source": [
    "def insert(self, k):\n",
    "    self.heap_list.append(k)    # At a new item to the end of the list\n",
    "    self.current_size = self.current_size + 1    # Increase value of current_size by 1\n",
    "    self.perc_up(self.current_size)    # Percolate the last item into position"
   ]
  },
  {
   "cell_type": "markdown",
   "metadata": {},
   "source": [
    "- The **delMin** method is trival to create\n",
    "    - As the heap order property requires the root of the tree to be the smallest item in the tree  \n",
    "<br></br>\n",
    "- **The heap structure must be restored**\n",
    "    - Restore the root by taking the last item and moving it to the root position\n",
    "- **The heap order property must be restored**\n",
    "    - Move the new root node to it's correct position within the tree, **percDown()**\n",
    "        - Keep swapping items between nodes and their childeren\n",
    "            - Until each node is less than both of its children"
   ]
  },
  {
   "cell_type": "markdown",
   "metadata": {},
   "source": [
    "<img src='pics/binary_heap_remove_1.png'>"
   ]
  },
  {
   "cell_type": "markdown",
   "metadata": {},
   "source": [
    "<img src='pics/binary_heap_remove_2.png'>"
   ]
  },
  {
   "cell_type": "markdown",
   "metadata": {},
   "source": [
    "<img src='pics/binary_heap_remove_3.png'>"
   ]
  },
  {
   "cell_type": "markdown",
   "metadata": {},
   "source": [
    "<img src='pics/binary_heap_remove_4.png'>"
   ]
  },
  {
   "cell_type": "code",
   "execution_count": 7,
   "metadata": {},
   "outputs": [],
   "source": [
    "# When the index position of the node = p:\n",
    "    # left child = 2p\n",
    "    # right child = 2p +1\n",
    "def minChild(self, i):\n",
    "    '''\n",
    "    Provides the position of the minimum value, within this binary tree.\n",
    "    '''\n",
    "    # See if this node has children\n",
    "    if i * 2 + 1 > self.curentSize:\n",
    "        return i * 2\n",
    "    else:\n",
    "        # Compare and see if whether the left or right child has the lowest value\n",
    "        if self.heapList[i * 2] < self.heapList[i * 2 + 1]:\n",
    "            # If the left child's value lower than the right child's value\n",
    "            return i * 2\n",
    "        else:\n",
    "            # If the right child's value lower than the left child's value\n",
    "            return i * 2 + 1 "
   ]
  },
  {
   "cell_type": "code",
   "execution_count": 8,
   "metadata": {},
   "outputs": [],
   "source": [
    "# perdDown() is dependant on minChild()\n",
    "def percDown(self, i):\n",
    "    '''\n",
    "    If a node's value is larger than either if it's children, then swap there positions.\n",
    "    The largest value will then percolate down the tree to it's correct position.\n",
    "    '''\n",
    "    # Check if the level is found within the tree\n",
    "    # Then, check to see if the currnt value is smaller or larger than it's children\n",
    "    while (i * 2) <= self.currentSize:\n",
    "        mc = self.minChild(i)\n",
    "        # If the item's value is greater than the minimum child (mc), switch the values\n",
    "        if self.heapList[i] > self.heapList[mc]:\n",
    "            tmp = self.heapList[i]\n",
    "            self.heapList[i] = self.heapList[mc]\n",
    "            self.heapList[mc] = tmp\n",
    "        i = mc"
   ]
  },
  {
   "cell_type": "code",
   "execution_count": 9,
   "metadata": {},
   "outputs": [],
   "source": [
    "# An empty self.heapList = [0]\n",
    "def delMin(self):\n",
    "    '''\n",
    "    Remove the minimum value in the tree (the root node's value) from the tree.\n",
    "    '''\n",
    "    retval = self.heapList[1]\n",
    "    # The last item is made the root node\n",
    "    self.heapList[1] = self.heapList[self.currentSize]\n",
    "    # The current size of the list is rediced by 1 after deleting an item\n",
    "    self.currentSize = self.currentSize - 1\n",
    "    # Afetr setting the root node with the value of the last item, it is removed\n",
    "    seld.heapList.pop()\n",
    "    # Move the new root's value to the correct position within this binary tree\n",
    "    self.percDown(1)"
   ]
  },
  {
   "cell_type": "code",
   "execution_count": 17,
   "metadata": {},
   "outputs": [],
   "source": [
    "# Build the binary heap\n",
    "def build_bin_heap(self, a_list):\n",
    "    def __init__(self):\n",
    "        # The starting position is the middle of the list\n",
    "        i = len(a_list) // 2\n",
    "        # Add a '0' as the first item as the heap list's start with a '0' value\n",
    "        self.heap_list = [0] + a_list[:]\n",
    "        # The current size is the len of the list\n",
    "        self.current_size = len(a_list)\n",
    "        # Stop origanising the heap order structure after organised the last list-item\n",
    "        while (i > 0):\n",
    "            # Move values into the correct positions, smallest at the top (min heap)\n",
    "            self.percDown(i)\n",
    "            # Starting moving up the levels, towards the top of the heap\n",
    "            i = i - 1"
   ]
  },
  {
   "cell_type": "markdown",
   "metadata": {},
   "source": [
    "### Binary Search Trees\n",
    "- Implementations of map ADT (Abstract Data Type):\n",
    "    - Binary search on list\n",
    "    - Hash tables\n",
    "    - Binary search tree  \n",
    "<br></br>\n",
    "- These methods are used to map a key of a value  \n",
    "<br></br>\n",
    "- For **Binary Search Trees**:\n",
    "    - Not interested in the exact placement of items in the tree\n",
    "    - Interested in providing efficient searching\n",
    "    - Have an ***bst property*** - *ordering property*:\n",
    "        - Keys that are less than the parent, are found in the left subtree\n",
    "        - Keys that are greater than the parent, are found in the right subtree"
   ]
  },
  {
   "cell_type": "markdown",
   "metadata": {},
   "source": [
    "- **Basic operations on a BST**  \n",
    "<br></br>\n",
    "    - *Create*: creates an empty tree\n",
    "    - *Insert*: insert a node in the tree\n",
    "    - *Search*: Searches for a node in the tree\n",
    "    - *Delete*: deletes a node from the tree  \n",
    "<br></br>\n",
    "    - *Inorder*: in-order traversal of the tree\n",
    "    - *Preorder*: pre-order traversal of the tree\n",
    "    - *ostorder*: post-order traversal of the tree"
   ]
  },
  {
   "cell_type": "markdown",
   "metadata": {},
   "source": [
    "* Arrange this list, using the bst ordering property [70, 31, 93, 94, 14, 23, 73]"
   ]
  },
  {
   "cell_type": "markdown",
   "metadata": {},
   "source": [
    "<img src='pics/bst_ex1.png'>"
   ]
  },
  {
   "cell_type": "markdown",
   "metadata": {},
   "source": [
    "* In order to create and work with an empty binary search tree:\n",
    "    - Make one class for the binary search tree (**binary_search_tree**)\n",
    "    - Make one class for the tree node (**tree_node**)"
   ]
  },
  {
   "cell_type": "code",
   "execution_count": 129,
   "metadata": {},
   "outputs": [],
   "source": [
    "class tree_node():\n",
    "    # The construction of this object's attributes\n",
    "    def __init__(self,key,val,left=None,right=None,parent=None):\n",
    "        self.key = key\n",
    "        self.payload = val\n",
    "        self.leftChild = left\n",
    "        self.rightChild = right\n",
    "        self.parent = parent\n",
    "    \n",
    "    # Return the left child\n",
    "    def hasLeftChild(self):\n",
    "        return self.leftChild\n",
    "    \n",
    "    # Return the right child\n",
    "    def hasRightChild(self):\n",
    "        return self.rightChild\n",
    "    \n",
    "    # # Return true if\n",
    "    def isLeftChild(self):\n",
    "        return self.parent and self.parent.leftChild == self\n",
    "    \n",
    "    # Return true if \n",
    "    def isRightChild(self):\n",
    "        return self.parent and self.parent.rightChild == self\n",
    "    \n",
    "    # Return true if root node, if parent value is 'None' or 'False'\n",
    "    def isRoot(self):\n",
    "        return not self.parent\n",
    "    \n",
    "    # Return true if no children present (leaf node)\n",
    "    def isLeaf(self):\n",
    "        return not (self.rightChild or self.leftChild)\n",
    "    \n",
    "    # # Return true if any children present\n",
    "    def hasAnyChildren(self):\n",
    "        return self.rightChild or self.leftChild\n",
    "    \n",
    "    # # Return true if both children are present\n",
    "    def hasBothChildren(self):\n",
    "        return self.rightChild and self.leftChild\n",
    "    \n",
    "    # Repalce a node, with new key, payload\n",
    "        # Update the parent left and right values\n",
    "    def replaceNodeData(self,key,value,lc,rc):\n",
    "        self.key = key\n",
    "        self.payload = value\n",
    "        self.leftChild = lc\n",
    "        self.rightChild = rc\n",
    "        # The left-child's parent field is reset to self\n",
    "            # Which is an object with these 4 fields\n",
    "                # As this object will be replacing the old root node\n",
    "        if self.hasLeftChild():\n",
    "            self.leftChild.parent = self\n",
    "        # The right-child's parent field is reset to self\n",
    "            # Which is an object with these 4 fields\n",
    "                # As this object will be replacing the old root node\n",
    "        if self.hasRightChild():\n",
    "            self.rightChild.parent = self"
   ]
  },
  {
   "cell_type": "code",
   "execution_count": 134,
   "metadata": {},
   "outputs": [],
   "source": [
    "class binary_search_tree():\n",
    "    \n",
    "    def __init__(self):\n",
    "        self.root = None\n",
    "        self.size = 0\n",
    "        \n",
    "    def length(self):\n",
    "        return self.size\n",
    "    \n",
    "    def __len__(self):\n",
    "        return self.size\n",
    "\n",
    "    # Check to see if the tree already has a route\n",
    "    def put(self,key,val):\n",
    "        # If a root is present, call the private, recursive helper function _put\n",
    "        if self.root:\n",
    "            # Place the new node in the correct position (bst ordering property) \n",
    "                # Enter the new node key and value to insert (1st and 2nd arguement)\n",
    "                # Enter the self.root-node-object as the current_node (3rd arguement)\n",
    "            self._put(key,val,self.root)\n",
    "        # If there is no root then create a new tree_node, and install it as the root\n",
    "        else:\n",
    "            self.root = TreeNode(key,val) # N.B. A class attribute can be an object\n",
    "        self.size = self.size + 1\n",
    "    \n",
    "    # Starting at the root of the tree, and recursively search the binary-tree\n",
    "        # Compare the new key, to the key of the curent-node\n",
    "            # The current node is placed into the first empty child field\n",
    "                # Based to the ordering proeprty\n",
    "                    # Values less than the current node go to the left\n",
    "                    # Values greater than the current node go to the right\n",
    "    def _put(self,key,val,currentNode):\n",
    "        # If the new key is less than the current node, search the left sub-tree\n",
    "        if key < currentNode.key:\n",
    "            # If left child present\n",
    "            if currentNode.hasLeftChild():\n",
    "                self._put(key,val,currentNode.leftChild)\n",
    "            # If no left child present\n",
    "            else:\n",
    "                # Create a new node, using the tree_node object, at the position\n",
    "                currentNode.leftChild = TreeNode(key,val,parent=currentNode)\n",
    "        # If the new key is greater than the current node, search the right sub-tree\n",
    "        else:\n",
    "            # If right child present\n",
    "            if currentNode.hasRightChild():\n",
    "                self._put(key,val,currentNode.rightChild)\n",
    "            # If no right child present\n",
    "            else:\n",
    "                # Create a new node, using the tree_node object, at the position\n",
    "                currentNode.rightChild = TreeNode(key,val,parent=currentNode)\n",
    "                \n",
    "    # Rather than calling the method on the object (binary_search_tree.put(key, value)),\n",
    "        # The object can be used as a dictionary (binary_search_tree[key])\n",
    "    def __setitem__(self,k,v):\n",
    "        self.put(k,v)\n",
    "        \n",
    "\n",
    "    # Starting at the root of the tree, and recursively search the binary-tree\n",
    "    def get(self,key):\n",
    "        # If a root node is present\n",
    "        if self.root:\n",
    "            # If the _get method finds a matching key from the binary tree\n",
    "            res = self._get(key,self.root)\n",
    "            if res:\n",
    "                # Return the payload (value), for the node with the found key\n",
    "                return res.payload\n",
    "            # If the _get method does not find a matching key from the binary tree\n",
    "            else:\n",
    "                return None\n",
    "        # If a root node is not present\n",
    "        else:\n",
    "            return None\n",
    "\n",
    "    def _get(self,key,currentNode):\n",
    "        # If the starting node (root) is not present\n",
    "        if not currentNode:\n",
    "            return None\n",
    "        # If the targeted key matches the current node\n",
    "        elif currentNode.key == key:\n",
    "            return currentNode\n",
    "        # If the targeted key is less tha current node\n",
    "        elif key < currentNode.key:\n",
    "            return self._get(key,currentNode.leftChild)\n",
    "        # If the targeted key is greater than current node\n",
    "        else:\n",
    "            return self._get(key,currentNode.rightChild)\n",
    "\n",
    "    # Rather than calling the method on the object (binary_search_tree.get(key)),\n",
    "        # The object can be used as a dictionary (binary_search_tree[key])\n",
    "    def __getitem__(self,key):\n",
    "        return self.get(key)\n",
    "\n",
    "\n",
    "    # Find the node to delete, by searching through the binary-tree\n",
    "        # Search using the _get method to find the tree_node that will be removed\n",
    "    def delete(self,key):\n",
    "        '''\n",
    "        1. If more than one node (size > 1) and a match exists then remove the node\n",
    "            -> The delete function will use remove(), when:\n",
    "                1.1 Only leaf node(s) exists\n",
    "                1.2 Both children exists\n",
    "                1.3 Only one child exists\n",
    "                \n",
    "        2. If only one node (size = 1) and a match exists then reset the root node\n",
    "        '''\n",
    "        \n",
    "        if self.size > 1: # If the tree has more than one node\n",
    "            nodeToRemove = self._get(key,self.root)\n",
    "            if nodeToRemove: # If the target key is found\n",
    "                self.remove(nodeToRemove) # Remove then node (remove() is defined below)\n",
    "                self.size = self.size-1 # Update the size of the tree\n",
    "            else:\n",
    "                # Raise an error if the search key is not found\n",
    "                raise KeyError('Error, key not in tree')\n",
    "        # If the tree has only has one node, check if the key also matches\n",
    "        elif self.size == 1 and self.root.key == key:\n",
    "            self.root = None # Reset the root node to 'None'\n",
    "            self.size = self.size - 1 # Update the size of the tree\n",
    "        else:\n",
    "            # Raise an error if the search key is not found\n",
    "            raise KeyError('Error, key not in tree')\n",
    "\n",
    "    def __delitem__(self,key):\n",
    "        self.delete(key)\n",
    "\n",
    "    # <-- currentNode is referencing self.root, which if present, is a treeNode -->\n",
    "    def remove(self,currentNode):\n",
    "        \n",
    "        # <---------Deleting nodes case 1 (image below)--------->\n",
    "        \n",
    "        if currentNode.isLeaf(): # If the current node is a leaf node (no children)\n",
    "            # N.B. The child node will be stored as an object within the parent\n",
    "            # If the target-node matches as the left child\n",
    "            if currentNode == currentNode.parent.leftChild: \n",
    "                currentNode.parent.leftChild = None # Remove current node\n",
    "             # If the target-node matches as the right child (the only other option)\n",
    "            else:\n",
    "                currentNode.parent.rightChild = None # Remove current node\n",
    "        \n",
    "        \n",
    "        # <--------- Deleting nodes case 2 (image below) --------->\n",
    "        \n",
    "        # if a node has both it's children\n",
    "            # The node with the next largest key will take the current node's place\n",
    "                # This node is called the sucessor (succ) and must be found\n",
    "        elif currentNode.hasBothChildren(): # If current node has both children\n",
    "            succ = currentNode._findSuccessor() # Find node with the next largest key\n",
    "            succ._spliceOut() # Splice that node into curent node's position\n",
    "            currentNode.key = succ.key # Succ's key becomes the current node's key\n",
    "            currentNode.payload = succ.payload # Succ's pl becomes the current node's pl\n",
    "        \n",
    "        \n",
    "        # <--------- Deleting nodes case 3 (image below) --------->\n",
    "        \n",
    "        # The only possible scenario now, is that the node has one child\n",
    "            # Promote the child to take the place of it's parent\n",
    "        # UPDATE the child node's parent-field, to the current node's parent-field\n",
    "        # UPDATE the parent node's child-field, to the current node's child-field \n",
    "            # These updates will remove all reference to the current node\n",
    "                # From it's parent and children\n",
    "        else: \n",
    "            # Firstly check if the current node has a left child\n",
    "                # Seeing as the left child will have a lower value than the right child\n",
    "                # The left node will take the place of the current node\n",
    "            # All the sub conditions in this condition, have a left child\n",
    "                # Which will take the place of the current node\n",
    "            if currentNode.hasLeftChild():\n",
    "                # If the current node is a left child node\n",
    "                if currentNode.isLeftChild():\n",
    "                    currentNode.leftChild.parent = currentNode.parent\n",
    "                    currentNode.parent.leftChild = currentNode.leftChild\n",
    "                # # If the current node is a right child node \n",
    "                elif currentNode.isRightChild():\n",
    "                    currentNode.leftChild.parent = currentNode.parent\n",
    "                    currentNode.parent.rightChild = currentNode.leftChild\n",
    "                # If the current-node is not a left or right child then it is the root\n",
    "                    # eplace_node_date() is used as there is no parent\n",
    "                # Rather than connecting the current node's lowest child and parent\n",
    "                    # Seeing as there is no parent to the root\n",
    "                # The fields of the root are reset\n",
    "                    # Using the values of the current node's lowest child node\n",
    "                else:\n",
    "                    currentNode.replaceNodeData(currentNode.leftChild.key,\n",
    "                                                currentNode.leftChild.payload,\n",
    "                                                currentNode.leftChild.leftChild,\n",
    "                                                currentNode.leftChild.rightChild)\n",
    "            \n",
    "            # If a left child is NOT present then the right node will take it's place\n",
    "            else:\n",
    "                # # If the current node is a left child node\n",
    "                if currentNode.isLeftChild():\n",
    "                    currentNode.rightChild.parent = currentNode.parent\n",
    "                    currentNode.parent.leftChild = currentNode.rightChild\n",
    "                # # If the current node is a right child node\n",
    "                elif currentNode.isRightChild():\n",
    "                    currentNode.rightChild.parent = currentNode.parent\n",
    "                    currentNode.parent.rightChild = currentNode.rightChild\n",
    "                # If the current-node is not a left or right child then it is the root\n",
    "                    # eplace_node_date() is used as there is no parent\n",
    "                # Rather than connecting the current node's lowest child and parent\n",
    "                    # Seeing as there is no parent to the root\n",
    "                # The fields of the root are reset\n",
    "                    # Using the values of the current node's lowest child node\n",
    "                else:\n",
    "                    currentNode.replaceNodeData(currentNode.rightChild.key,\n",
    "                                                currentNode.rightChild.payload,\n",
    "                                                currentNode.rightChild.leftChild,\n",
    "                                                currentNode.rightChild.rightChild)\n",
    "\n",
    "    # * Helps _findSuccessor() to find the lowest left child value\n",
    "    def _findMin(self):\n",
    "        current = self\n",
    "        while current.hasLeftChild(): # Whilst a left child exists for the current node\n",
    "            current = current.leftChild # Reset 'current''s value with this new value\n",
    "        return current # Return the furthest left child, in this search\n",
    "\n",
    "    # Helps remove() to ___ when ___ both children are present\n",
    "    # The successor is taken to be the next largest value\n",
    "    def _findSuccessor(self):\n",
    "        succ = None \n",
    "        if self.hasRightChild(): # Check if there is a right child to the current node\n",
    "            # If there is a right child for the current node\n",
    "            # Then furthest left child of the current node is the next value *\n",
    "            succ = self.rightChild._findMin() \n",
    "        else: # If no right-child for the current node\n",
    "            if self.parent: # If a parent node exists, for the current-node\n",
    "                if self.isLeftChild(): # If the current-node is a left child\n",
    "                    succ = self.parent # Then the next value is the parent\n",
    "                # If current node is a right child, but doesn't have a right child\n",
    "                    # Then the successor is the successor of it's parent\n",
    "                    # I.e The next largest key, after the parent excluding current node\n",
    "                else: \n",
    "                    self.parent.rightChild = None # Disregard current node from search\n",
    "                    succ = self.parent._findSuccessor() # Find successor of parent node\n",
    "                    self.parent.rightChild = self # Reset current node with the succ\n",
    "        return succ\n",
    "                    \n",
    "    # Splice succ node from binary tree, and then move the nodes to maintain bst order\n",
    "    def _spliceOut(self): # 'self' here is the successor node\n",
    "        \n",
    "        # Is a leaf node\n",
    "        if self.isLeaf(): # If leaf node\n",
    "            if self.isLeftChild(): # If successor node is a left child leaf node\n",
    "                self.parent.leftChild = None # Remove succ node's references to parents \n",
    "            else: # If successor node is a right child leaf node\n",
    "                self.parent.rightChild = None # Remove succ node's references to parents\n",
    "\n",
    "        # Succ guarantee condition of only one child\n",
    "        else self.hasAnyChildren # Figure 3.1\n",
    "            # Update the references for the parent, left and right child nodes, for self\n",
    "            if self.hasLeftChild(): # If the successor has a left child\n",
    "                if self.isLeftChild():\n",
    "                    self.parent.leftChild = self.leftChild # Reset parent's left child\n",
    "                else:\n",
    "                    self.parent.rightChild = self.leftChild # Reset parent's right child\n",
    "                self.leftChild.parent = self.parent # Resets the left-child's parent\n",
    "                \n",
    "            else: # If the successor has a right child\n",
    "                if self.isLeftChild():  \n",
    "                    self.parent.leftChild = self.rightChild # Reset parent's left child\n",
    "                else:\n",
    "                    self.parent.rightChild = self.rightChild # Reset parent's right child\n",
    "                self.rightChild.parent = self.parent # Resets the right-child's parent\n",
    "                \n",
    "    # An iterator should only return one node each time it's called\n",
    "    def __iter__(self):\n",
    "        if self:\n",
    "            if self.hasLeftChild():\n",
    "                for elem in self.leftChild:\n",
    "                    yield elem\n",
    "            yield self.key\n",
    "            if self.hasRightChild():\n",
    "                for elem in self.rightChild:\n",
    "                    yield elem"
   ]
  },
  {
   "cell_type": "markdown",
   "metadata": {},
   "source": [
    "#### Deleting nodes case 1  \n",
    "<img src='pics/del_node_1.png'>"
   ]
  },
  {
   "cell_type": "markdown",
   "metadata": {},
   "source": [
    "#### Deleting nodes case 2   \n",
    "<img src='pics/del_node_2_i.png'>  \n",
    "##### 2.1  \n",
    "<img src='pics/binary_trees_remove_1_child.png'>"
   ]
  },
  {
   "cell_type": "markdown",
   "metadata": {},
   "source": [
    "#### Deleting nodes case 3  \n",
    "<img src='pics/del_node_3.png'>  \n",
    "##### 3.1  \n",
    "<img src='pics/binary_trees_remove_2_child.png'>"
   ]
  },
  {
   "cell_type": "markdown",
   "metadata": {},
   "source": [
    "* If a duplicate key is inserted, this collision should be handled\n",
    "    * One method is replace the previous key's value with the new entry's value"
   ]
  },
  {
   "cell_type": "code",
   "execution_count": null,
   "metadata": {},
   "outputs": [],
   "source": [
    "mytree = binary_search_tree()\n",
    "mytree[3]=\"red\"\n",
    "mytree[4]=\"blue\"\n",
    "mytree[6]=\"yellow\"\n",
    "mytree[2]=\"at\"\n",
    "\n",
    "print(mytree[6])\n",
    "print(mytree[2])"
   ]
  },
  {
   "cell_type": "code",
   "execution_count": null,
   "metadata": {},
   "outputs": [],
   "source": []
  }
 ],
 "metadata": {
  "kernelspec": {
   "display_name": "Python 3",
   "language": "python",
   "name": "python3"
  },
  "language_info": {
   "codemirror_mode": {
    "name": "ipython",
    "version": 3
   },
   "file_extension": ".py",
   "mimetype": "text/x-python",
   "name": "python",
   "nbconvert_exporter": "python",
   "pygments_lexer": "ipython3",
   "version": "3.7.4"
  }
 },
 "nbformat": 4,
 "nbformat_minor": 2
}
