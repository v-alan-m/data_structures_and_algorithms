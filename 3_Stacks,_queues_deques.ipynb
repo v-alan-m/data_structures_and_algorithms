{
 "cells": [
  {
   "cell_type": "markdown",
   "metadata": {},
   "source": [
    "# 3. Stacks, queues and deques\n",
    "- Linear structures\n",
    "    - Similar to arrays but each differs by how they:\n",
    "        - Add items\n",
    "        - Remove items"
   ]
  },
  {
   "cell_type": "markdown",
   "metadata": {},
   "source": [
    "## 3.1 Stacks\n",
    "- Last in, first out (**LIFO**)"
   ]
  },
  {
   "cell_type": "raw",
   "metadata": {},
   "source": [
    "- 1              (add)\n",
    "- 1,2            (add) @end\n",
    "- 1,2,3          (add) @end\n",
    "- 1,2,3,4        (add) @end\n",
    "- 1,2,3,4,5      (add) @end\n",
    "- 1,2,3,4,5,6    (add) @end\n",
    "- 1,2,3,4,5      (remove) @end\n",
    "- 1,2,3,4        (remove) @end\n",
    "- 1,2,3          (remove) @end\n",
    "- 1,2            (remove) @end\n",
    "- 1              (remove) @end"
   ]
  },
  {
   "cell_type": "markdown",
   "metadata": {},
   "source": [
    "- **Stack()**:\n",
    "    - creates a new stack that is empty\n",
    "        - *It needs no parameters and returns an empty stack*\n",
    "- **.push(item)**: \n",
    "    - Adds a new item to the top of the stack\n",
    "        - *It needs the item and returns nothing*\n",
    "- **.pop()**:\n",
    "    - Removes the top item from the stack\n",
    "        - *It needs no parameters and returns the item. The stack is modified*\n",
    "- **.peek()**:\n",
    "    - Returns the top item from the stack but does not remove it\n",
    "        - *It needs no parameters. The stack is not modified*\n",
    "- **.isEmpty()**:\n",
    "    - Tests to see whether the stack is empty\n",
    "        - *It needs no parameters and returns a boolean value*\n",
    "- **.size()**:\n",
    "    - Returns the number of items on the stack\n",
    "        - *It needs no parameters and returns an integer*"
   ]
  },
  {
   "cell_type": "code",
   "execution_count": null,
   "metadata": {},
   "outputs": [],
   "source": [
    "class Stack:\n",
    "    \n",
    "    def __init__(self):\n",
    "        self.items = []\n",
    "\n",
    "    def isEmpty(self):\n",
    "        return self.items == []\n",
    "\n",
    "    def push(self, item):\n",
    "        self.items.append(item)\n",
    "\n",
    "    def pop(self):\n",
    "        return self.items.pop()\n",
    "\n",
    "    def peek(self):\n",
    "        return self.items[len(self.items)-1]\n",
    "\n",
    "    def size(self):\n",
    "        return len(self.items)"
   ]
  },
  {
   "cell_type": "markdown",
   "metadata": {},
   "source": [
    "## 3.2 Queues\n",
    "- First in, first out (**FIFO**)\n",
    "    - **Enqueue**: Adding an item to the back of the queue\n",
    "    - **Denqueue**: Removing an item from the back of the queue"
   ]
  },
  {
   "cell_type": "raw",
   "metadata": {},
   "source": [
    "- 1              (add) @end\n",
    "- 1,2            (add) @end\n",
    "- 1,2,3          (add) @end\n",
    "- 1,2,3,4        (add) @end\n",
    "- 1,2,3,4,5      (add) @end\n",
    "- 1,2,3,4,5,6    (add) @end\n",
    "- 2,3,4,5,6      (remove) @front\n",
    "- 3,4,5,6        (remove) @front\n",
    "- 4,5,6          (remove) @front\n",
    "- 5,6            (remove) @front\n",
    "- 6              (remove) @front"
   ]
  },
  {
   "cell_type": "markdown",
   "metadata": {},
   "source": [
    "- **Queue()**:\n",
    "    - Creates a new queue that is empty\n",
    "        - *It needs no parameters and returns an empty queue*\n",
    "- **.enqueue(item):** \n",
    "    - Adds a new item to the rear of the queue\n",
    "        - *It needs the item and returns nothing*\n",
    "- **.dequeue():**\n",
    "    - Removes the front item from the queue\n",
    "        - *It needs no parameters and returns the item. The queue is modified*\n",
    "- **.isEmpty():**\n",
    "    - Tests to see whether the queue is empty\n",
    "        - *It needs no parameters and returns a boolean value*\n",
    "- **.size():**\n",
    "    - Returns the number of items in the queue\n",
    "        - *It needs no parameters and returns an integer*"
   ]
  },
  {
   "cell_type": "code",
   "execution_count": null,
   "metadata": {},
   "outputs": [],
   "source": [
    "class Queue:\n",
    "    def __init__(self):\n",
    "        self.items = []\n",
    "\n",
    "    def isEmpty(self):\n",
    "        return self.items == []\n",
    "\n",
    "    def enqueue(self, item):\n",
    "        self.items.insert(0,item)\n",
    "\n",
    "    def dequeue(self):\n",
    "        return self.items.pop()\n",
    "\n",
    "    def size(self):\n",
    "        return len(self.items)"
   ]
  },
  {
   "cell_type": "markdown",
   "metadata": {},
   "source": [
    "## 3.3 Deques\n",
    "- Double-ended queue\n",
    "     - Items can be added at the front or rear\n",
    "     - Items can be removed at the front or rear"
   ]
  },
  {
   "cell_type": "raw",
   "metadata": {},
   "source": [
    "- 1              (add) @end\n",
    "- 1,2            (add) @front\n",
    "- 3,1,2          (add)\n",
    "- 4,1,2,3        (add)\n",
    "- 4,1,2,3,5      (add)\n",
    "- 4,1,2,3,5,6    (add)\n",
    "- 1,2,3,5,6      (remove)\n",
    "- 1,2,3,5        (remove)\n",
    "- 2,3,5          (remove)\n",
    "- 2,3            (remove)\n",
    "- 3              (remove)"
   ]
  },
  {
   "cell_type": "markdown",
   "metadata": {},
   "source": [
    "- **Deque()**:\n",
    "    - Creates a new deque that is empty\n",
    "        - *It needs no parameters and returns an empty deque*\n",
    "- **.addFront(item)**:\n",
    "    - Adds a new item to the front of the deque\n",
    "        - *It needs the item and returns nothing*\n",
    "- **.addRear(item)**\n",
    "    - Adds a new item to the rear of the deque\n",
    "        - *It needs the item and returns nothing*\n",
    "- **.removeFront()**\n",
    "    - Removes the front item from the deque\n",
    "         - *It needs no parameters and returns the item. The deque is modified*\n",
    "- **.removeRear()**\n",
    "    - Removes the rear item from the deque\n",
    "        - *It needs no parameters and returns the item. The deque is modified*\n",
    "- **.isEmpty()**\n",
    "    - Tests to see whether the deque is empty\n",
    "        - *It needs no parameters and returns a boolean value*\n",
    "- **.size()**\n",
    "    - Returns the number of items in the deque\n",
    "        - *It needs no parameters and returns an integer*"
   ]
  },
  {
   "cell_type": "code",
   "execution_count": null,
   "metadata": {},
   "outputs": [],
   "source": [
    "class Deque:\n",
    "    def __init__(self):\n",
    "        self.items = []\n",
    "\n",
    "    def isEmpty(self):\n",
    "        return self.items == []\n",
    "\n",
    "    def addFront(self, item):\n",
    "        self.items.append(item)\n",
    "\n",
    "    def addRear(self, item):\n",
    "        self.items.insert(0,item)\n",
    "\n",
    "    def removeFront(self):\n",
    "        return self.items.pop()\n",
    "\n",
    "    def removeRear(self):\n",
    "        return self.items.pop(0)\n",
    "\n",
    "    def size(self):\n",
    "        return len(self.items)"
   ]
  }
 ],
 "metadata": {
  "kernelspec": {
   "display_name": "Python 3",
   "language": "python",
   "name": "python3"
  },
  "language_info": {
   "codemirror_mode": {
    "name": "ipython",
    "version": 3
   },
   "file_extension": ".py",
   "mimetype": "text/x-python",
   "name": "python",
   "nbconvert_exporter": "python",
   "pygments_lexer": "ipython3",
   "version": "3.7.4"
  },
  "toc": {
   "base_numbering": 1,
   "nav_menu": {},
   "number_sections": true,
   "sideBar": false,
   "skip_h1_title": false,
   "title_cell": "Table of Contents",
   "title_sidebar": "Contents",
   "toc_cell": false,
   "toc_position": {
    "height": "788px",
    "left": "768px",
    "top": "54px",
    "width": "192px"
   },
   "toc_section_display": true,
   "toc_window_display": true
  }
 },
 "nbformat": 4,
 "nbformat_minor": 2
}
