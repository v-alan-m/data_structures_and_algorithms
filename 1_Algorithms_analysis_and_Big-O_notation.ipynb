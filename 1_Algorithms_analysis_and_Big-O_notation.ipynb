{
 "cells": [
  {
   "cell_type": "markdown",
   "metadata": {},
   "source": [
    "# 1. Algorithms analysis and Big-O notation\n",
    "- **The relationship between the number of output values based on the number of input values, whilst the number of input values approaches infinity**\n",
    "    - Describes the performance of an algorithm for the worst-case scenario, based on the execution-time-required or memory-space used \n",
    "    - E.g: O(n): Runtime grows linearly with the input size"
   ]
  },
  {
   "cell_type": "markdown",
   "metadata": {},
   "source": [
    "<table>\n",
    "<tr>\n",
    "    <th><strong>Big-O</strong></th>\n",
    "    <th><strong>Name</strong></th>\n",
    "</tr>\n",
    "<tr>\n",
    "    <td>1</td>\n",
    "    <td>Constant</td>\n",
    "</tr>\n",
    "<tr>\n",
    "    <td>log(n)</td>\n",
    "    <td>Logarithmic</td>\n",
    "</tr>\n",
    "    <tr><td>n</td>\n",
    "    <td>Linear</td>\n",
    "</tr>\n",
    "    <tr><td>nlog(n)</td>\n",
    "    <td>Log Linear</td>\n",
    "</tr>\n",
    "    <tr><td>n^2</td>\n",
    "    <td>Quadratic</td>\n",
    "</tr>\n",
    "    <tr><td>n^3</td>\n",
    "    <td>Cubic</td>\n",
    "</tr>\n",
    "    <tr><td>2^n</td>\n",
    "    <td>Exponential</td>\n",
    "</tr>\n",
    "</table>"
   ]
  },
  {
   "cell_type": "code",
   "execution_count": null,
   "metadata": {},
   "outputs": [],
   "source": [
    "from math import log\n",
    "import numpy as np\n",
    "import matplotlib.pyplot as plt\n",
    "%matplotlib inline\n",
    "plt.style.use('bmh')\n",
    "\n",
    "# Set up runtime comparisons\n",
    "n = np.linspace(1,10,1000)\n",
    "labels = ['Constant','Logarithmic','Linear','Log Linear','Quadratic','Cubic','Exponential']\n",
    "big_o = [np.ones(n.shape),np.log(n),n,n*np.log(n),n**2,n**3,2**n]\n",
    "\n",
    "# Plot setup\n",
    "plt.figure(figsize=(12,10))\n",
    "plt.ylim(0,50)\n",
    "\n",
    "for i in range(len(big_o)):\n",
    "    plt.plot(n,big_o[i],label = labels[i])\n",
    "\n",
    "\n",
    "plt.legend(loc=0)\n",
    "plt.ylabel('Relative Runtime')\n",
    "plt.xlabel('n')"
   ]
  },
  {
   "cell_type": "code",
   "execution_count": null,
   "metadata": {},
   "outputs": [],
   "source": [
    "def comp(lst):\n",
    "    '''\n",
    "    This function prints the first item O(1)\n",
    "    Then is prints the first 1/2 of the list O(n/2)\n",
    "    Then prints a string 10 times O(10)\n",
    "    '''\n",
    "    print(lst[0])\n",
    "    \n",
    "    midpoint = int(len(lst)/2)\n",
    "    \n",
    "    for val in lst[:midpoint]:\n",
    "        print(val)\n",
    "        \n",
    "    for x in range(10):\n",
    "        print('number')"
   ]
  },
  {
   "cell_type": "code",
   "execution_count": null,
   "metadata": {},
   "outputs": [],
   "source": [
    "lst = [1,2,3,4,5,6,7,8,9,10]\n",
    "\n",
    "comp(lst)"
   ]
  },
  {
   "cell_type": "markdown",
   "metadata": {},
   "source": [
    "So let's break down the operations here. We can combine each operation to get the total Big-O of the function:\n",
    "\n",
    "$$O(1 + n/2 + 10)$$\n",
    "\n",
    "We can see that as n grows larger the 1 and 10 terms become insignificant and the 1/2 term multiplied against n will also not have much of an effect as n goes towards infinity. This means the function is simply O(n)!"
   ]
  },
  {
   "cell_type": "code",
   "execution_count": null,
   "metadata": {},
   "outputs": [],
   "source": [
    "def printer(n=10):\n",
    "    '''\n",
    "    Prints \"hello world!\" n times\n",
    "    '''\n",
    "    for x in range(n):\n",
    "        print('Hello World!')\n",
    "        \n",
    "printer()"
   ]
  },
  {
   "cell_type": "markdown",
   "metadata": {},
   "source": [
    "- Note how we only assign the 'hello world!' variable once, not every time we print. **So the algorithm has O(1) space complexity and an O(n) time complexity**"
   ]
  },
  {
   "cell_type": "code",
   "execution_count": null,
   "metadata": {},
   "outputs": [],
   "source": [
    "def create_list(n):\n",
    "    new_list = []\n",
    "    \n",
    "    for num in range(n):\n",
    "        new_list.append('new')\n",
    "    \n",
    "    return new_list\n",
    "\n",
    "print create_list(5)"
   ]
  },
  {
   "cell_type": "markdown",
   "metadata": {},
   "source": [
    "- Note how the size of the new_list object scales with the input n. **So the algorithm has O(n) space complexity and an O(n) time complexity**"
   ]
  },
  {
   "cell_type": "markdown",
   "metadata": {},
   "source": [
    "# 2. Array sequences"
   ]
  },
  {
   "cell_type": "markdown",
   "metadata": {},
   "source": [
    "- There are 3 main sequence classes:\n",
    "    - List: [1,2,3]\n",
    "    - Tuple: (1,2,3)\n",
    "    - String: '123'\n",
    "    \n",
    "<br></br>\n",
    "- **Dynamic arrays** double in memory allocation, when they are reaching full capcity (before the data overflows)\n",
    "    - Has a Big O amortized cost of **O(1)** (constant)"
   ]
  },
  {
   "cell_type": "markdown",
   "metadata": {},
   "source": [
    "# 3. Stacks, queues and deques\n",
    "- Linear structures\n",
    "    - Similar to arrays but each differs by how they:\n",
    "        - Add items\n",
    "        - Remove items"
   ]
  },
  {
   "cell_type": "markdown",
   "metadata": {},
   "source": [
    "## Stacks\n",
    "- Last in, first out (**LIFO**)"
   ]
  },
  {
   "cell_type": "raw",
   "metadata": {},
   "source": [
    "- 1              (add)\n",
    "- 1,2            (add) @end\n",
    "- 1,2,3          (add) @end\n",
    "- 1,2,3,4        (add) @end\n",
    "- 1,2,3,4,5      (add) @end\n",
    "- 1,2,3,4,5,6    (add) @end\n",
    "- 1,2,3,4,5      (remove) @end\n",
    "- 1,2,3,4        (remove) @end\n",
    "- 1,2,3          (remove) @end\n",
    "- 1,2            (remove) @end\n",
    "- 1              (remove) @end"
   ]
  },
  {
   "cell_type": "markdown",
   "metadata": {},
   "source": [
    "- **Stack()**:\n",
    "    - creates a new stack that is empty\n",
    "        - *It needs no parameters and returns an empty stack*\n",
    "- **.push(item)**: \n",
    "    - Adds a new item to the top of the stack\n",
    "        - *It needs the item and returns nothing*\n",
    "- **.pop()**:\n",
    "    - Removes the top item from the stack\n",
    "        - *It needs no parameters and returns the item. The stack is modified*\n",
    "- **.peek()**:\n",
    "    - Returns the top item from the stack but does not remove it\n",
    "        - *It needs no parameters. The stack is not modified*\n",
    "- **.isEmpty()**:\n",
    "    - Tests to see whether the stack is empty\n",
    "        - *It needs no parameters and returns a boolean value*\n",
    "- **.size()**:\n",
    "    - Returns the number of items on the stack\n",
    "        - *It needs no parameters and returns an integer*"
   ]
  },
  {
   "cell_type": "code",
   "execution_count": null,
   "metadata": {},
   "outputs": [],
   "source": [
    "class Stack:\n",
    "    \n",
    "    def __init__(self):\n",
    "        self.items = []\n",
    "\n",
    "    def isEmpty(self):\n",
    "        return self.items == []\n",
    "\n",
    "    def push(self, item):\n",
    "        self.items.append(item)\n",
    "\n",
    "    def pop(self):\n",
    "        return self.items.pop()\n",
    "\n",
    "    def peek(self):\n",
    "        return self.items[len(self.items)-1]\n",
    "\n",
    "    def size(self):\n",
    "        return len(self.items)"
   ]
  },
  {
   "cell_type": "markdown",
   "metadata": {},
   "source": [
    "# Queues\n",
    "- First in, first out (**FIFO**)\n",
    "    - **Enqueue**: Adding an item to the back of the queue\n",
    "    - **Denqueue**: Removing an item from the back of the queue"
   ]
  },
  {
   "cell_type": "raw",
   "metadata": {},
   "source": [
    "- 1              (add) @end\n",
    "- 1,2            (add) @end\n",
    "- 1,2,3          (add) @end\n",
    "- 1,2,3,4        (add) @end\n",
    "- 1,2,3,4,5      (add) @end\n",
    "- 1,2,3,4,5,6    (add) @end\n",
    "- 2,3,4,5,6      (remove) @front\n",
    "- 3,4,5,6        (remove) @front\n",
    "- 4,5,6          (remove) @front\n",
    "- 5,6            (remove) @front\n",
    "- 6              (remove) @front"
   ]
  },
  {
   "cell_type": "markdown",
   "metadata": {},
   "source": [
    "- **Queue()**:\n",
    "    - Creates a new queue that is empty\n",
    "        - *It needs no parameters and returns an empty queue*\n",
    "- **.enqueue(item):** \n",
    "    - Adds a new item to the rear of the queue\n",
    "        - *It needs the item and returns nothing*\n",
    "- **.dequeue():**\n",
    "    - Removes the front item from the queue\n",
    "        - *It needs no parameters and returns the item. The queue is modified*\n",
    "- **.isEmpty():**\n",
    "    - Tests to see whether the queue is empty\n",
    "        - *It needs no parameters and returns a boolean value*\n",
    "- **.size():**\n",
    "    - Returns the number of items in the queue\n",
    "        - *It needs no parameters and returns an integer*"
   ]
  },
  {
   "cell_type": "code",
   "execution_count": null,
   "metadata": {},
   "outputs": [],
   "source": [
    "class Queue:\n",
    "    def __init__(self):\n",
    "        self.items = []\n",
    "\n",
    "    def isEmpty(self):\n",
    "        return self.items == []\n",
    "\n",
    "    def enqueue(self, item):\n",
    "        self.items.insert(0,item)\n",
    "\n",
    "    def dequeue(self):\n",
    "        return self.items.pop()\n",
    "\n",
    "    def size(self):\n",
    "        return len(self.items)"
   ]
  },
  {
   "cell_type": "markdown",
   "metadata": {},
   "source": [
    "# Deques\n",
    "- Double-ended queue\n",
    "     - Items can be added at the front or rear\n",
    "     - Items can be removed at the front or rear"
   ]
  },
  {
   "cell_type": "raw",
   "metadata": {},
   "source": [
    "- 1              (add) @end\n",
    "- 1,2            (add) @front\n",
    "- 3,1,2          (add)\n",
    "- 4,1,2,3        (add)\n",
    "- 4,1,2,3,5      (add)\n",
    "- 4,1,2,3,5,6    (add)\n",
    "- 1,2,3,5,6      (remove)\n",
    "- 1,2,3,5        (remove)\n",
    "- 2,3,5          (remove)\n",
    "- 2,3            (remove)\n",
    "- 3              (remove)"
   ]
  },
  {
   "cell_type": "markdown",
   "metadata": {},
   "source": [
    "- **Deque()**:\n",
    "    - Creates a new deque that is empty\n",
    "        - *It needs no parameters and returns an empty deque*\n",
    "- **.addFront(item)**:\n",
    "    - Adds a new item to the front of the deque\n",
    "        - *It needs the item and returns nothing*\n",
    "- **.addRear(item)**\n",
    "    - Adds a new item to the rear of the deque\n",
    "        - *It needs the item and returns nothing*\n",
    "- **.removeFront()**\n",
    "    - Removes the front item from the deque\n",
    "         - *It needs no parameters and returns the item. The deque is modified*\n",
    "- **.removeRear()**\n",
    "    - Removes the rear item from the deque\n",
    "        - *It needs no parameters and returns the item. The deque is modified*\n",
    "- **.isEmpty()**\n",
    "    - Tests to see whether the deque is empty\n",
    "        - *It needs no parameters and returns a boolean value*\n",
    "- **.size()**\n",
    "    - Returns the number of items in the deque\n",
    "        - *It needs no parameters and returns an integer*"
   ]
  },
  {
   "cell_type": "code",
   "execution_count": null,
   "metadata": {},
   "outputs": [],
   "source": [
    "class Deque:\n",
    "    def __init__(self):\n",
    "        self.items = []\n",
    "\n",
    "    def isEmpty(self):\n",
    "        return self.items == []\n",
    "\n",
    "    def addFront(self, item):\n",
    "        self.items.append(item)\n",
    "\n",
    "    def addRear(self, item):\n",
    "        self.items.insert(0,item)\n",
    "\n",
    "    def removeFront(self):\n",
    "        return self.items.pop()\n",
    "\n",
    "    def removeRear(self):\n",
    "        return self.items.pop(0)\n",
    "\n",
    "    def size(self):\n",
    "        return len(self.items)"
   ]
  },
  {
   "cell_type": "markdown",
   "metadata": {},
   "source": [
    "# 4. Linked lists\n",
    "- Singly linked lists\n",
    "- Doubly linked lists"
   ]
  },
  {
   "cell_type": "markdown",
   "metadata": {},
   "source": [
    "## Singly linked lists\n",
    "- A collection of nodes that collectively form a linear sequence\n",
    "    - Each node stores two reference:\n",
    "        - One to an element of the sequence\n",
    "        - One to the next node of the list"
   ]
  },
  {
   "cell_type": "markdown",
   "metadata": {},
   "source": [
    "- The first instance has a member called the head, and identifies the first node of the list  \n",
    "- The second instance has a member called the tail, and identifies the last node of the list"
   ]
  },
  {
   "cell_type": "markdown",
   "metadata": {},
   "source": [
    "<img src=\"pics/singly_linked_lists_head_and_tail.png\">"
   ]
  },
  {
   "cell_type": "markdown",
   "metadata": {},
   "source": [
    "- We can identify thetail as the node that has **None** as it's next reference\n",
    "    - This proces is commonly known as **traversing** the linked list \n",
    "        - Aka link-hopping or pointer-hopping as the next reference can can seen as a link or pointer"
   ]
  },
  {
   "cell_type": "markdown",
   "metadata": {},
   "source": [
    "- A linked list does not have predetermined size\n",
    "- It's size is dependent on the number of items in the list"
   ]
  },
  {
   "cell_type": "markdown",
   "metadata": {},
   "source": [
    "### Insert an element at the head of a singly linked list\n",
    "- Create a new node\n",
    "- Set it's element to the new element value\n",
    "- Set it's next link reference to the previous head\n",
    "- Set the head reference to point to the new node"
   ]
  },
  {
   "cell_type": "markdown",
   "metadata": {},
   "source": [
    "<img src=\"pics/singly_linked_lists_insert_at_front.png\">"
   ]
  },
  {
   "cell_type": "markdown",
   "metadata": {},
   "source": [
    "### Insert an element at the end of a singly linked list\n",
    "- Create a new node\n",
    "- Set it's next link reference to **None**\n",
    "- Set the next reference of the previous tail to the new node\n",
    "- Set the tail reference to point to the new node"
   ]
  },
  {
   "cell_type": "markdown",
   "metadata": {},
   "source": [
    "<img src=\"pics/singly_linked_lists_insert_at_end.png\">"
   ]
  },
  {
   "cell_type": "markdown",
   "metadata": {},
   "source": [
    "### Removing an element at the head of a singly linked list\n",
    "- Link the head back to the next node (linking out)\n",
    "- Remove the previous head node"
   ]
  },
  {
   "cell_type": "markdown",
   "metadata": {},
   "source": [
    "### Remvoing an element at the end of a singly linked list\n",
    "- Cannot easily delete the last node of a singly linked list\n",
    "- We need to be able to access the node before the last node, in order to remove the last node\n",
    "- We cannot reach the node before the tail by following the next reference links from the tail\n",
    "- To make such an operation effcient the list needs to be made **doubly linked**"
   ]
  },
  {
   "cell_type": "code",
   "execution_count": null,
   "metadata": {},
   "outputs": [],
   "source": [
    "class Node(object):\n",
    "    \n",
    "    def __init__(self,value):\n",
    "        \n",
    "        self.value = value\n",
    "        self.nextnode = None"
   ]
  },
  {
   "cell_type": "code",
   "execution_count": null,
   "metadata": {},
   "outputs": [],
   "source": [
    "a = Node(1)\n",
    "b = Node(2)\n",
    "c = Node(3)"
   ]
  },
  {
   "cell_type": "code",
   "execution_count": null,
   "metadata": {},
   "outputs": [],
   "source": [
    "a.nextnode = b"
   ]
  },
  {
   "cell_type": "code",
   "execution_count": null,
   "metadata": {},
   "outputs": [],
   "source": [
    "b.nextnode = c"
   ]
  },
  {
   "cell_type": "code",
   "execution_count": null,
   "metadata": {},
   "outputs": [],
   "source": [
    "a.value"
   ]
  },
  {
   "cell_type": "code",
   "execution_count": null,
   "metadata": {},
   "outputs": [],
   "source": [
    "a.nextnode.value"
   ]
  },
  {
   "cell_type": "markdown",
   "metadata": {},
   "source": [
    "## Singly linked lists\n",
    "- A collection of nodes that collectively form a linear sequence\n",
    "    - Each node stores three reference:\n",
    "        - One to an element of the sequence\n",
    "        - One to the next node of the list\n",
    "        - One to the previous node of the list"
   ]
  },
  {
   "cell_type": "markdown",
   "metadata": {},
   "source": [
    "- A **header** node at the beginning of the list\n",
    "- A **trailer** node at the end of the list\n",
    "    - These dummy nodes are known as **sentinals**"
   ]
  },
  {
   "cell_type": "markdown",
   "metadata": {},
   "source": [
    "<img src='pics/doubly_linked_lists_sentinal.png'>"
   ]
  },
  {
   "cell_type": "markdown",
   "metadata": {},
   "source": [
    "## Insert a new node in a doubly linked list\n",
    "- **Create** a new-node\n",
    "- **Link** the previous-node to the new-node\n",
    "    - **Link** the new-node to the previous-node\n",
    "- **Link** the next-node to the new-node\n",
    "    - **Link** the new-node to the next-node"
   ]
  },
  {
   "cell_type": "markdown",
   "metadata": {},
   "source": [
    "## Delete a new node in a doubly linked list"
   ]
  },
  {
   "cell_type": "markdown",
   "metadata": {},
   "source": [
    "- **Linking out**: The two nodes either side of the node targeted-for-deletion are linked to each other\n",
    "- The node targeted for deletion will no longer be part of the list and is reclaimed by the system\n",
    "- The same method is used to delete the first or last element, as sentinels are being used either side of each node"
   ]
  },
  {
   "cell_type": "code",
   "execution_count": null,
   "metadata": {},
   "outputs": [],
   "source": [
    "class DoublyLinkedListNode(object):\n",
    "    \n",
    "    def __init__(self,value):\n",
    "        \n",
    "        self.value = value\n",
    "        self.next_node = None\n",
    "        self.prev_node = None"
   ]
  },
  {
   "cell_type": "code",
   "execution_count": null,
   "metadata": {},
   "outputs": [],
   "source": [
    "a = DoublyLinkedListNode(1)\n",
    "b = DoublyLinkedListNode(2)\n",
    "c = DoublyLinkedListNode(3)"
   ]
  },
  {
   "cell_type": "code",
   "execution_count": null,
   "metadata": {},
   "outputs": [],
   "source": [
    "b.prev_node = a\n",
    "a.next_node = b"
   ]
  },
  {
   "cell_type": "code",
   "execution_count": null,
   "metadata": {},
   "outputs": [],
   "source": [
    "b.next_node = c\n",
    "c.prev_node = b"
   ]
  },
  {
   "cell_type": "markdown",
   "metadata": {},
   "source": [
    "## 5. Recursion "
   ]
  },
  {
   "cell_type": "markdown",
   "metadata": {},
   "source": [
    "### What is recursion\n",
    "- Two main instances of recursion\n",
    "    - ***A technique for a function to make one or more calls to itself (most use cases)***\n",
    "    - When a data structure uses smaller instances of the exact same type of data structure when it represents itself "
   ]
  },
  {
   "cell_type": "markdown",
   "metadata": {},
   "source": [
    "### Why use recursion\n",
    "- Provides a powerful alternative for performing repetitions of tasks\n",
    "    - In which a loop is not ideal"
   ]
  },
  {
   "cell_type": "markdown",
   "metadata": {},
   "source": [
    "### Create using recursion\n",
    "- **Define a base case** - The solution will need to return to the base case once all the recursive cases have been worked through"
   ]
  },
  {
   "cell_type": "markdown",
   "metadata": {},
   "source": [
    "The factorial function is denoted with an exclamation point and is defined as the product of the integers from 1 to *n*. Formally, we can state this as:\n",
    "\n",
    "$$ n! = n·(n-1)·(n-2)... 3·2·1 $$"
   ]
  },
  {
   "cell_type": "markdown",
   "metadata": {},
   "source": [
    "we can rewrite the formal recursion definition in terms of recursion like so:\n",
    "\n",
    "$$ n! = n·(n−1)!$$\n",
    "\n",
    "Note, **if n = 0, then n! = 1**. This means the **base case** occurs once n=0, the *recursive cases* are defined in the equation above."
   ]
  },
  {
   "cell_type": "code",
   "execution_count": null,
   "metadata": {},
   "outputs": [],
   "source": [
    "def fact(n):\n",
    "    '''\n",
    "    Note: use of recursion\n",
    "    Returns factorial of n (n!).\n",
    "    '''\n",
    "    # Base case\n",
    "    if n == 0:\n",
    "        return 1\n",
    "    \n",
    "    # Recursion\n",
    "    else:\n",
    "        return n * fact(n-1)"
   ]
  },
  {
   "cell_type": "code",
   "execution_count": null,
   "metadata": {},
   "outputs": [],
   "source": [
    "from IPython.display import Image\n",
    "from IPython.core.display import HTML \n",
    "Image(url= 'http://faculty.cs.niu.edu/~freedman/241/241notes/recur.gif')"
   ]
  },
  {
   "cell_type": "markdown",
   "metadata": {},
   "source": [
    "### Example 1\n",
    "* Given an integer, create a function which returns the sum of all the individual digits in that integer. For example:\n",
    "$$ if: n = 4321 $$ \n",
    "$$ return: 4+3+2+1 $$"
   ]
  },
  {
   "cell_type": "code",
   "execution_count": null,
   "metadata": {},
   "outputs": [],
   "source": [
    "def sum_func(n):\n",
    "    # Base case\n",
    "    if len(str(n)) == 1:\n",
    "        return n\n",
    "    \n",
    "    # Recursion\n",
    "    else:\n",
    "        return n%10 + sum_func(n//10)"
   ]
  },
  {
   "cell_type": "code",
   "execution_count": null,
   "metadata": {},
   "outputs": [],
   "source": [
    "print(sum_func(4321))"
   ]
  },
  {
   "cell_type": "markdown",
   "metadata": {},
   "source": [
    "### Example 2\n",
    "* Create a function called word_split() which takes in a string **phrase** and a set **list_of_words**\n",
    "* The function will then determine if it is possible to split the string in a way in which words can be made from the list of words\n",
    "* You can assume the phrase will only contain words found in the dictionary if it is completely splittable"
   ]
  },
  {
   "cell_type": "code",
   "execution_count": null,
   "metadata": {},
   "outputs": [],
   "source": [
    "def word_split(phrase,list_of_words, output = None):\n",
    "    '''\n",
    "    Note: This is a very \"python-y\" solution.\n",
    "    ''' \n",
    "    \n",
    "    # Checks to see if any output has been initiated.\n",
    "    # If you default output=[], it would be overwritten for every recursion!\n",
    "    if output is None:\n",
    "        output = []\n",
    "    \n",
    "    # For every word in list\n",
    "    for word in list_of_words:\n",
    "        \n",
    "        # If the current phrase begins with the word, we have a split point!\n",
    "        if phrase.startswith(word):\n",
    "            \n",
    "            # Add the word to the output\n",
    "            output.append(word)\n",
    "            \n",
    "            # Recursively call the split function on the remaining portion of the phrase--- phrase[len(word):]\n",
    "            # Remember to pass along the output and list of words\n",
    "            return word_split(phrase[len(word):],list_of_words,output)\n",
    "    \n",
    "    # Finally return output if no phrase.startswith(word) returns True\n",
    "    return output        "
   ]
  },
  {
   "cell_type": "code",
   "execution_count": null,
   "metadata": {},
   "outputs": [],
   "source": [
    "word_split('themanran',['the','ran','man'])"
   ]
  },
  {
   "cell_type": "code",
   "execution_count": null,
   "metadata": {},
   "outputs": [],
   "source": [
    "word_split('ilovedogsJohn',['i','am','a','dogs','lover','love','John'])"
   ]
  },
  {
   "cell_type": "code",
   "execution_count": null,
   "metadata": {},
   "outputs": [],
   "source": [
    "word_split('themanran',['clown','ran','man'])"
   ]
  },
  {
   "cell_type": "markdown",
   "metadata": {},
   "source": [
    "## Memoisation\n",
    "* Memoization effectively refers to remembering (\"memoization\" -> \"memorandum\" -> to be remembered) results of method calls based on the method inputs and then returning the remembered result rather than computing the result again. \n",
    "* It can be though of as as a cache for method results"
   ]
  },
  {
   "cell_type": "markdown",
   "metadata": {},
   "source": [
    "### Fibonacci example\n",
    "- The fibonacci sequance"
   ]
  },
  {
   "cell_type": "code",
   "execution_count": 82,
   "metadata": {},
   "outputs": [],
   "source": [
    "# Create a recursive function\n",
    "def fibonacci(n):\n",
    "    # Base condition\n",
    "    if n == 1 or n == 2:\n",
    "        return 1\n",
    "    # When n > 2, the function will run as recursive function\n",
    "    elif n > 2:\n",
    "        return fibonacci(n-1) + fibonacci(n-2)\n",
    "    else:\n",
    "        print('The input must be a positive integer')"
   ]
  },
  {
   "cell_type": "code",
   "execution_count": 86,
   "metadata": {},
   "outputs": [
    {
     "data": {
      "text/plain": [
       "55"
      ]
     },
     "execution_count": 86,
     "metadata": {},
     "output_type": "execute_result"
    }
   ],
   "source": [
    "fibonacci(10)"
   ]
  },
  {
   "cell_type": "markdown",
   "metadata": {},
   "source": [
    "- if fibonacci(100) were to be run, then the program would take a very long time to run  \n",
    "<br></br>\n",
    "- **Memoisation** - *can be used to reduce the time taken to compute the result as it will cache previously computed values*"
   ]
  },
  {
   "cell_type": "markdown",
   "metadata": {},
   "source": [
    "#### Impliment explicity\n",
    "- Understand how memoisation works"
   ]
  },
  {
   "cell_type": "code",
   "execution_count": null,
   "metadata": {},
   "outputs": [],
   "source": [
    "fibonacci_cache = {}\n",
    "\n",
    "def fibonacci(n):\n",
    "    # Check in the nth term has  been cached\n",
    "    # If cahced then return that value, rather than computing it again\n",
    "    if n in fibonacci_cache:\n",
    "        return fibonacci_cache[n]\n",
    "\n",
    "    # If not then compute the nth term\n",
    "    if n == 1:\n",
    "        return 1\n",
    "    elif n == 2:\n",
    "        return 1\n",
    "    elif n > 2:\n",
    "        value = fibonacci(n-1) + fibonacci(n-2)\n",
    "    \n",
    "    # Add the new value to the cached values\n",
    "    # Then return the value\n",
    "    fibonacci_cache[n] = value\n",
    "    return value"
   ]
  },
  {
   "cell_type": "code",
   "execution_count": null,
   "metadata": {},
   "outputs": [],
   "source": [
    "fibonacci(100)"
   ]
  },
  {
   "cell_type": "markdown",
   "metadata": {},
   "source": [
    "#### Impliment using a built-in tool\n",
    "- Implement memoisation, and save time by using a decorator built into python\n",
    "- **lRU cache**: Least Recently Used cache\n",
    "    - Add memoisation to a function in only one line"
   ]
  },
  {
   "cell_type": "code",
   "execution_count": null,
   "metadata": {},
   "outputs": [],
   "source": [
    "from functools import lru_cache\n",
    "\n",
    "fibonacci_cache = {}\n",
    "\n",
    "# Default max size = 128\n",
    "@lru_cache(maxsize = 1000)\n",
    "def fibonacci(n):\n",
    "    if n == 1:\n",
    "        return 1\n",
    "    elif n == 2:\n",
    "        return 1\n",
    "    elif n > 2:\n",
    "        return fibonacci(n-1) + fibonacci(n-2)"
   ]
  },
  {
   "cell_type": "code",
   "execution_count": null,
   "metadata": {},
   "outputs": [],
   "source": [
    "fibonacci(100)"
   ]
  },
  {
   "cell_type": "markdown",
   "metadata": {},
   "source": [
    "#### Account for edge-cases"
   ]
  },
  {
   "cell_type": "code",
   "execution_count": null,
   "metadata": {},
   "outputs": [],
   "source": [
    "from functools import lru_cache\n",
    "\n",
    "fibonacci_cache = {}\n",
    "\n",
    "# Default max size = 128\n",
    "@lru_cache(maxsize = 1000)\n",
    "def fibonacci(n):\n",
    "    if type(n) != int:\n",
    "        raise TypeError(\"n must be a positve integer\")\n",
    "    if n < 1:\n",
    "        raise ValueError(\"n must be a positve integer\")\n",
    "    if n == 1:\n",
    "        return 1\n",
    "    elif n == 2:\n",
    "        return 1\n",
    "    elif n > 2:\n",
    "        return fibonacci(n-1) + fibonacci(n-2)"
   ]
  },
  {
   "cell_type": "code",
   "execution_count": null,
   "metadata": {},
   "outputs": [],
   "source": [
    "fibonacci('one')"
   ]
  },
  {
   "cell_type": "code",
   "execution_count": null,
   "metadata": {},
   "outputs": [],
   "source": [
    "fibonacci(100.2)"
   ]
  },
  {
   "cell_type": "code",
   "execution_count": null,
   "metadata": {},
   "outputs": [],
   "source": [
    "fibonacci(100)"
   ]
  },
  {
   "cell_type": "markdown",
   "metadata": {},
   "source": [
    "## 6. Trees"
   ]
  },
  {
   "cell_type": "markdown",
   "metadata": {},
   "source": [
    "### Introduction\n",
    "- Can be illustrated as an up-side-down tree\n",
    "- More general items on top, and more specific items towards the bottom\n",
    "- All the children of one node and independent of the children of another node\n",
    "- Each leaf node is unique  \n",
    "    - E.g File systems/folders are structured as trees  "
   ]
  },
  {
   "cell_type": "markdown",
   "metadata": {},
   "source": [
    "- A **node**'s name, is called the key\n",
    "    - A node may have additional information, which is called the payload \n",
    "- An **edge** connects two nodes that show a relationship between them\n",
    "    - The root is the only node that has no incoming edge\n",
    "- A **path** is an ordered list of nodes\n",
    "    - That are connected by edges  \n",
    "<br></br>\n",
    "- **Children** *(c)* are the set of nodes that have incoming edges from the same node\n",
    "- The **parent** is a node that has outgoing edges to other nodes\n",
    "- **Siblings** are nodes that a children of the same parent\n",
    "- A **leaf** node is a node without children  \n",
    "<br></br>\n",
    "- The **level** *(n)* of a node is the number of edges on a path from the root node\n",
    "- The **height** of the tree is the highest level within the tree"
   ]
  },
  {
   "cell_type": "markdown",
   "metadata": {},
   "source": [
    "- A **binary tree** is a tree where each node has a maximum of 2 children  \n",
    "<br></br>\n",
    "- A **recursive tree** is a tree with a root, and zero or more sub-trees\n",
    "    - Each sub-tree's root is connected to the root of the parent tree, by an edge"
   ]
  },
  {
   "cell_type": "markdown",
   "metadata": {},
   "source": [
    "### Representing a Tree through Lists"
   ]
  },
  {
   "cell_type": "markdown",
   "metadata": {},
   "source": [
    "#### Method 1: List of lists"
   ]
  },
  {
   "cell_type": "code",
   "execution_count": 54,
   "metadata": {},
   "outputs": [],
   "source": [
    "# 'r' is the root\n",
    "# The 2nd item in the list, is the left child and the 3rd item is the right child\n",
    "def BinaryTree_l(r):\n",
    "    return [r,[],[]]"
   ]
  },
  {
   "cell_type": "code",
   "execution_count": 23,
   "metadata": {},
   "outputs": [],
   "source": [
    "# Each branch will have a left and right child, whether it's being used or not\n",
    "# As long as 't' is in the correct branch (newBranch) (i.e. left postion: index pos = 1)\n",
    "def insertLeft(root, newBranch):\n",
    "    t = root.pop(1)\n",
    "    \n",
    "    if len(t) > 1:\n",
    "        root.insert(1,[newBranch, t, []])\n",
    "    else:\n",
    "        root.insert(1,[newBranch, [], []])\n",
    "    \n",
    "    return root"
   ]
  },
  {
   "cell_type": "code",
   "execution_count": 24,
   "metadata": {},
   "outputs": [],
   "source": [
    "# Each branch will have a left and right child, whether it's being used or not\n",
    "# As long as 't' is in the correct branch (newBranch) (i.e. right postion: index pos = 1)\n",
    "def inserRight(root, newBranch):\n",
    "    t = root.pop(2)\n",
    "    \n",
    "    if len(t) > 1:\n",
    "        root.insert(2,[newBranch, [], t])\n",
    "    else:\n",
    "        root.insert(2,[newBranch, [], []])\n",
    "    \n",
    "    return root"
   ]
  },
  {
   "cell_type": "markdown",
   "metadata": {},
   "source": [
    "##### Access functions"
   ]
  },
  {
   "cell_type": "code",
   "execution_count": 55,
   "metadata": {},
   "outputs": [],
   "source": [
    "def fetRootVal(root):\n",
    "    return root[0]"
   ]
  },
  {
   "cell_type": "code",
   "execution_count": 56,
   "metadata": {},
   "outputs": [],
   "source": [
    "def setRootVal(root, newVal):\n",
    "    root[0] = newVal"
   ]
  },
  {
   "cell_type": "code",
   "execution_count": 57,
   "metadata": {},
   "outputs": [],
   "source": [
    "def getLeftChild(root):\n",
    "    return root[1]"
   ]
  },
  {
   "cell_type": "code",
   "execution_count": 58,
   "metadata": {},
   "outputs": [],
   "source": [
    "def getRightChild(root):\n",
    "    return root[2]"
   ]
  },
  {
   "cell_type": "code",
   "execution_count": 59,
   "metadata": {},
   "outputs": [],
   "source": [
    "tree_1 = BinaryTree_l(3)"
   ]
  },
  {
   "cell_type": "code",
   "execution_count": 60,
   "metadata": {},
   "outputs": [
    {
     "data": {
      "text/plain": [
       "[3, [4, [], []], []]"
      ]
     },
     "execution_count": 60,
     "metadata": {},
     "output_type": "execute_result"
    }
   ],
   "source": [
    "insertLeft(tree_1, 4)"
   ]
  },
  {
   "cell_type": "code",
   "execution_count": 61,
   "metadata": {},
   "outputs": [
    {
     "data": {
      "text/plain": [
       "[3, [5, [4, [], []], []], []]"
      ]
     },
     "execution_count": 61,
     "metadata": {},
     "output_type": "execute_result"
    }
   ],
   "source": [
    "insertLeft(tree_1, 5)"
   ]
  },
  {
   "cell_type": "code",
   "execution_count": 62,
   "metadata": {},
   "outputs": [
    {
     "data": {
      "text/plain": [
       "[3, [5, [4, [], []], []], [6, [], []]]"
      ]
     },
     "execution_count": 62,
     "metadata": {},
     "output_type": "execute_result"
    }
   ],
   "source": [
    "inserRight(tree_1, 6)"
   ]
  },
  {
   "cell_type": "code",
   "execution_count": 63,
   "metadata": {},
   "outputs": [
    {
     "data": {
      "text/plain": [
       "[3, [5, [4, [], []], []], [7, [], [6, [], []]]]"
      ]
     },
     "execution_count": 63,
     "metadata": {},
     "output_type": "execute_result"
    }
   ],
   "source": [
    "inserRight(tree_1, 7)"
   ]
  },
  {
   "cell_type": "code",
   "execution_count": 64,
   "metadata": {},
   "outputs": [
    {
     "name": "stdout",
     "output_type": "stream",
     "text": [
      "[9, [4, [], []], []]\n"
     ]
    }
   ],
   "source": [
    "left_child = getLeftChild(tree_1)\n",
    "print(l)"
   ]
  },
  {
   "cell_type": "code",
   "execution_count": 47,
   "metadata": {},
   "outputs": [
    {
     "name": "stdout",
     "output_type": "stream",
     "text": [
      "[3, [9, [4, [], []], []], [7, [], [6, [], []]]]\n"
     ]
    }
   ],
   "source": [
    "# Set the root of the left child from 5 to 9\n",
    "setRootVal(left_child, 9)\n",
    "print(tree_1)"
   ]
  },
  {
   "cell_type": "markdown",
   "metadata": {},
   "source": [
    "#### Method 2: OOP"
   ]
  },
  {
   "cell_type": "code",
   "execution_count": 80,
   "metadata": {},
   "outputs": [],
   "source": [
    "# Define a class that has attributes for the root value, left, and right sub-tree(s)\n",
    "    # When create a new left child , we';ll be creating another instance of BinaryTree\n",
    "\n",
    "class BinaryTree_OPP:\n",
    "    \n",
    "    def __init__(self, rootObj):\n",
    "        self.key = rootObj\n",
    "        self.leftChild = None\n",
    "        self.rightChild = None\n",
    "    \n",
    "    def insertLeft(self, newNode):\n",
    "        if self.leftChild == None:\n",
    "            self.leftChild = BinaryTree_OPP(newNode)\n",
    "        else:\n",
    "            # Create a new sub-tree\n",
    "            t = BinaryTree(newNode)\n",
    "            # Set this new sub-tree-left-child value using the parent-tree-value\n",
    "            t.leftChild = self.leftChild\n",
    "            # Make this updated sub-tree the new left-child of the parent-tree\n",
    "            self.leftChild = t\n",
    "             \n",
    "\n",
    "    def insertRight(self, newNode):\n",
    "        if self.rightChild == None:\n",
    "            self.rightChild = BinaryTree(newNode)\n",
    "        else:\n",
    "            # Create a new sub-tree\n",
    "            t = BinaryTree(newNode)\n",
    "            # Set this new sub-tree-left-child value using the parent-tree-value\n",
    "            t.rightChild = self.rightChild\n",
    "            # Make this updated sub-tree the new left-child of the parent-tree\n",
    "            self.rightChild = t\n",
    "            \n",
    "    # Access functions\n",
    "    def getRightChild(self):\n",
    "        return self.rightChild\n",
    "    \n",
    "    def getLeftChild(self):\n",
    "        return self.leftChild\n",
    "    \n",
    "    def setRootVal(self, obj):\n",
    "        self.key = obj\n",
    "    \n",
    "    def getRootVal(self):\n",
    "        return self.key"
   ]
  },
  {
   "cell_type": "code",
   "execution_count": 81,
   "metadata": {},
   "outputs": [],
   "source": [
    "tree_1 = BinaryTree_OPP('a')"
   ]
  },
  {
   "cell_type": "code",
   "execution_count": 82,
   "metadata": {},
   "outputs": [
    {
     "data": {
      "text/plain": [
       "'a'"
      ]
     },
     "execution_count": 82,
     "metadata": {},
     "output_type": "execute_result"
    }
   ],
   "source": [
    "tree_1.getRootVal()"
   ]
  },
  {
   "cell_type": "code",
   "execution_count": 83,
   "metadata": {},
   "outputs": [],
   "source": [
    "tree_1.getLeftChild()"
   ]
  },
  {
   "cell_type": "code",
   "execution_count": 84,
   "metadata": {},
   "outputs": [
    {
     "name": "stdout",
     "output_type": "stream",
     "text": [
      "None\n"
     ]
    }
   ],
   "source": [
    "print(tree_1.getLeftChild())"
   ]
  },
  {
   "cell_type": "code",
   "execution_count": 85,
   "metadata": {},
   "outputs": [],
   "source": [
    "tree_1.insertLeft('b')"
   ]
  },
  {
   "cell_type": "code",
   "execution_count": 87,
   "metadata": {},
   "outputs": [
    {
     "data": {
      "text/plain": [
       "<__main__.BinaryTree_OPP at 0x2202f5d8908>"
      ]
     },
     "execution_count": 87,
     "metadata": {},
     "output_type": "execute_result"
    }
   ],
   "source": [
    "tree_1.getLeftChild()"
   ]
  },
  {
   "cell_type": "code",
   "execution_count": 88,
   "metadata": {},
   "outputs": [
    {
     "data": {
      "text/plain": [
       "'b'"
      ]
     },
     "execution_count": 88,
     "metadata": {},
     "output_type": "execute_result"
    }
   ],
   "source": [
    "tree_1.getLeftChild().getRootVal()"
   ]
  },
  {
   "cell_type": "markdown",
   "metadata": {},
   "source": [
    "### Tree Traversal\n",
    "- Preorder\n",
    "- Inorder\n",
    "- Postorder"
   ]
  },
  {
   "cell_type": "markdown",
   "metadata": {},
   "source": [
    "#### Preorder traversal\n",
    "- Visit the root node first\n",
    "- Do a preorder traversal of the left sub-tree\n",
    "- Do a recursive preorder traversal of the right sub-tree"
   ]
  },
  {
   "cell_type": "code",
   "execution_count": 91,
   "metadata": {},
   "outputs": [],
   "source": [
    "# Internal method\n",
    "def preorder(self):\n",
    "    print(self.key)\n",
    "    if self.leftchild:\n",
    "        self.leftchild.preorder()\n",
    "    if self.rightchild:\n",
    "        self.rightchild.preorder()\n",
    "        \n",
    "# External fucntion\n",
    "def preorder(tree):\n",
    "    if tree:\n",
    "        print(tree.getRootVal())\n",
    "        preorder(tree.getLeftChild())\n",
    "        preorder(tree.getRightChild())"
   ]
  },
  {
   "cell_type": "markdown",
   "metadata": {},
   "source": [
    "#### Inorder traversal\n",
    "- Visit the root node first\n",
    "- Do a recursive inorder traversal of the left sub-tree\n",
    "- Do a recursive inorder traversal of the right sub-tree"
   ]
  },
  {
   "cell_type": "code",
   "execution_count": 92,
   "metadata": {},
   "outputs": [],
   "source": [
    "# The external function is a more useful solution\n",
    "    # Typically other tasks will be done whilst traversing a tree\n",
    "def preorder(tree):\n",
    "    if tree:\n",
    "        preorder(tree.getLeftChild())\n",
    "        print(tree.getRootVal())\n",
    "        preorder(tree.getRightChild())"
   ]
  },
  {
   "cell_type": "markdown",
   "metadata": {},
   "source": [
    "#### Postorder traversal\n",
    "- Do a recursive postorder traversal of the left sub-tree\n",
    "- Do a recursive postorder traversal of the right sub-tree\n",
    "- Visit the root node first"
   ]
  },
  {
   "cell_type": "code",
   "execution_count": 93,
   "metadata": {},
   "outputs": [],
   "source": [
    "# External fucntion\n",
    "def preorder(tree):\n",
    "    if tree:\n",
    "        preorder(tree.getLeftChild())\n",
    "        preorder(tree.getRightChild())\n",
    "        print(tree.getRootVal())"
   ]
  },
  {
   "cell_type": "markdown",
   "metadata": {},
   "source": [
    "### Priority Queues with Binary Heaps\n",
    "- Acts like a queue, where an item is deququed by removing it from the front  \n",
    "<br></br>\n",
    "- However the logical order of the items inside a queue is determined by their priority\n",
    "    - The highest priority items are at the front of the queue\n",
    "    - The lowest priority items are at the back of the queue  \n",
    "<br></br>\n",
    "- When an item is enqueued on a priority queue it may move all the way to the front  \n",
    "<br></br>\n",
    "- Priority queues are usually implemented using **Binary heaps**\n",
    "    - A binary heap will allow for enqueuing and dequeuing items in O(log(n))"
   ]
  },
  {
   "cell_type": "markdown",
   "metadata": {},
   "source": [
    "### Binary Heap\n",
    "- Two common variations:\n",
    "    - **Min heap** - Where the smallest key is always at the front\n",
    "    - **Max heap** - Where the largest key is always at the front"
   ]
  },
  {
   "cell_type": "markdown",
   "metadata": {},
   "source": [
    "<img src='pics/binary_heap_img_1.png'>"
   ]
  },
  {
   "cell_type": "markdown",
   "metadata": {},
   "source": [
    "- Using a binary heap the tree can be stored in a single list\n",
    "    - Rather than using a list of lists  \n",
    "<br></br>\n",
    "- E.g Level 1, left child = 9  \n",
    "<br></br>\n",
    "- The index postion of the value 9 = ***2***\n",
    "    - Left child will be found at the index position **2P** = ***4***\n",
    "        - Value at index position ***4*** = 14\n",
    "    - Right child will be found at the index position **2P+1** = ***5***\n",
    "        - Value at index position ***5*** = 18"
   ]
  },
  {
   "cell_type": "markdown",
   "metadata": {},
   "source": [
    "#### Implementation"
   ]
  },
  {
   "cell_type": "code",
   "execution_count": 18,
   "metadata": {},
   "outputs": [],
   "source": [
    "# How to build a binary heap\n",
    "class Bin_heap():\n",
    "    def __init__(self):\n",
    "        self.heap_list = [0]\n",
    "        self.current_size = 0"
   ]
  },
  {
   "cell_type": "markdown",
   "metadata": {},
   "source": [
    "- A new item can be appended to the end of the list easily\n",
    "    - **insert()** function\n",
    "    - However to keep it a binary heap it must be swapped into the correct position \n",
    "        - **percUp()** function  \n",
    "<br></br>\n",
    "- **The heap order property must be restored**\n",
    "    - Compare new item with it's parent\n",
    "    - If he new item is less than the parent swap these items  \n",
    "<br></br>\n",
    "- The new item will percolate its way up to it's correct position witin the tree"
   ]
  },
  {
   "cell_type": "markdown",
   "metadata": {},
   "source": [
    "<img src='pics/binary_heap_append_1.png'>"
   ]
  },
  {
   "cell_type": "markdown",
   "metadata": {},
   "source": [
    "<img src='pics/binary_heap_append_2.png'>"
   ]
  },
  {
   "cell_type": "markdown",
   "metadata": {},
   "source": [
    "<img src='pics/binary_heap_append_3.png'>"
   ]
  },
  {
   "cell_type": "code",
   "execution_count": null,
   "metadata": {},
   "outputs": [],
   "source": [
    "def perc_up(self, i):\n",
    "    while i // 2 > 0:    # Find the position of the parent for a value, in the tree\n",
    "        if self.heap_list[i] < self.heap_list[i // 2]:    # If the item < it's parent\n",
    "            tmp = self.heap_list[i // 2]\n",
    "            self.heap_list[i // 2] = self.heap_list[i]    # Swap these values\n",
    "            self.heap_list[i] = tmp\n",
    "    i = i // 2    # Move up one level in the tree to repeat the swapping process"
   ]
  },
  {
   "cell_type": "code",
   "execution_count": null,
   "metadata": {},
   "outputs": [],
   "source": [
    "def insert(self, k):\n",
    "    self.heap_list.append(k)    # At a new item to the end of the list\n",
    "    self.current_size = self.current_size + 1    # Increase value of current_size by 1\n",
    "    self.perc_up(self.current_size)    # Percolate the last item into position"
   ]
  },
  {
   "cell_type": "markdown",
   "metadata": {},
   "source": [
    "- The **delMin** method is trival to create\n",
    "    - As the heap order property requires the root of the tree to be the smallest item in the tree  \n",
    "<br></br>\n",
    "- **The heap structure must be restored**\n",
    "    - Restore the root by taking the last item and moving it to the root position\n",
    "- **The heap order property must be restored**\n",
    "    - Move the new root node to it's correct position within the tree, **percDown()**\n",
    "        - Keep swapping items between nodes and their childeren\n",
    "            - Until each node is less than both of its children"
   ]
  },
  {
   "cell_type": "markdown",
   "metadata": {},
   "source": [
    "<img src='pics/binary_heap_remove_1.png'>"
   ]
  },
  {
   "cell_type": "markdown",
   "metadata": {},
   "source": [
    "<img src='pics/binary_heap_remove_2.png'>"
   ]
  },
  {
   "cell_type": "markdown",
   "metadata": {},
   "source": [
    "<img src='pics/binary_heap_remove_3.png'>"
   ]
  },
  {
   "cell_type": "markdown",
   "metadata": {},
   "source": [
    "<img src='pics/binary_heap_remove_4.png'>"
   ]
  },
  {
   "cell_type": "code",
   "execution_count": 7,
   "metadata": {},
   "outputs": [],
   "source": [
    "# When the index position of the node = p:\n",
    "    # left child = 2p\n",
    "    # right child = 2p +1\n",
    "def minChild(self, i):\n",
    "    '''\n",
    "    Provides the position of the minimum value, within this binary tree.\n",
    "    '''\n",
    "    # See if this node has children\n",
    "    if i * 2 + 1 > self.curentSize:\n",
    "        return i * 2\n",
    "    else:\n",
    "        # Compare and see if whether the left or right child has the lowest value\n",
    "        if self.heapList[i * 2] < self.heapList[i * 2 + 1]:\n",
    "            # If the left child's value lower than the right child's value\n",
    "            return i * 2\n",
    "        else:\n",
    "            # If the right child's value lower than the left child's value\n",
    "            return i * 2 + 1 "
   ]
  },
  {
   "cell_type": "code",
   "execution_count": 8,
   "metadata": {},
   "outputs": [],
   "source": [
    "# perdDown() is dependant on minChild()\n",
    "def percDown(self, i):\n",
    "    '''\n",
    "    If a node's value is larger than either if it's children, then swap there positions.\n",
    "    The largest value will then percolate down the tree to it's correct position.\n",
    "    '''\n",
    "    # Check if the level is found within the tree\n",
    "    # Then, check to see if the currnt value is smaller or larger than it's children\n",
    "    while (i * 2) <= self.currentSize:\n",
    "        mc = self.minChild(i)\n",
    "        # If the item's value is greater than the minimum child (mc), switch the values\n",
    "        if self.heapList[i] > self.heapList[mc]:\n",
    "            tmp = self.heapList[i]\n",
    "            self.heapList[i] = self.heapList[mc]\n",
    "            self.heapList[mc] = tmp\n",
    "        i = mc"
   ]
  },
  {
   "cell_type": "code",
   "execution_count": 9,
   "metadata": {},
   "outputs": [],
   "source": [
    "# An empty self.heapList = [0]\n",
    "def delMin(self):\n",
    "    '''\n",
    "    Remove the minimum value in the tree (the root node's value) from the tree.\n",
    "    '''\n",
    "    retval = self.heapList[1]\n",
    "    # The last item is made the root node\n",
    "    self.heapList[1] = self.heapList[self.currentSize]\n",
    "    # The current size of the list is rediced by 1 after deleting an item\n",
    "    self.currentSize = self.currentSize - 1\n",
    "    # Afetr setting the root node with the value of the last item, it is removed\n",
    "    seld.heapList.pop()\n",
    "    # Move the new root's value to the correct position within this binary tree\n",
    "    self.percDown(1)"
   ]
  },
  {
   "cell_type": "code",
   "execution_count": 17,
   "metadata": {},
   "outputs": [],
   "source": [
    "# Build the binary heap\n",
    "def build_bin_heap(self, a_list):\n",
    "    def __init__(self):\n",
    "        # The starting position is the middle of the list\n",
    "        i = len(a_list) // 2\n",
    "        # Add a '0' as the first item as the heap list's start with a '0' value\n",
    "        self.heap_list = [0] + a_list[:]\n",
    "        # The current size is the len of the list\n",
    "        self.current_size = len(a_list)\n",
    "        # Stop origanising the heap order structure after organised the last list-item\n",
    "        while (i > 0):\n",
    "            # Move values into the correct positions, smallest at the top (min heap)\n",
    "            self.percDown(i)\n",
    "            # Starting moving up the levels, towards the top of the heap\n",
    "            i = i - 1"
   ]
  },
  {
   "cell_type": "markdown",
   "metadata": {},
   "source": [
    "### Binary Search Trees\n",
    "- Implementations of map ADT (Abstract Data Type):\n",
    "    - Binary search on list\n",
    "    - Hash tables\n",
    "    - Binary search tree  \n",
    "<br></br>\n",
    "- These methods are used to map a key of a value  \n",
    "<br></br>\n",
    "- For **Binary Search Trees**:\n",
    "    - Not interested in the exact placement of items in the tree\n",
    "    - Interested in providing efficient searching\n",
    "    - Have an ***bst property*** - *ordering property*:\n",
    "        - Keys that are less than the parent, are found in the left subtree\n",
    "        - Keys that are greater than the parent, are found in the right subtree"
   ]
  },
  {
   "cell_type": "markdown",
   "metadata": {},
   "source": [
    "- **Basic operations on a BST**  \n",
    "<br></br>\n",
    "    - *Create*: creates an empty tree\n",
    "    - *Insert*: insert a node in the tree\n",
    "    - *Search*: Searches for a node in the tree\n",
    "    - *Delete*: deletes a node from the tree  \n",
    "<br></br>\n",
    "    - *Inorder*: in-order traversal of the tree\n",
    "    - *Preorder*: pre-order traversal of the tree\n",
    "    - *ostorder*: post-order traversal of the tree"
   ]
  },
  {
   "cell_type": "markdown",
   "metadata": {},
   "source": [
    "* Arrange this list, using the bst ordering property [70, 31, 93, 94, 14, 23, 73]"
   ]
  },
  {
   "cell_type": "markdown",
   "metadata": {},
   "source": [
    "<img src='pics/bst_ex1.png'>"
   ]
  },
  {
   "cell_type": "markdown",
   "metadata": {},
   "source": [
    "* In order to create and work with an empty binary search tree:\n",
    "    - Make one class for the binary search tree (**binary_search_tree**)\n",
    "    - Make one class for the tree node (**tree_node**)"
   ]
  },
  {
   "cell_type": "code",
   "execution_count": 129,
   "metadata": {},
   "outputs": [],
   "source": [
    "class tree_node():\n",
    "    # The construction of this object's attributes\n",
    "    def __init__(self,key,val,left=None,right=None,parent=None):\n",
    "        self.key = key\n",
    "        self.payload = val\n",
    "        self.leftChild = left\n",
    "        self.rightChild = right\n",
    "        self.parent = parent\n",
    "    \n",
    "    # Return the left child\n",
    "    def hasLeftChild(self):\n",
    "        return self.leftChild\n",
    "    \n",
    "    # Return the right child\n",
    "    def hasRightChild(self):\n",
    "        return self.rightChild\n",
    "    \n",
    "    # # Return true if\n",
    "    def isLeftChild(self):\n",
    "        return self.parent and self.parent.leftChild == self\n",
    "    \n",
    "    # Return true if \n",
    "    def isRightChild(self):\n",
    "        return self.parent and self.parent.rightChild == self\n",
    "    \n",
    "    # Return true if root node, if parent value is 'None' or 'False'\n",
    "    def isRoot(self):\n",
    "        return not self.parent\n",
    "    \n",
    "    # Return true if no children present (leaf node)\n",
    "    def isLeaf(self):\n",
    "        return not (self.rightChild or self.leftChild)\n",
    "    \n",
    "    # # Return true if any children present\n",
    "    def hasAnyChildren(self):\n",
    "        return self.rightChild or self.leftChild\n",
    "    \n",
    "    # # Return true if both children are present\n",
    "    def hasBothChildren(self):\n",
    "        return self.rightChild and self.leftChild\n",
    "    \n",
    "    # Repalce a node, with new key, payload\n",
    "        # Update the parent left and right values\n",
    "    def replaceNodeData(self,key,value,lc,rc):\n",
    "        self.key = key\n",
    "        self.payload = value\n",
    "        self.leftChild = lc\n",
    "        self.rightChild = rc\n",
    "        # The left-child's parent field is reset to self\n",
    "            # Which is an object with these 4 fields\n",
    "                # As this object will be replacing the old root node\n",
    "        if self.hasLeftChild():\n",
    "            self.leftChild.parent = self\n",
    "        # The right-child's parent field is reset to self\n",
    "            # Which is an object with these 4 fields\n",
    "                # As this object will be replacing the old root node\n",
    "        if self.hasRightChild():\n",
    "            self.rightChild.parent = self"
   ]
  },
  {
   "cell_type": "code",
   "execution_count": 134,
   "metadata": {},
   "outputs": [],
   "source": [
    "class binary_search_tree():\n",
    "    \n",
    "    def __init__(self):\n",
    "        self.root = None\n",
    "        self.size = 0\n",
    "        \n",
    "    def length(self):\n",
    "        return self.size\n",
    "    \n",
    "    def __len__(self):\n",
    "        return self.size\n",
    "\n",
    "    # Check to see if the tree already has a route\n",
    "    def put(self,key,val):\n",
    "        # If a root is present, call the private, recursive helper function _put\n",
    "        if self.root:\n",
    "            # Place the new node in the correct position (bst ordering property) \n",
    "                # Enter the new node key and value to insert (1st and 2nd arguement)\n",
    "                # Enter the self.root-node-object as the current_node (3rd arguement)\n",
    "            self._put(key,val,self.root)\n",
    "        # If there is no root then create a new tree_node, and install it as the root\n",
    "        else:\n",
    "            self.root = TreeNode(key,val) # N.B. A class attribute can be an object\n",
    "        self.size = self.size + 1\n",
    "    \n",
    "    # Starting at the root of the tree, and recursively search the binary-tree\n",
    "        # Compare the new key, to the key of the curent-node\n",
    "            # The current node is placed into the first empty child field\n",
    "                # Based to the ordering proeprty\n",
    "                    # Values less than the current node go to the left\n",
    "                    # Values greater than the current node go to the right\n",
    "    def _put(self,key,val,currentNode):\n",
    "        # If the new key is less than the current node, search the left sub-tree\n",
    "        if key < currentNode.key:\n",
    "            # If left child present\n",
    "            if currentNode.hasLeftChild():\n",
    "                self._put(key,val,currentNode.leftChild)\n",
    "            # If no left child present\n",
    "            else:\n",
    "                # Create a new node, using the tree_node object, at the position\n",
    "                currentNode.leftChild = TreeNode(key,val,parent=currentNode)\n",
    "        # If the new key is greater than the current node, search the right sub-tree\n",
    "        else:\n",
    "            # If right child present\n",
    "            if currentNode.hasRightChild():\n",
    "                self._put(key,val,currentNode.rightChild)\n",
    "            # If no right child present\n",
    "            else:\n",
    "                # Create a new node, using the tree_node object, at the position\n",
    "                currentNode.rightChild = TreeNode(key,val,parent=currentNode)\n",
    "                \n",
    "    # Rather than calling the method on the object (binary_search_tree.put(key, value)),\n",
    "        # The object can be used as a dictionary (binary_search_tree[key])\n",
    "    def __setitem__(self,k,v):\n",
    "        self.put(k,v)\n",
    "        \n",
    "\n",
    "    # Starting at the root of the tree, and recursively search the binary-tree\n",
    "    def get(self,key):\n",
    "        # If a root node is present\n",
    "        if self.root:\n",
    "            # If the _get method finds a matching key from the binary tree\n",
    "            res = self._get(key,self.root)\n",
    "            if res:\n",
    "                # Return the payload (value), for the node with the found key\n",
    "                return res.payload\n",
    "            # If the _get method does not find a matching key from the binary tree\n",
    "            else:\n",
    "                return None\n",
    "        # If a root node is not present\n",
    "        else:\n",
    "            return None\n",
    "\n",
    "    def _get(self,key,currentNode):\n",
    "        # If the starting node (root) is not present\n",
    "        if not currentNode:\n",
    "            return None\n",
    "        # If the targeted key matches the current node\n",
    "        elif currentNode.key == key:\n",
    "            return currentNode\n",
    "        # If the targeted key is less tha current node\n",
    "        elif key < currentNode.key:\n",
    "            return self._get(key,currentNode.leftChild)\n",
    "        # If the targeted key is greater than current node\n",
    "        else:\n",
    "            return self._get(key,currentNode.rightChild)\n",
    "\n",
    "    # Rather than calling the method on the object (binary_search_tree.get(key)),\n",
    "        # The object can be used as a dictionary (binary_search_tree[key])\n",
    "    def __getitem__(self,key):\n",
    "        return self.get(key)\n",
    "\n",
    "\n",
    "    # Find the node to delete, by searching through the binary-tree\n",
    "        # Search using the _get method to find the tree_node that will be removed\n",
    "    def delete(self,key):\n",
    "        '''\n",
    "        1. If more than one node (size > 1) and a match exists then remove the node\n",
    "            -> The delete function will use remove(), when:\n",
    "                1.1 Only leaf node(s) exists\n",
    "                1.2 Both children exists\n",
    "                1.3 Only one child exists\n",
    "                \n",
    "        2. If only one node (size = 1) and a match exists then reset the root node\n",
    "        '''\n",
    "        \n",
    "        if self.size > 1: # If the tree has more than one node\n",
    "            nodeToRemove = self._get(key,self.root)\n",
    "            if nodeToRemove: # If the target key is found\n",
    "                self.remove(nodeToRemove) # Remove then node (remove() is defined below)\n",
    "                self.size = self.size-1 # Update the size of the tree\n",
    "            else:\n",
    "                # Raise an error if the search key is not found\n",
    "                raise KeyError('Error, key not in tree')\n",
    "        # If the tree has only has one node, check if the key also matches\n",
    "        elif self.size == 1 and self.root.key == key:\n",
    "            self.root = None # Reset the root node to 'None'\n",
    "            self.size = self.size - 1 # Update the size of the tree\n",
    "        else:\n",
    "            # Raise an error if the search key is not found\n",
    "            raise KeyError('Error, key not in tree')\n",
    "\n",
    "    def __delitem__(self,key):\n",
    "        self.delete(key)\n",
    "\n",
    "    # <-- currentNode is referencing self.root, which if present, is a treeNode -->\n",
    "    def remove(self,currentNode):\n",
    "        \n",
    "        # <---------Deleting nodes case 1 (image below)--------->\n",
    "        \n",
    "        if currentNode.isLeaf(): # If the current node is a leaf node (no children)\n",
    "            # N.B. The child node will be stored as an object within the parent\n",
    "            # If the target-node matches as the left child\n",
    "            if currentNode == currentNode.parent.leftChild: \n",
    "                currentNode.parent.leftChild = None # Remove current node\n",
    "             # If the target-node matches as the right child (the only other option)\n",
    "            else:\n",
    "                currentNode.parent.rightChild = None # Remove current node\n",
    "        \n",
    "        \n",
    "        # <--------- Deleting nodes case 2 (image below) --------->\n",
    "        \n",
    "        # if a node has both it's children\n",
    "            # The node with the next largest key will take the current node's place\n",
    "                # This node is called the sucessor (succ) and must be found\n",
    "        elif currentNode.hasBothChildren(): # If current node has both children\n",
    "            succ = currentNode._findSuccessor() # Find node with the next largest key\n",
    "            succ._spliceOut() # Splice that node into curent node's position\n",
    "            currentNode.key = succ.key # Succ's key becomes the current node's key\n",
    "            currentNode.payload = succ.payload # Succ's pl becomes the current node's pl\n",
    "        \n",
    "        \n",
    "        # <--------- Deleting nodes case 3 (image below) --------->\n",
    "        \n",
    "        # The only possible scenario now, is that the node has one child\n",
    "            # Promote the child to take the place of it's parent\n",
    "        # UPDATE the child node's parent-field, to the current node's parent-field\n",
    "        # UPDATE the parent node's child-field, to the current node's child-field \n",
    "            # These updates will remove all reference to the current node\n",
    "                # From it's parent and children\n",
    "        else: \n",
    "            # Firstly check if the current node has a left child\n",
    "                # Seeing as the left child will have a lower value than the right child\n",
    "                # The left node will take the place of the current node\n",
    "            # All the sub conditions in this condition, have a left child\n",
    "                # Which will take the place of the current node\n",
    "            if currentNode.hasLeftChild():\n",
    "                # If the current node is a left child node\n",
    "                if currentNode.isLeftChild():\n",
    "                    currentNode.leftChild.parent = currentNode.parent\n",
    "                    currentNode.parent.leftChild = currentNode.leftChild\n",
    "                # # If the current node is a right child node \n",
    "                elif currentNode.isRightChild():\n",
    "                    currentNode.leftChild.parent = currentNode.parent\n",
    "                    currentNode.parent.rightChild = currentNode.leftChild\n",
    "                # If the current-node is not a left or right child then it is the root\n",
    "                    # eplace_node_date() is used as there is no parent\n",
    "                # Rather than connecting the current node's lowest child and parent\n",
    "                    # Seeing as there is no parent to the root\n",
    "                # The fields of the root are reset\n",
    "                    # Using the values of the current node's lowest child node\n",
    "                else:\n",
    "                    currentNode.replaceNodeData(currentNode.leftChild.key,\n",
    "                                                currentNode.leftChild.payload,\n",
    "                                                currentNode.leftChild.leftChild,\n",
    "                                                currentNode.leftChild.rightChild)\n",
    "            \n",
    "            # If a left child is NOT present then the right node will take it's place\n",
    "            else:\n",
    "                # # If the current node is a left child node\n",
    "                if currentNode.isLeftChild():\n",
    "                    currentNode.rightChild.parent = currentNode.parent\n",
    "                    currentNode.parent.leftChild = currentNode.rightChild\n",
    "                # # If the current node is a right child node\n",
    "                elif currentNode.isRightChild():\n",
    "                    currentNode.rightChild.parent = currentNode.parent\n",
    "                    currentNode.parent.rightChild = currentNode.rightChild\n",
    "                # If the current-node is not a left or right child then it is the root\n",
    "                    # eplace_node_date() is used as there is no parent\n",
    "                # Rather than connecting the current node's lowest child and parent\n",
    "                    # Seeing as there is no parent to the root\n",
    "                # The fields of the root are reset\n",
    "                    # Using the values of the current node's lowest child node\n",
    "                else:\n",
    "                    currentNode.replaceNodeData(currentNode.rightChild.key,\n",
    "                                                currentNode.rightChild.payload,\n",
    "                                                currentNode.rightChild.leftChild,\n",
    "                                                currentNode.rightChild.rightChild)\n",
    "\n",
    "    # * Helps _findSuccessor() to find the lowest left child value\n",
    "    def _findMin(self):\n",
    "        current = self\n",
    "        while current.hasLeftChild(): # Whilst a left child exists for the current node\n",
    "            current = current.leftChild # Reset 'current''s value with this new value\n",
    "        return current # Return the furthest left child, in this search\n",
    "\n",
    "    # Helps remove() to ___ when ___ both children are present\n",
    "    # The successor is taken to be the next largest value\n",
    "    def _findSuccessor(self):\n",
    "        succ = None \n",
    "        if self.hasRightChild(): # Check if there is a right child to the current node\n",
    "            # If there is a right child for the current node\n",
    "            # Then furthest left child of the current node is the next value *\n",
    "            succ = self.rightChild._findMin() \n",
    "        else: # If no right-child for the current node\n",
    "            if self.parent: # If a parent node exists, for the current-node\n",
    "                if self.isLeftChild(): # If the current-node is a left child\n",
    "                    succ = self.parent # Then the next value is the parent\n",
    "                # If current node is a right child, but doesn't have a right child\n",
    "                    # Then the successor is the successor of it's parent\n",
    "                    # I.e The next largest key, after the parent excluding current node\n",
    "                else: \n",
    "                    self.parent.rightChild = None # Disregard current node from search\n",
    "                    succ = self.parent._findSuccessor() # Find successor of parent node\n",
    "                    self.parent.rightChild = self # Reset current node with the succ\n",
    "        return succ\n",
    "                    \n",
    "    # Splice succ node from binary tree, and then move the nodes to maintain bst order\n",
    "    def _spliceOut(self): # 'self' here is the successor node\n",
    "        \n",
    "        # Is a leaf node\n",
    "        if self.isLeaf(): # If leaf node\n",
    "            if self.isLeftChild(): # If successor node is a left child leaf node\n",
    "                self.parent.leftChild = None # Remove succ node's references to parents \n",
    "            else: # If successor node is a right child leaf node\n",
    "                self.parent.rightChild = None # Remove succ node's references to parents\n",
    "\n",
    "        # Succ guarantee condition of only one child\n",
    "        else self.hasAnyChildren # Figure 3.1\n",
    "            # Update the references for the parent, left and right child nodes, for self\n",
    "            if self.hasLeftChild(): # If the successor has a left child\n",
    "                if self.isLeftChild():\n",
    "                    self.parent.leftChild = self.leftChild # Reset parent's left child\n",
    "                else:\n",
    "                    self.parent.rightChild = self.leftChild # Reset parent's right child\n",
    "                self.leftChild.parent = self.parent # Resets the left-child's parent\n",
    "                \n",
    "            else: # If the successor has a right child\n",
    "                if self.isLeftChild():  \n",
    "                    self.parent.leftChild = self.rightChild # Reset parent's left child\n",
    "                else:\n",
    "                    self.parent.rightChild = self.rightChild # Reset parent's right child\n",
    "                self.rightChild.parent = self.parent # Resets the right-child's parent\n",
    "                \n",
    "    # An iterator should only return one node each time it's called\n",
    "    def __iter__(self):\n",
    "        if self:\n",
    "            if self.hasLeftChild():\n",
    "                for elem in self.leftChild:\n",
    "                    yield elem\n",
    "            yield self.key\n",
    "            if self.hasRightChild():\n",
    "                for elem in self.rightChild:\n",
    "                    yield elem"
   ]
  },
  {
   "cell_type": "markdown",
   "metadata": {},
   "source": [
    "#### Deleting nodes case 1  \n",
    "<img src='pics/del_node_1.png'>"
   ]
  },
  {
   "cell_type": "markdown",
   "metadata": {},
   "source": [
    "#### Deleting nodes case 2   \n",
    "<img src='pics/del_node_2_i.png'>  \n",
    "##### 2.1  \n",
    "<img src='pics/binary_trees_remove_1_child.png'>"
   ]
  },
  {
   "cell_type": "markdown",
   "metadata": {},
   "source": [
    "#### Deleting nodes case 3  \n",
    "<img src='pics/del_node_3.png'>  \n",
    "##### 3.1  \n",
    "<img src='pics/binary_trees_remove_2_child.png'>"
   ]
  },
  {
   "cell_type": "markdown",
   "metadata": {},
   "source": [
    "* If a duplicate key is inserted, this collision should be handled\n",
    "    * One method is replace the previous key's value with the new entry's value"
   ]
  },
  {
   "cell_type": "code",
   "execution_count": null,
   "metadata": {},
   "outputs": [],
   "source": [
    "mytree = binary_search_tree()\n",
    "mytree[3]=\"red\"\n",
    "mytree[4]=\"blue\"\n",
    "mytree[6]=\"yellow\"\n",
    "mytree[2]=\"at\"\n",
    "\n",
    "print(mytree[6])\n",
    "print(mytree[2])"
   ]
  },
  {
   "cell_type": "code",
   "execution_count": null,
   "metadata": {},
   "outputs": [],
   "source": []
  },
  {
   "cell_type": "markdown",
   "metadata": {},
   "source": [
    "## 7. Searching and sorting\n",
    "- Go through all the data and compare the elements"
   ]
  },
  {
   "cell_type": "markdown",
   "metadata": {},
   "source": [
    "### Sequential search"
   ]
  },
  {
   "cell_type": "markdown",
   "metadata": {},
   "source": [
    "#### Unordered list"
   ]
  },
  {
   "cell_type": "code",
   "execution_count": null,
   "metadata": {},
   "outputs": [],
   "source": [
    "def seq_search(arr,ele):\n",
    "    pos = 0          # Starting position\n",
    "    found = False    # True when number is found\n",
    "\n",
    "    while pos < len(arr) and not found:\n",
    "        if arr[pos] == ele:\n",
    "            found = True\n",
    "        else:\n",
    "            pos +=1\n",
    "    return found "
   ]
  },
  {
   "cell_type": "code",
   "execution_count": null,
   "metadata": {},
   "outputs": [],
   "source": [
    "arr = [1,2,3,4,5]\n",
    "seq_search(arr,6)"
   ]
  },
  {
   "cell_type": "code",
   "execution_count": null,
   "metadata": {},
   "outputs": [],
   "source": [
    "arr = [1,2,3,4,5]\n",
    "seq_search(arr,3)"
   ]
  },
  {
   "cell_type": "code",
   "execution_count": null,
   "metadata": {},
   "outputs": [],
   "source": [
    "# Check edge cases\n",
    "arr = [1,2,3,4,5]\n",
    "seq_search(arr,1)"
   ]
  },
  {
   "cell_type": "code",
   "execution_count": null,
   "metadata": {},
   "outputs": [],
   "source": [
    "# Check edge cases\n",
    "arr = [1,2,3,4,5]\n",
    "seq_search(arr,5)"
   ]
  },
  {
   "cell_type": "markdown",
   "metadata": {},
   "source": [
    "#### Ordered list"
   ]
  },
  {
   "cell_type": "code",
   "execution_count": null,
   "metadata": {},
   "outputs": [],
   "source": [
    "def seq_search(arr,ele):\n",
    "    '''\n",
    "    Input array must be ordered\n",
    "    '''\n",
    "    \n",
    "    pos = 0          # Starting position\n",
    "    found = False    # True when number is found\n",
    "    stopped = Fasle  # Stop when the value is greate than the target element\n",
    "    \n",
    "    while pos < len(arr) and not found and not stopped:\n",
    "        if arr[pos] == ele:\n",
    "            found = True\n",
    "        else:\n",
    "            if arr[pos] > ele:\n",
    "                stopped = True\n",
    "            else:\n",
    "                pos +=1\n",
    "    \n",
    "    return found "
   ]
  },
  {
   "cell_type": "code",
   "execution_count": null,
   "metadata": {},
   "outputs": [],
   "source": [
    "arr = [1,2,3,4,5,6,7,8,9,10]\n",
    "seq_search(arr,11)"
   ]
  },
  {
   "cell_type": "code",
   "execution_count": null,
   "metadata": {},
   "outputs": [],
   "source": [
    "arr = [1,2,3,4,5,6,7,8,9,10]\n",
    "seq_search(arr,9)"
   ]
  },
  {
   "cell_type": "code",
   "execution_count": null,
   "metadata": {},
   "outputs": [],
   "source": [
    "# Check edge cases\n",
    "arr = [1,2,3,4,5,6,7,8,9,1]\n",
    "seq_search(arr,1)"
   ]
  },
  {
   "cell_type": "code",
   "execution_count": null,
   "metadata": {},
   "outputs": [],
   "source": [
    "# Check edge cases\n",
    "arr = [1,2,3,4,5,6,7,8,9,10]\n",
    "seq_search(arr,10)"
   ]
  },
  {
   "cell_type": "markdown",
   "metadata": {},
   "source": [
    "### Binary search\n",
    "- For ordered lists\n",
    "- Will start by examing the middle items\n",
    "    - If the **target item** is:\n",
    "        - **Greater than the middle item**\n",
    "            - The entire lower half is discarded\n",
    "                - Search continues at the new middle-item\n",
    "        - **Less than the middle item**\n",
    "            - The entire upper half is discarded\n",
    "                - Search continues at the new middle-item"
   ]
  },
  {
   "cell_type": "markdown",
   "metadata": {},
   "source": [
    "#### Iteration\n",
    "- In an iteration, variables are reintialised\n",
    "    - first\n",
    "    - last  \n",
    "<br></br>\n",
    "- These values are used to change the value of 'mid' "
   ]
  },
  {
   "cell_type": "code",
   "execution_count": null,
   "metadata": {},
   "outputs": [],
   "source": [
    "def binary_search(arr,ele):\n",
    "    \n",
    "    first = 0\n",
    "    last  = len(arr)-1\n",
    "    found = False\n",
    "\n",
    "    while first <= last and not found:\n",
    "        mid = (first+last)//2\n",
    "        \n",
    "        if ele == arr[mid]:\n",
    "            found = True\n",
    "        elif ele < arr[mid]:\n",
    "                last = mid - 1\n",
    "        elif ele > arr[mid]:\n",
    "                first = mid + 1\n",
    "    \n",
    "        return found"
   ]
  },
  {
   "cell_type": "code",
   "execution_count": null,
   "metadata": {},
   "outputs": [],
   "source": [
    "# Item present\n",
    "arr = [1,2,3,4,5,6,7,8,9,10]\n",
    "binary_search(arr,5)"
   ]
  },
  {
   "cell_type": "code",
   "execution_count": null,
   "metadata": {},
   "outputs": [],
   "source": [
    "# Item not present\n",
    "arr = [1,2,3,4,5,6,7,8,9,10]\n",
    "binary_search(arr,13)"
   ]
  },
  {
   "cell_type": "markdown",
   "metadata": {},
   "source": [
    "#### Recursion\n",
    "- In a recursion the first arguement of the fucntion is reinitialised \n",
    "    - 'mid' is feed back into the function arguement as a list index value \n",
    "        - arr[:mid]\n",
    "        - arr[mid+1:]  \n",
    "<br></br>\n",
    "- The new list with a different length, will change the value of 'mid'"
   ]
  },
  {
   "cell_type": "code",
   "execution_count": 29,
   "metadata": {},
   "outputs": [],
   "source": [
    "def rec_binary_search(arr,ele):\n",
    "    \n",
    "    # Base case\n",
    "    if len(arr) == 0:\n",
    "        return False \n",
    "    \n",
    "    else: \n",
    "\n",
    "        mid = len(arr)//2\n",
    "        \n",
    "        if arr[mid] == ele:\n",
    "            return True\n",
    "        else:\n",
    "            if ele < arr[mid]:\n",
    "                return rec_binary_search(arr[:mid],ele)\n",
    "            else:\n",
    "                return rec_binary_search(arr[mid+1:],ele)\n",
    "    \n",
    "        return found"
   ]
  },
  {
   "cell_type": "code",
   "execution_count": null,
   "metadata": {},
   "outputs": [],
   "source": [
    "# Item present\n",
    "rec_binary_search(arr,3)"
   ]
  },
  {
   "cell_type": "code",
   "execution_count": null,
   "metadata": {},
   "outputs": [],
   "source": [
    "# Item not present\n",
    "rec_binary_search(arr,13)"
   ]
  },
  {
   "cell_type": "markdown",
   "metadata": {},
   "source": [
    "## Hashing / Hash table"
   ]
  },
  {
   "cell_type": "markdown",
   "metadata": {},
   "source": [
    "- **Hashing**: \n",
    "    - Building a data structure that can be searched in constant time O(1)  \n",
    "<br></br>\n",
    "- **Hash tables**: \n",
    "    - An array containing all of the keys to search on  \n",
    "<br></br>\n",
    "- **Hash functions**: \n",
    "    - Determines the position of each key in the array   \n",
    "        - Can be any function which always maps the same input to the same output\n",
    "            - Inserting a new value ~ O(1)\n",
    "            - Looking up a new value ~ O(1)\n",
    "    - Hash function methods:\n",
    "        - *Folding method*: \n",
    "            - 6574837601, 6+5+7+4+8+3+7+6+0+1 = 47, 47 % 11 = 3\n",
    "            - **slot_pos = 3**\n",
    "        - *Mid-square method*: \n",
    "            - 44, 44^2 = 1936, 2 central ints = 93, 93 % 11 = 5\n",
    "            - **slot_pos = 5**\n",
    "        - *Non-integer values*: \n",
    "            - cat, use ordinal values, ord('c') = 99, a=97, t=116, cat=312, 312%11=4\n",
    "            - **slot_pos = 4**\n",
    " \n",
    " <br></br>\n",
    "- **Collision resolution**: \n",
    "    - There is nothing which guarantees that the hash function won't produce the same output for two different inputs  \n",
    "        - Unless it's a perfect hash function which is difficult to produce  \n",
    " <br></br>\n",
    "    - Solutions(s):\n",
    "        - **Open addressing**:\n",
    "            - Hash again (**rehash/rehashing**) to find another location with an empty slot\n",
    "                - The *open addressing* technique of systematically visting each slot:\n",
    "                    -  **1 by 1 = linear probing**\n",
    "                        - With linear probing we keep moving down until empty slot\n",
    "                    -  **1 by 1 = quadratic probing**\n",
    "                        - To avoid clustering which is done by skipping slots\n",
    "                            - More evenly distributing the items that cause collisions\n",
    "                        - Rather than using constant 'skip' value\n",
    "                            - Use a rehash function that increments the hash value\n",
    "                                - E.g if first value is = h\n",
    "                                    - Successive values = h+1, h+3, h+5 h+7, h+9\n",
    "                                        - Any sequence of increasingly spaced ints\n",
    "        - ***Separate chaining***: \n",
    "            - Allow each slot to hold a reference to a collection (or chain) of items\n",
    "            - Allows many items to exist in the same location in the hash table\n",
    "                - Each array slot has a linked list\n",
    "            - O(1) to find correct index in the array + a potential linear search down\n",
    "            - If the hash table increases in size then the linear searches will skew the complexity towards O(n)\n",
    "                - The table is then *rehashed*, where:\n",
    "                    - A new larger hash table is created\n",
    "                    - All the data is inserted into the new hash table"
   ]
  },
  {
   "cell_type": "code",
   "execution_count": 141,
   "metadata": {},
   "outputs": [],
   "source": [
    "class HashTable(object):\n",
    "     \n",
    "    def __init__(self,size):\n",
    "            # Sets up slots, data and size\n",
    "            self.size = size\n",
    "            self.slots = [None] * self.size\n",
    "            self.data = [None] * self.size\n",
    "        \n",
    "        \n",
    "    def hashfunction(self,key,size):\n",
    "        # Remainder method\n",
    "        return key % size\n",
    "\n",
    "\n",
    "    def rehash(self,oldhash,size):\n",
    "    # Find the next possible position\n",
    "        return (oldhash + 1) % size\n",
    "\n",
    "\n",
    "    def put(self,key,data):\n",
    "        # Get the hash value\n",
    "        hashvalue = self.hashfunction(key,len(self.slots))\n",
    "\n",
    "        # If slot is empty\n",
    "        if self.slots[hashvalue] == None:\n",
    "            seld.slots[hashbalue] = key\n",
    "            seld.data[hashbalue] = data\n",
    "\n",
    "        # If the key already exists, replace the old value\n",
    "        elif self.slots[hashvalue] == key:\n",
    "            self.data[hashvalue] == data\n",
    "\n",
    "        else: # Find the next available slot\n",
    "            nextslot = self.rehash(hashvalue,len(self.slots))\n",
    "\n",
    "             # If the slot is not empty, and is not the key\n",
    "            while self.slots[nextslot] != None and self.slots[nextslot] != key:\n",
    "                nextslot = self.rehash(nextslot,len(self.slots))\n",
    "\n",
    "            # Set new key and data, if element is None\n",
    "            if self.slots[nextslot] == None:\n",
    "                self.slots[nextslot] = key\n",
    "                self.data[nextslot] = data\n",
    "\n",
    "            # Set new data, if element is equal is key\n",
    "            else:\n",
    "                self.data[nextslot] = data\n",
    "\n",
    "\n",
    "    def get(self,key):\n",
    "        '''\n",
    "        Getting items given a key\n",
    "        '''\n",
    "        # Set up variables for the search\n",
    "        startslot = self.hashfunction(key,len(self.slots))\n",
    "        data = None\n",
    "        # Stops the while loop from searching after passing over all the elements once\n",
    "        stop = False\n",
    "        found = False\n",
    "        # The starting position of the search\n",
    "        position = startslot\n",
    "        \n",
    "        # The while loop will continue to cycle through all the elements in the list\n",
    "            # Given element is empt, not key or unsearched\n",
    "        while self.slots[position] != None and not found and not stop:\n",
    "            if self.slots[position] == key:\n",
    "                data = self.data[position]\n",
    "                found = True\n",
    "            else:\n",
    "                position = self.rehash(position,len(self.slots))\n",
    "                # Until returning to the first element that has already been checked\n",
    "                if position == startslot:\n",
    "                    # Make stop = True. So that the whole loop will exist\n",
    "                    stop = True\n",
    "                    \n",
    "        return data\n",
    "\n",
    "    # Allows for list indexing to be used to set a key and data item\n",
    "    def __setitem__(self,key,data):\n",
    "        return self.put(key,data)\n",
    "\n",
    "    # Allows for list indexing to be used to return the data element for a given key\n",
    "    def __getitem__(self,key):\n",
    "        return self.get(key)"
   ]
  },
  {
   "cell_type": "markdown",
   "metadata": {},
   "source": [
    "## Bubble sort\n",
    "- Makes multiple passes through a list\n",
    "- Compares adjacent items \n",
    "- Values sare moved if they are out of order\n",
    "- The numbers are sorted in ascending order\n",
    "    - With the largest value as the last item"
   ]
  },
  {
   "cell_type": "markdown",
   "metadata": {},
   "source": [
    "<img src='pics/bubble_sort.png'>"
   ]
  },
  {
   "cell_type": "code",
   "execution_count": null,
   "metadata": {},
   "outputs": [],
   "source": [
    "def bubble_sort(arr):\n",
    "    for n in range(len(arr)-1,0,-1):\n",
    "        for k in range(n):\n",
    "            if arr[k] > arr[k+1]:\n",
    "                temp = arr[k]\n",
    "                arr[k] = arr[k+1]\n",
    "                arr[k+1] = temp\n",
    "    \n",
    "    return print(arr)"
   ]
  },
  {
   "cell_type": "code",
   "execution_count": null,
   "metadata": {},
   "outputs": [],
   "source": [
    "arr_b = [5,6,4,8,2,3]\n",
    "bubble_sort(arr_b)"
   ]
  },
  {
   "cell_type": "markdown",
   "metadata": {},
   "source": [
    "## Selection sort\n",
    "https://stackoverflow.com/questions/15799034/insertion-sort-vs-selection-sort\n",
    "- In comaparison to the bubble sort, only one swap is made for every pass\n",
    "    - Rather than n-1 swaps for every pass\n",
    "- Looks for the largest value at every pass\n",
    "- Will place the item in position so that the numbers will be in ascending order\n",
    "    - With the largest value as the last item"
   ]
  },
  {
   "cell_type": "markdown",
   "metadata": {},
   "source": [
    "<img src='pics/selection_sort.png'>"
   ]
  },
  {
   "cell_type": "code",
   "execution_count": 5,
   "metadata": {},
   "outputs": [],
   "source": [
    " def selection_sort(arr):\n",
    "        \n",
    "        for sorted_n in range(len(arr) - 1, 0, -1):\n",
    "            current_max = 0\n",
    "            \n",
    "            for unsorted_n in range(1, sorted_n + 1):\n",
    "                if arr[unsorted_n] > arr[current_max]:\n",
    "                    current_max = unsorted_n\n",
    "            \n",
    "            temp = arr[sorted_n]\n",
    "            arr[sorted_n] = arr[current_max]\n",
    "            arr[current_max] = temp\n",
    "            \n",
    "        return print(arr)"
   ]
  },
  {
   "cell_type": "code",
   "execution_count": 6,
   "metadata": {},
   "outputs": [
    {
     "name": "stdout",
     "output_type": "stream",
     "text": [
      "[3, 4, 5, 6]\n"
     ]
    }
   ],
   "source": [
    "arr_s = [5, 3, 4, 6]\n",
    "selection_sort(arr_s)"
   ]
  },
  {
   "cell_type": "markdown",
   "metadata": {},
   "source": [
    "## Insertion sort\n",
    "https://stackoverflow.com/questions/15799034/insertion-sort-vs-selection-sort\n",
    "- *Selection sort*: The **comparions** take place in the **unsorted** part of the list\n",
    "- *Insertion sort*: The **comparions** take place in the **sorted** part of the list  \n",
    "<br></br>\n",
    "- *In comparison to a selection sort*: An insertion sort compares the next item, with the items found in the sorted list\n",
    "    - The item is placed into the sorted part, in order  \n",
    "<br></br>\n",
    "- In some cases insertion sort can be advantages, as it shifts the values rather than exchanging the values\n",
    "    - Takes up 1/3 of the processing power as only one assignment takes place\n",
    "    - In contrast to 3 in bubble and selections sorts"
   ]
  },
  {
   "cell_type": "markdown",
   "metadata": {},
   "source": [
    "<img src='pics/insertion_sort.png'>"
   ]
  },
  {
   "cell_type": "code",
   "execution_count": 81,
   "metadata": {},
   "outputs": [],
   "source": [
    "def insertion_sort(arr):\n",
    "    \n",
    "    for i in range(1, len(arr)):\n",
    "        current_value = arr[i]\n",
    "        position = i\n",
    "        \n",
    "        # The while loop is used to allow for multiple swaps to be made\n",
    "            # As, the value for position is fed back into the statement to be compared\n",
    "        while position > 0 and arr[position - 1] > current_value:\n",
    "            arr[position] = arr[position - 1]\n",
    "            position -= 1\n",
    "        \n",
    "        arr[position] = current_value\n",
    "    \n",
    "    return arr"
   ]
  },
  {
   "cell_type": "code",
   "execution_count": 82,
   "metadata": {},
   "outputs": [
    {
     "data": {
      "text/plain": [
       "[1, 2, 3, 4, 5, 6, 7, 8, 9]"
      ]
     },
     "execution_count": 82,
     "metadata": {},
     "output_type": "execute_result"
    }
   ],
   "source": [
    "arr_i = [1, 9, 6, 2, 5, 7, 4, 8, 3]\n",
    "insertion_sort(arr_i)"
   ]
  },
  {
   "cell_type": "markdown",
   "metadata": {},
   "source": [
    "## Shell sort\n",
    " \n",
    "<br></br>\n",
    "* Improves on the insertion sort by breaking the original list into a number of smaller sublists\n",
    "* The sublists are made by choosing elements at a specific interval from each other\n",
    "* These sublists are sorted using insertion sort\n",
    "\n",
    "<br></br>\n",
    "* When using insertion sort:\n",
    "    - If the item to be sorted is near the opposite end of the list\n",
    "    - The item would be swapped with every item between itself and the sorted position\n",
    "* With the shell sort\n",
    "    - Only the items in the sublists are sorted\n",
    "    - Items can move a far larger distances along the array with far lower swaps\n",
    "    - Thereby being a less time complex operation\n",
    "    - If there are any unsorted items a final insertion sort on the list takes place\n",
    "    - However, by now only a few items will be out of place\n",
    "        - So the time complexity will not be significantly affected by this last sort"
   ]
  },
  {
   "cell_type": "markdown",
   "metadata": {},
   "source": [
    "* Create the sublists\n",
    "<br></br>\n",
    "<img src='pics/shell_sort_1.png'>\n",
    "<br></br>\n",
    "* Sort the sublists\n",
    "<br></br>\n",
    "<img src='pics/shell_sort_2.png'>\n",
    "<br></br>\n",
    "* The final insertion sort will have an increment of 1 (the standard insertion sort)\n",
    "<br></br>\n",
    "<img src='pics/shell_sort_3.png'>"
   ]
  },
  {
   "cell_type": "code",
   "execution_count": 83,
   "metadata": {},
   "outputs": [],
   "source": [
    "# In this example  after comparing all the sublists for a given gap, the gap will half\n",
    "def shell_sort(arr):\n",
    "    # The number of comparisons being made, based on the fact the list is split\n",
    "    sublist_gap = len(arr) // 2\n",
    "    # As long as the gap is greater than 0, stop after comparing at a gap of 1 \n",
    "    while sublist_gap > 0:\n",
    "        # Start is used to indicate the number of comparisons\n",
    "        for start in range(sublist_gap):\n",
    "            gap_insertion_sort(arr,start,sublist_gap)\n",
    "            #print(\"When gap size is: \", sublist_gap)\n",
    "            #print(\"List: \" , arr)\n",
    "        # Reduce the gap by half, until the increment (gap) between comparisons is 1\n",
    "        sublist_gap = sublist_gap // 2\n",
    "        \n",
    "def gap_insertion_sort(arr,start,gap):\n",
    "    # Iterate through the sublist that is created using the gaps\n",
    "    for i in range(start+gap,len(arr),gap):\n",
    "        current_value = arr[i]\n",
    "        position = i\n",
    "        # The first comparison to be made after crossing the first gap (position >= gap)\n",
    "        # The items are to increse in value towards the end of the list\n",
    "            # close-to-beginning = arr[position-gap] \n",
    "            # clsoe-to-end = current_value \n",
    "            # If item close-to-beginning > clsoe-to-end, swap items to sort correctly\n",
    "        # The while loop is used to allow for multiple swaps to be made\n",
    "            # As, the value for position is fed back into the statement to be compared\n",
    "        while position >= gap and arr[position - gap] > current_value:\n",
    "            # If the condition above is met swap the item values\n",
    "            arr[position] = arr[position - gap]\n",
    "            # After making the swap get the index position of the other item in the swap\n",
    "            position = position - gap\n",
    "        # If swap is made, the other item is placed into the pos cloest to the beginning\n",
    "        # If the swap is not made, the position of the current_value is unchanged\n",
    "        arr[position] = current_value"
   ]
  },
  {
   "cell_type": "code",
   "execution_count": 84,
   "metadata": {},
   "outputs": [
    {
     "data": {
      "text/plain": [
       "[2, 4, 6, 7, 21, 23, 24, 45, 45, 67, 90]"
      ]
     },
     "execution_count": 84,
     "metadata": {},
     "output_type": "execute_result"
    }
   ],
   "source": [
    "arr = [45,67,23,45,21,24,7,2,6,4,90]\n",
    "shell_sort(arr)\n",
    "arr"
   ]
  },
  {
   "cell_type": "markdown",
   "metadata": {},
   "source": [
    "## Merge sort"
   ]
  },
  {
   "cell_type": "markdown",
   "metadata": {},
   "source": [
    "* A recursive algorithm that continually splits a list in half\n",
    "\n",
    "<br></br>\n",
    "* If the list is more than one item:\n",
    "    - It is plit into half \n",
    "    - We then recursively invoke merge sort on both halves\n",
    "    \n",
    "<br></br>\n",
    "* If the list is empty or has one item:\n",
    "    - It is sorted by definition as there are no items to sort it with \n",
    "    \n",
    "<br></br>\n",
    "* Once the two halves are sorted, they are **merged**\n",
    "    - Taking two smaller sorted lists and combining them into a single sorted list"
   ]
  },
  {
   "cell_type": "markdown",
   "metadata": {},
   "source": [
    "* Split\n",
    "<br></br>\n",
    "<img src='pics/merge_sort_1.png'>\n",
    "<br></br>\n",
    "* Order and merge\n",
    "<br></br>\n",
    "<img src='pics/merge_sort_2.png'>\n",
    "<br></br>\n",
    "* Animation\n",
    "<br></br>\n",
    "![SegmentLocal](pics/Merge-sort-animation.gif \"segment\")\n",
    "* Double recusion\n",
    "<br></br>\n",
    "<img src='pics/merge_sort_merge.png'>"
   ]
  },
  {
   "cell_type": "raw",
   "metadata": {},
   "source": [
    "Example to help explain the recursive split-and-merging action:\n",
    "merge_sort([3, 1, 0, 4, 2])\n",
    "    merge_sort([3, 1])\n",
    "        merge_sort([3])\n",
    "        merge_sort([1])\n",
    "        <merge sort action> -> [1,3]\n",
    "    \n",
    "    merge_sort([0, 4, 2])\n",
    "        merge_sort([0])\n",
    "        merge_sort(4,2)\n",
    "            merge_sort([4])\n",
    "            merge_sort([2])\n",
    "            <merge sort action> -> [2,4]\n",
    "        <merge sort action> -> [0,2,4]\n",
    "        \n",
    "    <merge sort action> -> [0,1,2,3,4]"
   ]
  },
  {
   "cell_type": "code",
   "execution_count": 1,
   "metadata": {},
   "outputs": [],
   "source": [
    "def merge_sort(arr):\n",
    "    \n",
    "    # The base case, to terminate the splitting process\n",
    "        # If arguement is a list less than 2 items then the if statement does not run\n",
    "            # The splitting will then stop when only one items is left in the list\n",
    "        # In one level up (the previous level in the call stack)\n",
    "            # The merge_sort(left_half) has no further actions to run\n",
    "                # So we move onto the next line: merge_sort(right_half)\n",
    "    if len(arr) > 1:\n",
    "        mid = len(arr) // 2\n",
    "        left_half = arr[:mid]\n",
    "        right_half = arr[mid:]\n",
    "        \n",
    "        # The elements in the left_half will keep on splitting\n",
    "            # Until the elements are in their own list\n",
    "                # The left_half is passed in as arr recurrisively until the base case\n",
    "        print('Left half:    ',left_half)\n",
    "        merge_sort(left_half)\n",
    "        \n",
    "        # After all the left_half elements are split in their own list\n",
    "            # The same process repeats for the all the elements in the right_half\n",
    "                # The right_half is passed in as arr recurrisively until the base case\n",
    "        print('Right half:   ',right_half)\n",
    "        merge_sort(right_half)\n",
    "        \n",
    "        i = 0\n",
    "        j = 0\n",
    "        k = 0\n",
    "        \n",
    "        # 'and' prevents and out of bounds errors when indexing throught both the lists\n",
    "        while i < len(left_half) and j < len(right_half):\n",
    "            if left_half[i] < right_half[j]:\n",
    "                arr[k] = left_half[i]\n",
    "                i += 1\n",
    "            else:\n",
    "                arr[k] = right_half[j]\n",
    "                j += 1\n",
    "            # After the smallest value for a given 'k' index position is set\n",
    "            k += 1 # Point to the next position in the result arr by using k\n",
    "        \n",
    "        # If the left_half has more elements than the right_half\n",
    "        # If 'i' increments beyond the lenght of the left_half, the while loop exits\n",
    "            # However, if an item is still to be sorted in the right_half\n",
    "                # It is accounted for using this loop and inserted into arr[k] unsorted\n",
    "        while i < len(left_half):\n",
    "            arr[k] = left_half[i]\n",
    "            i += 1\n",
    "            k += 1\n",
    "        \n",
    "        # If the right_half has more elements than the left_half\n",
    "        # If 'j' increments beyond the lenght of the right_half, the while loop exits\n",
    "            # However, if an item is still to be sorted in the left_half\n",
    "                # It is accounted for using this loop and inserted into arr[k] unsorted\n",
    "        while j < len(right_half):\n",
    "            arr[k] = right_half[j]\n",
    "            j += 1\n",
    "            k += 1\n",
    "        \n",
    "        print('\\nMerged list:  ',arr, '\\n')\n",
    "    \n",
    "    return arr"
   ]
  },
  {
   "cell_type": "code",
   "execution_count": 2,
   "metadata": {},
   "outputs": [
    {
     "name": "stdout",
     "output_type": "stream",
     "text": [
      "Left half:     [54, 26, 93, 17]\n",
      "Left half:     [54, 26]\n",
      "Left half:     [54]\n",
      "Right half:    [26]\n",
      "\n",
      "Merged list:   [26, 54] \n",
      "\n",
      "Right half:    [93, 17]\n",
      "Left half:     [93]\n",
      "Right half:    [17]\n",
      "\n",
      "Merged list:   [17, 93] \n",
      "\n",
      "\n",
      "Merged list:   [17, 26, 54, 93] \n",
      "\n",
      "Right half:    [77, 31, 44, 55, 20]\n",
      "Left half:     [77, 31]\n",
      "Left half:     [77]\n",
      "Right half:    [31]\n",
      "\n",
      "Merged list:   [31, 77] \n",
      "\n",
      "Right half:    [44, 55, 20]\n",
      "Left half:     [44]\n",
      "Right half:    [55, 20]\n",
      "Left half:     [55]\n",
      "Right half:    [20]\n",
      "\n",
      "Merged list:   [20, 55] \n",
      "\n",
      "\n",
      "Merged list:   [20, 44, 55] \n",
      "\n",
      "\n",
      "Merged list:   [20, 31, 44, 55, 77] \n",
      "\n",
      "\n",
      "Merged list:   [17, 20, 26, 31, 44, 54, 55, 77, 93] \n",
      "\n"
     ]
    },
    {
     "data": {
      "text/plain": [
       "[17, 20, 26, 31, 44, 54, 55, 77, 93]"
      ]
     },
     "execution_count": 2,
     "metadata": {},
     "output_type": "execute_result"
    }
   ],
   "source": [
    "arr = [54,26,93,17,77,31,44,55,20]\n",
    "merge_sort(arr)"
   ]
  },
  {
   "cell_type": "markdown",
   "metadata": {},
   "source": [
    "* As each merge step halves the list size, there are **log(n)** merge steps\n",
    "* At each merge step, each item is compared, to **n** work is done \n",
    "* Time and space complexity = **O(n log n**)"
   ]
  },
  {
   "cell_type": "markdown",
   "metadata": {},
   "source": [
    "* Merge sort is more efficient and works faster than quick sort, for larger sized arrays or datasets\n",
    "* Quick sort is more efficient and works faster than merge sort, for smaller size array or datasets"
   ]
  },
  {
   "cell_type": "markdown",
   "metadata": {},
   "source": [
    "## Quick sort"
   ]
  },
  {
   "cell_type": "markdown",
   "metadata": {},
   "source": [
    "* Uses divide and conquer as done in merge sort\n",
    "    - While not using additional storage\n",
    "* As a trade off, it is possible that the list may not be split in half\n",
    "     - Which pushing the time complexity from **O(log n)** to **O(n)**\n",
    "         - Which will decrease performance, by increasing the time taken to sort\n",
    "         \n",
    " <br></br>\n",
    " * First select a value which is called the **pivot value**\n",
    " * The pivot value will be used to split the list\n",
    "     - Values lower to the left and values larger than it to the right of it\n",
    " * The the pivot is moved to a new location, it is called the **split point**\n",
    "     - Which is used for subsequents called, to the quick sort\n",
    " * The **partion** will:\n",
    "     - Find the split point\n",
    "     - Values lower than the value at the split point will be moved to the left\n",
    "     - Values greater than the value at the split point will be moved to the right\n",
    "         - Move the leftmark until a value greater than the pivot is found\n",
    "         - Move the rightmark until a value less than the pivot is found\n",
    "             - Switch this value around\n",
    "     - Split found once the position of rightmark is less than that of the leftmark"
   ]
  },
  {
   "cell_type": "markdown",
   "metadata": {},
   "source": [
    "* 54 is chosen to be the first pivot point\n",
    "<img src='pics/quick_sort_1.png'>\n",
    "<br></br>\n",
    "* The partion process \n",
    "<img src='pics/quick_sort_2.png'>\n",
    "<br></br>"
   ]
  },
  {
   "cell_type": "code",
   "execution_count": 21,
   "metadata": {},
   "outputs": [
    {
     "name": "stdout",
     "output_type": "stream",
     "text": [
      "[1, 2, 3, 4, 4, 5, 6, 7, 11, 12]\n"
     ]
    }
   ],
   "source": [
    "def quick_sort(arr,first=0,last=len(arr) - 1):\n",
    "    \n",
    "    quick_sort_helper(arr,first,last)\n",
    "    \n",
    "    # Base case, to terminate the recursion\n",
    "    if first < last:\n",
    "        split_point = split(arr,first,last)\n",
    "        \n",
    "        quick_sort(arr,first,split_point - 1)\n",
    "        quick_sort(arr,split_point + 1,last)\n",
    "    \n",
    "        \n",
    "def split(arr,first,last):\n",
    "    \n",
    "    pivot_value = arr[first]\n",
    "    \n",
    "    left_mark = first + 1\n",
    "    right_mark = last\n",
    "    \n",
    "    done = False\n",
    "    \n",
    "    while not done:\n",
    "        \n",
    "        while left_mark <= right_mark and arr[left_mark] <= pivot_value:\n",
    "            left_mark += 1\n",
    "            \n",
    "        while right_mark >= left_mark and arr[right_mark] >= pivot_value:\n",
    "            right_mark -= 1\n",
    "        \n",
    "        # Exit the main while loop\n",
    "        # Return right_mark to create a new pivot_value for the new split\n",
    "        if right_mark < left_mark:\n",
    "            done = True\n",
    "            \n",
    "        else: # Make the swap if:\n",
    "            # The left mark is greater than the pivot_value, and\n",
    "            # The right mark is less than the pivot_value\n",
    "            arr[left_mark], arr[right_mark] = arr[right_mark], arr[left_mark]\n",
    "            \n",
    "    # After the left_mark and right_mark cross \n",
    "        # Switch the pivot with the current right_kark value\n",
    "    # So that the pivot_value is in the centre of the current partion\n",
    "        # As we know all the items after this position will be greater than the pivot\n",
    "    arr[first], arr[right_mark] = arr[right_mark], arr[first]\n",
    "    \n",
    "    return right_mark\n",
    "\n",
    "if __name__ == '__main__':\n",
    "    arr = [2,5,4,6,7,3,1,4,12,11]\n",
    "    quick_sort(arr)\n",
    "    print(arr)"
   ]
  },
  {
   "cell_type": "code",
   "execution_count": 22,
   "metadata": {},
   "outputs": [
    {
     "data": {
      "text/plain": [
       "[1, 2, 3, 4, 4, 5, 6, 7, 11, 12]"
      ]
     },
     "execution_count": 22,
     "metadata": {},
     "output_type": "execute_result"
    }
   ],
   "source": [
    "arr = [2,5,4,6,7,3,1,4,12,11]\n",
    "quick_sort(arr)\n",
    "arr"
   ]
  },
  {
   "cell_type": "markdown",
   "metadata": {},
   "source": [
    "### Merge Sort vs Quick Sort\n",
    "* The merge sort algorithm performs in the exact same and precise manner regardless of the number of elements involved in the sorting\n",
    "* It works fine well with the large data set\n",
    "* Quick sort is faster than merge sort in some cases such as for small data sets\n",
    "* Merge sort requires additional memory space to store the auxiliary arrays, **O(n)**\n",
    "    - On the other hand, the quick sort doesn’t require much space for extra storage\n",
    "* Merge sort is more efficient than quick sort\n",
    "* The quick sort is internal sorting method where the data that is to be sorted is adjusted at a time in main memory\n",
    "    - Conversely, the merge sort is external sorting method\n",
    "        - Where the data that is to be sorted cannot be accommodated in the memory, at the same time. So some has to be kept in the auxiliary memory\n",
    "\n",
    "<br></br>\n",
    "#### Conculsion\n",
    "* The quick sort is faster for smaller lists but is inefficient for larger lists. \n",
    "* It also performs a lot of comparisons as compared to merge sort. \n",
    "* Although, merge sort requires less comparison it needs an additional memory space of **0(n)**, for storing the extra array while quick sort needs space of **O(log n)**  \n",
    "\n",
    "<br></br>\n",
    "#### Considerations\n",
    "**Why Quick Sort is preferred over MergeSort for sorting Arrays**\n",
    "* Quick Sort in its general form is an in-place sort (i.e. it doesn’t require any extra storage) whereas merge sort requires O(N) extra storage, N denoting the array size which may be quite expensive. Allocating and de-allocating the extra space used for merge sort increases the running time of the algorithm. Comparing average complexity we find that both type of sorts have O(NlogN) average complexity but the constants differ. For arrays, merge sort loses due to the use of extra O(N) storage space.  \n",
    "<br></br>\n",
    "\n",
    "**Why MergeSort is preferred over QuickSort for Linked Lists?**\n",
    "* In case of linked lists the case is different mainly due to difference in memory allocation of arrays and linked lists. Unlike arrays, linked list nodes may not be adjacent in memory. Unlike array, in linked list, we can insert items in the middle in O(1) extra space and O(1) time. Therefore merge operation of merge sort can be implemented without extra space for linked lists.  \n",
    "<br></br>\n",
    "* In arrays, we can do random access as elements are continuous in memory. Let us say we have an integer (4-byte) array A and let the address of A[0] be x then to access A[i], we can directly access the memory at (x + i*4). Unlike arrays, we can not do random access in linked list. Quick Sort requires a lot of this kind of access. In linked list to access i’th index, we have to travel each and every node from the head to i’th node as we don’t have continuous block of memory. Therefore, the overhead increases for quick sort. Merge sort accesses data sequentially and the need of random access is low."
   ]
  },
  {
   "cell_type": "markdown",
   "metadata": {},
   "source": [
    "## 8. Graph"
   ]
  },
  {
   "cell_type": "markdown",
   "metadata": {},
   "source": [
    "* Graphs are a more general structure than trees\n",
    "    * Trees and a type of graph  \n",
    "<br></br>\n",
    "* Graphs can be used to represent: \n",
    "    * Roads\n",
    "    * Airline flights from city to city\n",
    "    * How the internet is connected  \n",
    "<br></br>\n",
    "* Once the problem can be represented, standard graph algorithms can be used to solve the problem, with less complexity and quicker"
   ]
  },
  {
   "cell_type": "markdown",
   "metadata": {},
   "source": [
    "## Components"
   ]
  },
  {
   "cell_type": "markdown",
   "metadata": {},
   "source": [
    "* **Vertex** also known as a **node**\n",
    "* If the vertex is named: **key**\n",
    "* If A vertex has additional information, attached to it's key: **payload**"
   ]
  },
  {
   "cell_type": "code",
   "execution_count": null,
   "metadata": {},
   "outputs": [],
   "source": []
  }
 ],
 "metadata": {
  "kernelspec": {
   "display_name": "Python 3",
   "language": "python",
   "name": "python3"
  },
  "language_info": {
   "codemirror_mode": {
    "name": "ipython",
    "version": 3
   },
   "file_extension": ".py",
   "mimetype": "text/x-python",
   "name": "python",
   "nbconvert_exporter": "python",
   "pygments_lexer": "ipython3",
   "version": "3.7.4"
  }
 },
 "nbformat": 4,
 "nbformat_minor": 2
}
