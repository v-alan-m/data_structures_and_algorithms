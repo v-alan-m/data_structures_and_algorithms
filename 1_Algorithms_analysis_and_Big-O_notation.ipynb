{
 "cells": [
  {
   "cell_type": "markdown",
   "metadata": {},
   "source": [
    "# 1. Algorithms analysis and Big-O notation\n",
    "- **The relationship between the number of output values based on the number of input values, whilst the number of input values approaches infinity**\n",
    "    - Describes the performance of an algorithm for the worst-case scenario, based on the execution-time-required or memory-space used \n",
    "    - E.g: O(n): Runtime grows linearly with the input size"
   ]
  },
  {
   "cell_type": "markdown",
   "metadata": {},
   "source": [
    "<table>\n",
    "<tr>\n",
    "    <th><strong>Big-O</strong></th>\n",
    "    <th><strong>Name</strong></th>\n",
    "</tr>\n",
    "<tr>\n",
    "    <td>1</td>\n",
    "    <td>Constant</td>\n",
    "</tr>\n",
    "<tr>\n",
    "    <td>log(n)</td>\n",
    "    <td>Logarithmic</td>\n",
    "</tr>\n",
    "    <tr><td>n</td>\n",
    "    <td>Linear</td>\n",
    "</tr>\n",
    "    <tr><td>nlog(n)</td>\n",
    "    <td>Log Linear</td>\n",
    "</tr>\n",
    "    <tr><td>n^2</td>\n",
    "    <td>Quadratic</td>\n",
    "</tr>\n",
    "    <tr><td>n^3</td>\n",
    "    <td>Cubic</td>\n",
    "</tr>\n",
    "    <tr><td>2^n</td>\n",
    "    <td>Exponential</td>\n",
    "</tr>\n",
    "</table>"
   ]
  },
  {
   "cell_type": "code",
   "execution_count": null,
   "metadata": {},
   "outputs": [],
   "source": [
    "from math import log\n",
    "import numpy as np\n",
    "import matplotlib.pyplot as plt\n",
    "%matplotlib inline\n",
    "plt.style.use('bmh')\n",
    "\n",
    "# Set up runtime comparisons\n",
    "n = np.linspace(1,10,1000)\n",
    "labels = ['Constant','Logarithmic','Linear','Log Linear','Quadratic','Cubic','Exponential']\n",
    "big_o = [np.ones(n.shape),np.log(n),n,n*np.log(n),n**2,n**3,2**n]\n",
    "\n",
    "# Plot setup\n",
    "plt.figure(figsize=(12,10))\n",
    "plt.ylim(0,50)\n",
    "\n",
    "for i in range(len(big_o)):\n",
    "    plt.plot(n,big_o[i],label = labels[i])\n",
    "\n",
    "\n",
    "plt.legend(loc=0)\n",
    "plt.ylabel('Relative Runtime')\n",
    "plt.xlabel('n')"
   ]
  },
  {
   "cell_type": "code",
   "execution_count": null,
   "metadata": {},
   "outputs": [],
   "source": [
    "def comp(lst):\n",
    "    '''\n",
    "    This function prints the first item O(1)\n",
    "    Then is prints the first 1/2 of the list O(n/2)\n",
    "    Then prints a string 10 times O(10)\n",
    "    '''\n",
    "    print(lst[0])\n",
    "    \n",
    "    midpoint = int(len(lst)/2)\n",
    "    \n",
    "    for val in lst[:midpoint]:\n",
    "        print(val)\n",
    "        \n",
    "    for x in range(10):\n",
    "        print('number')"
   ]
  },
  {
   "cell_type": "code",
   "execution_count": null,
   "metadata": {},
   "outputs": [],
   "source": [
    "lst = [1,2,3,4,5,6,7,8,9,10]\n",
    "\n",
    "comp(lst)"
   ]
  },
  {
   "cell_type": "markdown",
   "metadata": {},
   "source": [
    "So let's break down the operations here. We can combine each operation to get the total Big-O of the function:\n",
    "\n",
    "$$O(1 + n/2 + 10)$$\n",
    "\n",
    "We can see that as n grows larger the 1 and 10 terms become insignificant and the 1/2 term multiplied against n will also not have much of an effect as n goes towards infinity. This means the function is simply O(n)!"
   ]
  },
  {
   "cell_type": "code",
   "execution_count": null,
   "metadata": {},
   "outputs": [],
   "source": [
    "def printer(n=10):\n",
    "    '''\n",
    "    Prints \"hello world!\" n times\n",
    "    '''\n",
    "    for x in range(n):\n",
    "        print('Hello World!')\n",
    "        \n",
    "printer()"
   ]
  },
  {
   "cell_type": "markdown",
   "metadata": {},
   "source": [
    "- Note how we only assign the 'hello world!' variable once, not every time we print. **So the algorithm has O(1) space complexity and an O(n) time complexity**"
   ]
  },
  {
   "cell_type": "code",
   "execution_count": null,
   "metadata": {},
   "outputs": [],
   "source": [
    "def create_list(n):\n",
    "    new_list = []\n",
    "    \n",
    "    for num in range(n):\n",
    "        new_list.append('new')\n",
    "    \n",
    "    return new_list\n",
    "\n",
    "print create_list(5)"
   ]
  },
  {
   "cell_type": "markdown",
   "metadata": {},
   "source": [
    "- Note how the size of the new_list object scales with the input n. **So the algorithm has O(n) space complexity and an O(n) time complexity**"
   ]
  }
 ],
 "metadata": {
  "kernelspec": {
   "display_name": "Python 3",
   "language": "python",
   "name": "python3"
  },
  "language_info": {
   "codemirror_mode": {
    "name": "ipython",
    "version": 3
   },
   "file_extension": ".py",
   "mimetype": "text/x-python",
   "name": "python",
   "nbconvert_exporter": "python",
   "pygments_lexer": "ipython3",
   "version": "3.7.4"
  }
 },
 "nbformat": 4,
 "nbformat_minor": 2
}
