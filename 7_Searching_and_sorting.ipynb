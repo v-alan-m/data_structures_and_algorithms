{
 "cells": [
  {
   "cell_type": "markdown",
   "metadata": {},
   "source": [
    "# 7. Searching and sorting\n",
    "- Go through all the data and compare the elements"
   ]
  },
  {
   "cell_type": "markdown",
   "metadata": {},
   "source": [
    "## 7.1 Sequential search"
   ]
  },
  {
   "cell_type": "markdown",
   "metadata": {},
   "source": [
    "### 7.1.1 Unordered list"
   ]
  },
  {
   "cell_type": "code",
   "execution_count": null,
   "metadata": {},
   "outputs": [],
   "source": [
    "def seq_search(arr,ele):\n",
    "    pos = 0          # Starting position\n",
    "    found = False    # True when number is found\n",
    "\n",
    "    while pos < len(arr) and not found:\n",
    "        if arr[pos] == ele:\n",
    "            found = True\n",
    "        else:\n",
    "            pos +=1\n",
    "    return found "
   ]
  },
  {
   "cell_type": "code",
   "execution_count": null,
   "metadata": {},
   "outputs": [],
   "source": [
    "arr = [1,2,3,4,5]\n",
    "seq_search(arr,6)"
   ]
  },
  {
   "cell_type": "code",
   "execution_count": null,
   "metadata": {},
   "outputs": [],
   "source": [
    "arr = [1,2,3,4,5]\n",
    "seq_search(arr,3)"
   ]
  },
  {
   "cell_type": "code",
   "execution_count": null,
   "metadata": {},
   "outputs": [],
   "source": [
    "# Check edge cases\n",
    "arr = [1,2,3,4,5]\n",
    "seq_search(arr,1)"
   ]
  },
  {
   "cell_type": "code",
   "execution_count": null,
   "metadata": {},
   "outputs": [],
   "source": [
    "# Check edge cases\n",
    "arr = [1,2,3,4,5]\n",
    "seq_search(arr,5)"
   ]
  },
  {
   "cell_type": "markdown",
   "metadata": {},
   "source": [
    "### 7.1.2 Ordered list"
   ]
  },
  {
   "cell_type": "code",
   "execution_count": null,
   "metadata": {},
   "outputs": [],
   "source": [
    "def seq_search(arr,ele):\n",
    "    '''\n",
    "    Input array must be ordered\n",
    "    '''\n",
    "    \n",
    "    pos = 0          # Starting position\n",
    "    found = False    # True when number is found\n",
    "    stopped = Fasle  # Stop when the value is greate than the target element\n",
    "    \n",
    "    while pos < len(arr) and not found and not stopped:\n",
    "        if arr[pos] == ele:\n",
    "            found = True\n",
    "        else:\n",
    "            if arr[pos] > ele:\n",
    "                stopped = True\n",
    "            else:\n",
    "                pos +=1\n",
    "    \n",
    "    return found "
   ]
  },
  {
   "cell_type": "code",
   "execution_count": null,
   "metadata": {},
   "outputs": [],
   "source": [
    "arr = [1,2,3,4,5,6,7,8,9,10]\n",
    "seq_search(arr,11)"
   ]
  },
  {
   "cell_type": "code",
   "execution_count": null,
   "metadata": {},
   "outputs": [],
   "source": [
    "arr = [1,2,3,4,5,6,7,8,9,10]\n",
    "seq_search(arr,9)"
   ]
  },
  {
   "cell_type": "code",
   "execution_count": null,
   "metadata": {},
   "outputs": [],
   "source": [
    "# Check edge cases\n",
    "arr = [1,2,3,4,5,6,7,8,9,1]\n",
    "seq_search(arr,1)"
   ]
  },
  {
   "cell_type": "code",
   "execution_count": null,
   "metadata": {},
   "outputs": [],
   "source": [
    "# Check edge cases\n",
    "arr = [1,2,3,4,5,6,7,8,9,10]\n",
    "seq_search(arr,10)"
   ]
  },
  {
   "cell_type": "markdown",
   "metadata": {},
   "source": [
    "## 7.2 Binary search\n",
    "- For ordered lists\n",
    "- Will start by examing the middle items\n",
    "    - If the **target item** is:\n",
    "        - **Greater than the middle item**\n",
    "            - The entire lower half is discarded\n",
    "                - Search continues at the new middle-item\n",
    "        - **Less than the middle item**\n",
    "            - The entire upper half is discarded\n",
    "                - Search continues at the new middle-item"
   ]
  },
  {
   "cell_type": "markdown",
   "metadata": {},
   "source": [
    "### 7.2.1 Iteration\n",
    "- In an iteration, variables are reintialised\n",
    "    - first\n",
    "    - last  \n",
    "<br></br>\n",
    "- These values are used to change the value of 'mid' "
   ]
  },
  {
   "cell_type": "code",
   "execution_count": null,
   "metadata": {},
   "outputs": [],
   "source": [
    "def binary_search(arr,ele):\n",
    "    \n",
    "    first = 0\n",
    "    last  = len(arr)-1\n",
    "    found = False\n",
    "\n",
    "    while first <= last and not found:\n",
    "        mid = (first+last)//2\n",
    "        \n",
    "        if ele == arr[mid]:\n",
    "            found = True\n",
    "        elif ele < arr[mid]:\n",
    "                last = mid - 1\n",
    "        elif ele > arr[mid]:\n",
    "                first = mid + 1\n",
    "    \n",
    "        return found"
   ]
  },
  {
   "cell_type": "code",
   "execution_count": null,
   "metadata": {},
   "outputs": [],
   "source": [
    "# Item present\n",
    "arr = [1,2,3,4,5,6,7,8,9,10]\n",
    "binary_search(arr,5)"
   ]
  },
  {
   "cell_type": "code",
   "execution_count": null,
   "metadata": {},
   "outputs": [],
   "source": [
    "# Item not present\n",
    "arr = [1,2,3,4,5,6,7,8,9,10]\n",
    "binary_search(arr,13)"
   ]
  },
  {
   "cell_type": "markdown",
   "metadata": {},
   "source": [
    "### 7.2.2 Recursion\n",
    "- In a recursion the first arguement of the fucntion is reinitialised \n",
    "    - 'mid' is feed back into the function arguement as a list index value \n",
    "        - arr[:mid]\n",
    "        - arr[mid+1:]  \n",
    "<br></br>\n",
    "- The new list with a different length, will change the value of 'mid'"
   ]
  },
  {
   "cell_type": "code",
   "execution_count": 29,
   "metadata": {},
   "outputs": [],
   "source": [
    "def rec_binary_search(arr,ele):\n",
    "    \n",
    "    # Base case\n",
    "    if len(arr) == 0:\n",
    "        return False \n",
    "    \n",
    "    else: \n",
    "\n",
    "        mid = len(arr)//2\n",
    "        \n",
    "        if arr[mid] == ele:\n",
    "            return True\n",
    "        else:\n",
    "            if ele < arr[mid]:\n",
    "                return rec_binary_search(arr[:mid],ele)\n",
    "            else:\n",
    "                return rec_binary_search(arr[mid+1:],ele)\n",
    "    \n",
    "        return found"
   ]
  },
  {
   "cell_type": "code",
   "execution_count": null,
   "metadata": {},
   "outputs": [],
   "source": [
    "# Item present\n",
    "rec_binary_search(arr,3)"
   ]
  },
  {
   "cell_type": "code",
   "execution_count": null,
   "metadata": {},
   "outputs": [],
   "source": [
    "# Item not present\n",
    "rec_binary_search(arr,13)"
   ]
  },
  {
   "cell_type": "markdown",
   "metadata": {},
   "source": [
    "## 7.3 Hashing / Hash table"
   ]
  },
  {
   "cell_type": "markdown",
   "metadata": {},
   "source": [
    "- **Hashing**: \n",
    "    - Building a data structure that can be searched in constant time O(1)  \n",
    "<br></br>\n",
    "- **Hash tables**: \n",
    "    - An array containing all of the keys to search on  \n",
    "<br></br>\n",
    "- **Hash functions**: \n",
    "    - Determines the position of each key in the array   \n",
    "        - Can be any function which always maps the same input to the same output\n",
    "            - Inserting a new value ~ O(1)\n",
    "            - Looking up a new value ~ O(1)\n",
    "    - Hash function methods:\n",
    "        - *Folding method*: \n",
    "            - 6574837601, 6+5+7+4+8+3+7+6+0+1 = 47, 47 % 11 = 3\n",
    "            - **slot_pos = 3**\n",
    "        - *Mid-square method*: \n",
    "            - 44, 44^2 = 1936, 2 central ints = 93, 93 % 11 = 5\n",
    "            - **slot_pos = 5**\n",
    "        - *Non-integer values*: \n",
    "            - cat, use ordinal values, ord('c') = 99, a=97, t=116, cat=312, 312%11=4\n",
    "            - **slot_pos = 4**\n",
    " \n",
    " <br></br>\n",
    "- **Collision resolution**: \n",
    "    - There is nothing which guarantees that the hash function won't produce the same output for two different inputs  \n",
    "        - Unless it's a perfect hash function which is difficult to produce  \n",
    " <br></br>\n",
    "    - Solutions(s):\n",
    "        - **Open addressing**:\n",
    "            - Hash again (**rehash/rehashing**) to find another location with an empty slot\n",
    "                - The *open addressing* technique of systematically visting each slot:\n",
    "                    -  **1 by 1 = linear probing**\n",
    "                        - With linear probing we keep moving down until empty slot\n",
    "                    -  **1 by 1 = quadratic probing**\n",
    "                        - To avoid clustering which is done by skipping slots\n",
    "                            - More evenly distributing the items that cause collisions\n",
    "                        - Rather than using constant 'skip' value\n",
    "                            - Use a rehash function that increments the hash value\n",
    "                                - E.g if first value is = h\n",
    "                                    - Successive values = h+1, h+3, h+5 h+7, h+9\n",
    "                                        - Any sequence of increasingly spaced ints\n",
    "        - ***Separate chaining***: \n",
    "            - Allow each slot to hold a reference to a collection (or chain) of items\n",
    "            - Allows many items to exist in the same location in the hash table\n",
    "                - Each array slot has a linked list\n",
    "            - O(1) to find correct index in the array + a potential linear search down\n",
    "            - If the hash table increases in size then the linear searches will skew the complexity towards O(n)\n",
    "                - The table is then *rehashed*, where:\n",
    "                    - A new larger hash table is created\n",
    "                    - All the data is inserted into the new hash table"
   ]
  },
  {
   "cell_type": "code",
   "execution_count": 141,
   "metadata": {},
   "outputs": [],
   "source": [
    "class HashTable(object):\n",
    "     \n",
    "    def __init__(self,size):\n",
    "            # Sets up slots, data and size\n",
    "            self.size = size\n",
    "            self.slots = [None] * self.size\n",
    "            self.data = [None] * self.size\n",
    "        \n",
    "        \n",
    "    def hashfunction(self,key,size):\n",
    "        # Remainder method\n",
    "        return key % size\n",
    "\n",
    "\n",
    "    def rehash(self,oldhash,size):\n",
    "    # Find the next possible position\n",
    "        return (oldhash + 1) % size\n",
    "\n",
    "\n",
    "    def put(self,key,data):\n",
    "        # Get the hash value\n",
    "        hashvalue = self.hashfunction(key,len(self.slots))\n",
    "\n",
    "        # If slot is empty\n",
    "        if self.slots[hashvalue] == None:\n",
    "            seld.slots[hashbalue] = key\n",
    "            seld.data[hashbalue] = data\n",
    "\n",
    "        # If the key already exists, replace the old value\n",
    "        elif self.slots[hashvalue] == key:\n",
    "            self.data[hashvalue] == data\n",
    "\n",
    "        else: # Find the next available slot\n",
    "            nextslot = self.rehash(hashvalue,len(self.slots))\n",
    "\n",
    "             # If the slot is not empty, and is not the key\n",
    "            while self.slots[nextslot] != None and self.slots[nextslot] != key:\n",
    "                nextslot = self.rehash(nextslot,len(self.slots))\n",
    "\n",
    "            # Set new key and data, if element is None\n",
    "            if self.slots[nextslot] == None:\n",
    "                self.slots[nextslot] = key\n",
    "                self.data[nextslot] = data\n",
    "\n",
    "            # Set new data, if element is equal is key\n",
    "            else:\n",
    "                self.data[nextslot] = data\n",
    "\n",
    "\n",
    "    def get(self,key):\n",
    "        '''\n",
    "        Getting items given a key\n",
    "        '''\n",
    "        # Set up variables for the search\n",
    "        startslot = self.hashfunction(key,len(self.slots))\n",
    "        data = None\n",
    "        # Stops the while loop from searching after passing over all the elements once\n",
    "        stop = False\n",
    "        found = False\n",
    "        # The starting position of the search\n",
    "        position = startslot\n",
    "        \n",
    "        # The while loop will continue to cycle through all the elements in the list\n",
    "            # Given element is empt, not key or unsearched\n",
    "        while self.slots[position] != None and not found and not stop:\n",
    "            if self.slots[position] == key:\n",
    "                data = self.data[position]\n",
    "                found = True\n",
    "            else:\n",
    "                position = self.rehash(position,len(self.slots))\n",
    "                # Until returning to the first element that has already been checked\n",
    "                if position == startslot:\n",
    "                    # Make stop = True. So that the whole loop will exist\n",
    "                    stop = True\n",
    "                    \n",
    "        return data\n",
    "\n",
    "    # Allows for list indexing to be used to set a key and data item\n",
    "    def __setitem__(self,key,data):\n",
    "        return self.put(key,data)\n",
    "\n",
    "    # Allows for list indexing to be used to return the data element for a given key\n",
    "    def __getitem__(self,key):\n",
    "        return self.get(key)"
   ]
  },
  {
   "cell_type": "markdown",
   "metadata": {},
   "source": [
    "## 7.4 Bubble sort\n",
    "- Makes multiple passes through a list\n",
    "- Compares adjacent items \n",
    "- Values sare moved if they are out of order\n",
    "- The numbers are sorted in ascending order\n",
    "    - With the largest value as the last item"
   ]
  },
  {
   "cell_type": "markdown",
   "metadata": {},
   "source": [
    "<img src='pics/bubble_sort.png'>"
   ]
  },
  {
   "cell_type": "code",
   "execution_count": null,
   "metadata": {},
   "outputs": [],
   "source": [
    "def bubble_sort(arr):\n",
    "    for n in range(len(arr)-1,0,-1):\n",
    "        for k in range(n):\n",
    "            if arr[k] > arr[k+1]:\n",
    "                temp = arr[k]\n",
    "                arr[k] = arr[k+1]\n",
    "                arr[k+1] = temp\n",
    "    \n",
    "    return print(arr)"
   ]
  },
  {
   "cell_type": "code",
   "execution_count": null,
   "metadata": {},
   "outputs": [],
   "source": [
    "arr_b = [5,6,4,8,2,3]\n",
    "bubble_sort(arr_b)"
   ]
  },
  {
   "cell_type": "markdown",
   "metadata": {},
   "source": [
    "## 7.5 Selection sort\n",
    "https://stackoverflow.com/questions/15799034/insertion-sort-vs-selection-sort\n",
    "- In comaparison to the bubble sort, only one swap is made for every pass\n",
    "    - Rather than n-1 swaps for every pass\n",
    "- Looks for the largest value at every pass\n",
    "- Will place the item in position so that the numbers will be in ascending order\n",
    "    - With the largest value as the last item"
   ]
  },
  {
   "cell_type": "markdown",
   "metadata": {},
   "source": [
    "<img src='pics/selection_sort.png'>"
   ]
  },
  {
   "cell_type": "code",
   "execution_count": 5,
   "metadata": {},
   "outputs": [],
   "source": [
    " def selection_sort(arr):\n",
    "        \n",
    "        for sorted_n in range(len(arr) - 1, 0, -1):\n",
    "            current_max = 0\n",
    "            \n",
    "            for unsorted_n in range(1, sorted_n + 1):\n",
    "                if arr[unsorted_n] > arr[current_max]:\n",
    "                    current_max = unsorted_n\n",
    "            \n",
    "            temp = arr[sorted_n]\n",
    "            arr[sorted_n] = arr[current_max]\n",
    "            arr[current_max] = temp\n",
    "            \n",
    "        return print(arr)"
   ]
  },
  {
   "cell_type": "code",
   "execution_count": 6,
   "metadata": {},
   "outputs": [
    {
     "name": "stdout",
     "output_type": "stream",
     "text": [
      "[3, 4, 5, 6]\n"
     ]
    }
   ],
   "source": [
    "arr_s = [5, 3, 4, 6]\n",
    "selection_sort(arr_s)"
   ]
  },
  {
   "cell_type": "markdown",
   "metadata": {},
   "source": [
    "## 7.6 Insertion sort\n",
    "https://stackoverflow.com/questions/15799034/insertion-sort-vs-selection-sort\n",
    "- *Selection sort*: The **comparions** take place in the **unsorted** part of the list\n",
    "- *Insertion sort*: The **comparions** take place in the **sorted** part of the list  \n",
    "<br></br>\n",
    "- *In comparison to a selection sort*: An insertion sort compares the next item, with the items found in the sorted list\n",
    "    - The item is placed into the sorted part, in order  \n",
    "<br></br>\n",
    "- In some cases insertion sort can be advantages, as it shifts the values rather than exchanging the values\n",
    "    - Takes up 1/3 of the processing power as only one assignment takes place\n",
    "    - In contrast to 3 in bubble and selections sorts"
   ]
  },
  {
   "cell_type": "markdown",
   "metadata": {},
   "source": [
    "<img src='pics/insertion_sort.png'>"
   ]
  },
  {
   "cell_type": "code",
   "execution_count": 81,
   "metadata": {},
   "outputs": [],
   "source": [
    "def insertion_sort(arr):\n",
    "    \n",
    "    for i in range(1, len(arr)):\n",
    "        current_value = arr[i]\n",
    "        position = i\n",
    "        \n",
    "        # The while loop is used to allow for multiple swaps to be made\n",
    "            # As, the value for position is fed back into the statement to be compared\n",
    "        while position > 0 and arr[position - 1] > current_value:\n",
    "            arr[position] = arr[position - 1]\n",
    "            position -= 1\n",
    "        \n",
    "        arr[position] = current_value\n",
    "    \n",
    "    return arr"
   ]
  },
  {
   "cell_type": "code",
   "execution_count": 82,
   "metadata": {},
   "outputs": [
    {
     "data": {
      "text/plain": [
       "[1, 2, 3, 4, 5, 6, 7, 8, 9]"
      ]
     },
     "execution_count": 82,
     "metadata": {},
     "output_type": "execute_result"
    }
   ],
   "source": [
    "arr_i = [1, 9, 6, 2, 5, 7, 4, 8, 3]\n",
    "insertion_sort(arr_i)"
   ]
  },
  {
   "cell_type": "markdown",
   "metadata": {},
   "source": [
    "## 7.7 Shell sort\n",
    " \n",
    "<br></br>\n",
    "* Improves on the insertion sort by breaking the original list into a number of smaller sublists\n",
    "* The sublists are made by choosing elements at a specific interval from each other\n",
    "* These sublists are sorted using insertion sort\n",
    "\n",
    "<br></br>\n",
    "* When using insertion sort:\n",
    "    - If the item to be sorted is near the opposite end of the list\n",
    "    - The item would be swapped with every item between itself and the sorted position\n",
    "* With the shell sort\n",
    "    - Only the items in the sublists are sorted\n",
    "    - Items can move a far larger distances along the array with far lower swaps\n",
    "    - Thereby being a less time complex operation\n",
    "    - If there are any unsorted items a final insertion sort on the list takes place\n",
    "    - However, by now only a few items will be out of place\n",
    "        - So the time complexity will not be significantly affected by this last sort"
   ]
  },
  {
   "cell_type": "markdown",
   "metadata": {},
   "source": [
    "* Create the sublists\n",
    "<br></br>\n",
    "<img src='pics/shell_sort_1.png'>\n",
    "<br></br>\n",
    "* Sort the sublists\n",
    "<br></br>\n",
    "<img src='pics/shell_sort_2.png'>\n",
    "<br></br>\n",
    "* The final insertion sort will have an increment of 1 (the standard insertion sort)\n",
    "<br></br>\n",
    "<img src='pics/shell_sort_3.png'>"
   ]
  },
  {
   "cell_type": "code",
   "execution_count": 83,
   "metadata": {},
   "outputs": [],
   "source": [
    "# In this example  after comparing all the sublists for a given gap, the gap will half\n",
    "def shell_sort(arr):\n",
    "    # The number of comparisons being made, based on the fact the list is split\n",
    "    sublist_gap = len(arr) // 2\n",
    "    # As long as the gap is greater than 0, stop after comparing at a gap of 1 \n",
    "    while sublist_gap > 0:\n",
    "        # Start is used to indicate the number of comparisons\n",
    "        for start in range(sublist_gap):\n",
    "            gap_insertion_sort(arr,start,sublist_gap)\n",
    "            #print(\"When gap size is: \", sublist_gap)\n",
    "            #print(\"List: \" , arr)\n",
    "        # Reduce the gap by half, until the increment (gap) between comparisons is 1\n",
    "        sublist_gap = sublist_gap // 2\n",
    "        \n",
    "def gap_insertion_sort(arr,start,gap):\n",
    "    # Iterate through the sublist that is created using the gaps\n",
    "    for i in range(start+gap,len(arr),gap):\n",
    "        current_value = arr[i]\n",
    "        position = i\n",
    "        # The first comparison to be made after crossing the first gap (position >= gap)\n",
    "        # The items are to increse in value towards the end of the list\n",
    "            # close-to-beginning = arr[position-gap] \n",
    "            # clsoe-to-end = current_value \n",
    "            # If item close-to-beginning > clsoe-to-end, swap items to sort correctly\n",
    "        # The while loop is used to allow for multiple swaps to be made\n",
    "            # As, the value for position is fed back into the statement to be compared\n",
    "        while position >= gap and arr[position - gap] > current_value:\n",
    "            # If the condition above is met swap the item values\n",
    "            arr[position] = arr[position - gap]\n",
    "            # After making the swap get the index position of the other item in the swap\n",
    "            position = position - gap\n",
    "        # If swap is made, the other item is placed into the pos cloest to the beginning\n",
    "        # If the swap is not made, the position of the current_value is unchanged\n",
    "        arr[position] = current_value"
   ]
  },
  {
   "cell_type": "code",
   "execution_count": 84,
   "metadata": {},
   "outputs": [
    {
     "data": {
      "text/plain": [
       "[2, 4, 6, 7, 21, 23, 24, 45, 45, 67, 90]"
      ]
     },
     "execution_count": 84,
     "metadata": {},
     "output_type": "execute_result"
    }
   ],
   "source": [
    "arr = [45,67,23,45,21,24,7,2,6,4,90]\n",
    "shell_sort(arr)\n",
    "arr"
   ]
  },
  {
   "cell_type": "markdown",
   "metadata": {},
   "source": [
    "## 7.8 Merge sort"
   ]
  },
  {
   "cell_type": "markdown",
   "metadata": {},
   "source": [
    "* A recursive algorithm that continually splits a list in half\n",
    "\n",
    "<br></br>\n",
    "* If the list is more than one item:\n",
    "    - It is plit into half \n",
    "    - We then recursively invoke merge sort on both halves\n",
    "    \n",
    "<br></br>\n",
    "* If the list is empty or has one item:\n",
    "    - It is sorted by definition as there are no items to sort it with \n",
    "    \n",
    "<br></br>\n",
    "* Once the two halves are sorted, they are **merged**\n",
    "    - Taking two smaller sorted lists and combining them into a single sorted list"
   ]
  },
  {
   "cell_type": "markdown",
   "metadata": {},
   "source": [
    "* Split\n",
    "<br></br>\n",
    "<img src='pics/merge_sort_1.png'>\n",
    "<br></br>\n",
    "* Order and merge\n",
    "<br></br>\n",
    "<img src='pics/merge_sort_2.png'>\n",
    "<br></br>\n",
    "* Animation\n",
    "<br></br>\n",
    "![SegmentLocal](pics/Merge-sort-animation.gif \"segment\")\n",
    "* Double recusion\n",
    "<br></br>\n",
    "<img src='pics/merge_sort_merge.png'>"
   ]
  },
  {
   "cell_type": "raw",
   "metadata": {},
   "source": [
    "Example to help explain the recursive split-and-merging action:\n",
    "merge_sort([3, 1, 0, 4, 2])\n",
    "    merge_sort([3, 1])\n",
    "        merge_sort([3])\n",
    "        merge_sort([1])\n",
    "        <merge sort action> -> [1,3]\n",
    "    \n",
    "    merge_sort([0, 4, 2])\n",
    "        merge_sort([0])\n",
    "        merge_sort(4,2)\n",
    "            merge_sort([4])\n",
    "            merge_sort([2])\n",
    "            <merge sort action> -> [2,4]\n",
    "        <merge sort action> -> [0,2,4]\n",
    "        \n",
    "    <merge sort action> -> [0,1,2,3,4]"
   ]
  },
  {
   "cell_type": "code",
   "execution_count": 1,
   "metadata": {},
   "outputs": [],
   "source": [
    "def merge_sort(arr):\n",
    "    \n",
    "    # The base case, to terminate the splitting process\n",
    "        # If arguement is a list less than 2 items then the if statement does not run\n",
    "            # The splitting will then stop when only one items is left in the list\n",
    "        # In one level up (the previous level in the call stack)\n",
    "            # The merge_sort(left_half) has no further actions to run\n",
    "                # So we move onto the next line: merge_sort(right_half)\n",
    "    if len(arr) > 1:\n",
    "        mid = len(arr) // 2\n",
    "        left_half = arr[:mid]\n",
    "        right_half = arr[mid:]\n",
    "        \n",
    "        # The elements in the left_half will keep on splitting\n",
    "            # Until the elements are in their own list\n",
    "                # The left_half is passed in as arr recurrisively until the base case\n",
    "        print('Left half:    ',left_half)\n",
    "        merge_sort(left_half)\n",
    "        \n",
    "        # After all the left_half elements are split in their own list\n",
    "            # The same process repeats for the all the elements in the right_half\n",
    "                # The right_half is passed in as arr recurrisively until the base case\n",
    "        print('Right half:   ',right_half)\n",
    "        merge_sort(right_half)\n",
    "        \n",
    "        i = 0\n",
    "        j = 0\n",
    "        k = 0\n",
    "        \n",
    "        # 'and' prevents and out of bounds errors when indexing throught both the lists\n",
    "        while i < len(left_half) and j < len(right_half):\n",
    "            if left_half[i] < right_half[j]:\n",
    "                arr[k] = left_half[i]\n",
    "                i += 1\n",
    "            else:\n",
    "                arr[k] = right_half[j]\n",
    "                j += 1\n",
    "            # After the smallest value for a given 'k' index position is set\n",
    "            k += 1 # Point to the next position in the result arr by using k\n",
    "        \n",
    "        # If the left_half has more elements than the right_half\n",
    "        # If 'i' increments beyond the lenght of the left_half, the while loop exits\n",
    "            # However, if an item is still to be sorted in the right_half\n",
    "                # It is accounted for using this loop and inserted into arr[k] unsorted\n",
    "        while i < len(left_half):\n",
    "            arr[k] = left_half[i]\n",
    "            i += 1\n",
    "            k += 1\n",
    "        \n",
    "        # If the right_half has more elements than the left_half\n",
    "        # If 'j' increments beyond the lenght of the right_half, the while loop exits\n",
    "            # However, if an item is still to be sorted in the left_half\n",
    "                # It is accounted for using this loop and inserted into arr[k] unsorted\n",
    "        while j < len(right_half):\n",
    "            arr[k] = right_half[j]\n",
    "            j += 1\n",
    "            k += 1\n",
    "        \n",
    "        print('\\nMerged list:  ',arr, '\\n')\n",
    "    \n",
    "    return arr"
   ]
  },
  {
   "cell_type": "code",
   "execution_count": 2,
   "metadata": {},
   "outputs": [
    {
     "name": "stdout",
     "output_type": "stream",
     "text": [
      "Left half:     [54, 26, 93, 17]\n",
      "Left half:     [54, 26]\n",
      "Left half:     [54]\n",
      "Right half:    [26]\n",
      "\n",
      "Merged list:   [26, 54] \n",
      "\n",
      "Right half:    [93, 17]\n",
      "Left half:     [93]\n",
      "Right half:    [17]\n",
      "\n",
      "Merged list:   [17, 93] \n",
      "\n",
      "\n",
      "Merged list:   [17, 26, 54, 93] \n",
      "\n",
      "Right half:    [77, 31, 44, 55, 20]\n",
      "Left half:     [77, 31]\n",
      "Left half:     [77]\n",
      "Right half:    [31]\n",
      "\n",
      "Merged list:   [31, 77] \n",
      "\n",
      "Right half:    [44, 55, 20]\n",
      "Left half:     [44]\n",
      "Right half:    [55, 20]\n",
      "Left half:     [55]\n",
      "Right half:    [20]\n",
      "\n",
      "Merged list:   [20, 55] \n",
      "\n",
      "\n",
      "Merged list:   [20, 44, 55] \n",
      "\n",
      "\n",
      "Merged list:   [20, 31, 44, 55, 77] \n",
      "\n",
      "\n",
      "Merged list:   [17, 20, 26, 31, 44, 54, 55, 77, 93] \n",
      "\n"
     ]
    },
    {
     "data": {
      "text/plain": [
       "[17, 20, 26, 31, 44, 54, 55, 77, 93]"
      ]
     },
     "execution_count": 2,
     "metadata": {},
     "output_type": "execute_result"
    }
   ],
   "source": [
    "arr = [54,26,93,17,77,31,44,55,20]\n",
    "merge_sort(arr)"
   ]
  },
  {
   "cell_type": "markdown",
   "metadata": {},
   "source": [
    "* As each merge step halves the list size, there are **log(n)** merge steps\n",
    "* At each merge step, each item is compared, to **n** work is done \n",
    "* Time and space complexity = **O(n log n**)"
   ]
  },
  {
   "cell_type": "markdown",
   "metadata": {},
   "source": [
    "* Merge sort is more efficient and works faster than quick sort, for larger sized arrays or datasets\n",
    "* Quick sort is more efficient and works faster than merge sort, for smaller size array or datasets"
   ]
  },
  {
   "cell_type": "markdown",
   "metadata": {},
   "source": [
    "## 7.9 Quick sort"
   ]
  },
  {
   "cell_type": "markdown",
   "metadata": {},
   "source": [
    "* Uses divide and conquer as done in merge sort\n",
    "    - While not using additional storage\n",
    "* As a trade off, it is possible that the list may not be split in half\n",
    "     - Which pushing the time complexity from **O(log n)** to **O(n)**\n",
    "         - Which will decrease performance, by increasing the time taken to sort\n",
    "         \n",
    " <br></br>\n",
    " * First select a value which is called the **pivot value**\n",
    " * The pivot value will be used to split the list\n",
    "     - Values lower to the left and values larger than it to the right of it\n",
    " * The the pivot is moved to a new location, it is called the **split point**\n",
    "     - Which is used for subsequents called, to the quick sort\n",
    " * The **partion** will:\n",
    "     - Find the split point\n",
    "     - Values lower than the value at the split point will be moved to the left\n",
    "     - Values greater than the value at the split point will be moved to the right\n",
    "         - Move the leftmark until a value greater than the pivot is found\n",
    "         - Move the rightmark until a value less than the pivot is found\n",
    "             - Switch this value around\n",
    "     - Split found once the position of rightmark is less than that of the leftmark"
   ]
  },
  {
   "cell_type": "markdown",
   "metadata": {},
   "source": [
    "* 54 is chosen to be the first pivot point\n",
    "<img src='pics/quick_sort_1.png'>\n",
    "<br></br>\n",
    "* The partion process \n",
    "<img src='pics/quick_sort_2.png'>\n",
    "<br></br>"
   ]
  },
  {
   "cell_type": "code",
   "execution_count": 21,
   "metadata": {},
   "outputs": [
    {
     "name": "stdout",
     "output_type": "stream",
     "text": [
      "[1, 2, 3, 4, 4, 5, 6, 7, 11, 12]\n"
     ]
    }
   ],
   "source": [
    "def quick_sort(arr,first=0,last=len(arr) - 1):\n",
    "    \n",
    "    quick_sort_helper(arr,first,last)\n",
    "    \n",
    "    # Base case, to terminate the recursion\n",
    "    if first < last:\n",
    "        split_point = split(arr,first,last)\n",
    "        \n",
    "        quick_sort(arr,first,split_point - 1)\n",
    "        quick_sort(arr,split_point + 1,last)\n",
    "    \n",
    "        \n",
    "def split(arr,first,last):\n",
    "    \n",
    "    pivot_value = arr[first]\n",
    "    \n",
    "    left_mark = first + 1\n",
    "    right_mark = last\n",
    "    \n",
    "    done = False\n",
    "    \n",
    "    while not done:\n",
    "        \n",
    "        while left_mark <= right_mark and arr[left_mark] <= pivot_value:\n",
    "            left_mark += 1\n",
    "            \n",
    "        while right_mark >= left_mark and arr[right_mark] >= pivot_value:\n",
    "            right_mark -= 1\n",
    "        \n",
    "        # Exit the main while loop\n",
    "        # Return right_mark to create a new pivot_value for the new split\n",
    "        if right_mark < left_mark:\n",
    "            done = True\n",
    "            \n",
    "        else: # Make the swap if:\n",
    "            # The left mark is greater than the pivot_value, and\n",
    "            # The right mark is less than the pivot_value\n",
    "            arr[left_mark], arr[right_mark] = arr[right_mark], arr[left_mark]\n",
    "            \n",
    "    # After the left_mark and right_mark cross \n",
    "        # Switch the pivot with the current right_kark value\n",
    "    # So that the pivot_value is in the centre of the current partion\n",
    "        # As we know all the items after this position will be greater than the pivot\n",
    "    arr[first], arr[right_mark] = arr[right_mark], arr[first]\n",
    "    \n",
    "    return right_mark\n",
    "\n",
    "if __name__ == '__main__':\n",
    "    arr = [2,5,4,6,7,3,1,4,12,11]\n",
    "    quick_sort(arr)\n",
    "    print(arr)"
   ]
  },
  {
   "cell_type": "code",
   "execution_count": 22,
   "metadata": {},
   "outputs": [
    {
     "data": {
      "text/plain": [
       "[1, 2, 3, 4, 4, 5, 6, 7, 11, 12]"
      ]
     },
     "execution_count": 22,
     "metadata": {},
     "output_type": "execute_result"
    }
   ],
   "source": [
    "arr = [2,5,4,6,7,3,1,4,12,11]\n",
    "quick_sort(arr)\n",
    "arr"
   ]
  },
  {
   "cell_type": "markdown",
   "metadata": {},
   "source": [
    "### 7.10 Merge Sort vs Quick Sort\n",
    "* The merge sort algorithm performs in the exact same and precise manner regardless of the number of elements involved in the sorting\n",
    "* It works fine well with the large data set\n",
    "* Quick sort is faster than merge sort in some cases such as for small data sets\n",
    "* Merge sort requires additional memory space to store the auxiliary arrays, **O(n)**\n",
    "    - On the other hand, the quick sort doesn’t require much space for extra storage\n",
    "* Merge sort is more efficient than quick sort\n",
    "* The quick sort is internal sorting method where the data that is to be sorted is adjusted at a time in main memory\n",
    "    - Conversely, the merge sort is external sorting method\n",
    "        - Where the data that is to be sorted cannot be accommodated in the memory, at the same time. So some has to be kept in the auxiliary memory\n",
    "\n",
    "<br></br>\n",
    "### 7.10.1 Conculsion\n",
    "* The quick sort is faster for smaller lists but is inefficient for larger lists. \n",
    "* It also performs a lot of comparisons as compared to merge sort. \n",
    "* Although, merge sort requires less comparison it needs an additional memory space of **0(n)**, for storing the extra array while quick sort needs space of **O(log n)**  \n",
    "\n",
    "<br></br>\n",
    "### 7.10.2 Considerations\n",
    "**Why Quick Sort is preferred over MergeSort for sorting Arrays**\n",
    "* Quick Sort in its general form is an in-place sort (i.e. it doesn’t require any extra storage) whereas merge sort requires O(N) extra storage, N denoting the array size which may be quite expensive. Allocating and de-allocating the extra space used for merge sort increases the running time of the algorithm. Comparing average complexity we find that both type of sorts have O(NlogN) average complexity but the constants differ. For arrays, merge sort loses due to the use of extra O(N) storage space.  \n",
    "<br></br>\n",
    "\n",
    "**Why MergeSort is preferred over QuickSort for Linked Lists?**\n",
    "* In case of linked lists the case is different mainly due to difference in memory allocation of arrays and linked lists. Unlike arrays, linked list nodes may not be adjacent in memory. Unlike array, in linked list, we can insert items in the middle in O(1) extra space and O(1) time. Therefore merge operation of merge sort can be implemented without extra space for linked lists.  \n",
    "<br></br>\n",
    "* In arrays, we can do random access as elements are continuous in memory. Let us say we have an integer (4-byte) array A and let the address of A[0] be x then to access A[i], we can directly access the memory at (x + i*4). Unlike arrays, we can not do random access in linked list. Quick Sort requires a lot of this kind of access. In linked list to access i’th index, we have to travel each and every node from the head to i’th node as we don’t have continuous block of memory. Therefore, the overhead increases for quick sort. Merge sort accesses data sequentially and the need of random access is low."
   ]
  },
  {
   "cell_type": "code",
   "execution_count": null,
   "metadata": {},
   "outputs": [],
   "source": []
  }
 ],
 "metadata": {
  "kernelspec": {
   "display_name": "Python 3",
   "language": "python",
   "name": "python3"
  },
  "language_info": {
   "codemirror_mode": {
    "name": "ipython",
    "version": 3
   },
   "file_extension": ".py",
   "mimetype": "text/x-python",
   "name": "python",
   "nbconvert_exporter": "python",
   "pygments_lexer": "ipython3",
   "version": "3.7.4"
  },
  "toc": {
   "base_numbering": 1,
   "nav_menu": {},
   "number_sections": true,
   "sideBar": true,
   "skip_h1_title": false,
   "title_cell": "Table of Contents",
   "title_sidebar": "Contents",
   "toc_cell": false,
   "toc_position": {},
   "toc_section_display": true,
   "toc_window_display": false
  }
 },
 "nbformat": 4,
 "nbformat_minor": 2
}
